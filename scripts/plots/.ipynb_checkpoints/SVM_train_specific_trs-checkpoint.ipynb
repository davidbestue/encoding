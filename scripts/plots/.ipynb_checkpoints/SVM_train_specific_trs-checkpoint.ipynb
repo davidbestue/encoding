{
 "cells": [
  {
   "cell_type": "code",
   "execution_count": 25,
   "metadata": {},
   "outputs": [
    {
     "name": "stdout",
     "output_type": "stream",
     "text": [
      "The autoreload extension is already loaded. To reload it, use:\n",
      "  %reload_ext autoreload\n"
     ]
    }
   ],
   "source": [
    "# Load all dictionaries\n",
    "%matplotlib inline\n",
    "%load_ext autoreload\n",
    "%autoreload 2\n",
    "\n",
    "import os\n",
    "import numpy as np\n",
    "import pandas as pd\n",
    "import matplotlib.pyplot as plt\n",
    "import seaborn as sns\n",
    "import statsmodels.api as sm\n",
    "from sklearn.model_selection import train_test_split\n",
    "import statsmodels.formula.api as smf\n",
    "import scikit_posthocs as sp\n",
    "from scipy.stats import wilcoxon\n",
    "from heatmaps_functions import *\n",
    "\n",
    "sns.set_context(\"poster\", font_scale=1.1)\n",
    "sns.set_style(\"ticks\")"
   ]
  },
  {
   "cell_type": "code",
   "execution_count": 22,
   "metadata": {},
   "outputs": [],
   "source": [
    "path_save_signal ='C:\\\\Users\\\\David\\\\Desktop\\\\KI_Desktop\\\\data_reconstructions\\\\SVM\\\\cross_target_close_stim.xlsx'"
   ]
  },
  {
   "cell_type": "code",
   "execution_count": 30,
   "metadata": {},
   "outputs": [
    {
     "ename": "ImportError",
     "evalue": "cannot import name 'heatmap__2_02'",
     "output_type": "error",
     "traceback": [
      "\u001b[1;31m---------------------------------------------------------------------------\u001b[0m",
      "\u001b[1;31mImportError\u001b[0m                               Traceback (most recent call last)",
      "\u001b[1;32m<ipython-input-30-8abdb100cb55>\u001b[0m in \u001b[0;36m<module>\u001b[1;34m()\u001b[0m\n\u001b[1;32m----> 1\u001b[1;33m \u001b[1;32mfrom\u001b[0m \u001b[0mheatmaps_functions\u001b[0m \u001b[1;32mimport\u001b[0m \u001b[0mheatmap__2_02\u001b[0m\u001b[1;33m\u001b[0m\u001b[0m\n\u001b[0m",
      "\u001b[1;31mImportError\u001b[0m: cannot import name 'heatmap__2_02'"
     ]
    }
   ],
   "source": [
    "from heatmaps_functions import heatmap__2_02\n"
   ]
  },
  {
   "cell_type": "code",
   "execution_count": 29,
   "metadata": {},
   "outputs": [
    {
     "ename": "NameError",
     "evalue": "name 'heatmap__1_7' is not defined",
     "output_type": "error",
     "traceback": [
      "\u001b[1;31m---------------------------------------------------------------------------\u001b[0m",
      "\u001b[1;31mNameError\u001b[0m                                 Traceback (most recent call last)",
      "\u001b[1;32m<ipython-input-29-a8f5768221f4>\u001b[0m in \u001b[0;36m<module>\u001b[1;34m()\u001b[0m\n\u001b[1;32m----> 1\u001b[1;33m \u001b[0mheatmap__1_7\u001b[0m\u001b[1;33m\u001b[0m\u001b[0m\n\u001b[0m",
      "\u001b[1;31mNameError\u001b[0m: name 'heatmap__1_7' is not defined"
     ]
    }
   ],
   "source": [
    "heatmap__1_7"
   ]
  },
  {
   "cell_type": "code",
   "execution_count": 15,
   "metadata": {},
   "outputs": [
    {
     "ename": "NameError",
     "evalue": "name 'heatmap__1_7' is not defined",
     "output_type": "error",
     "traceback": [
      "\u001b[1;31m---------------------------------------------------------------------------\u001b[0m",
      "\u001b[1;31mNameError\u001b[0m                                 Traceback (most recent call last)",
      "\u001b[1;32m<ipython-input-15-ede143284b16>\u001b[0m in \u001b[0;36m<module>\u001b[1;34m()\u001b[0m\n\u001b[1;32m----> 1\u001b[1;33m \u001b[0mfunctions\u001b[0m\u001b[1;33m=\u001b[0m\u001b[1;33m[\u001b[0m\u001b[0mheatmap__1_02\u001b[0m\u001b[1;33m,\u001b[0m\u001b[0mheatmap__1_7\u001b[0m\u001b[1;33m,\u001b[0m\u001b[0mheatmap__2_02\u001b[0m\u001b[1;33m,\u001b[0m\u001b[0mheatmap__2_7\u001b[0m\u001b[1;33m]\u001b[0m\u001b[1;33m\u001b[0m\u001b[0m\n\u001b[0m\u001b[0;32m      2\u001b[0m \u001b[0mdf_dec\u001b[0m\u001b[1;33m=\u001b[0m\u001b[1;33m[\u001b[0m\u001b[1;33m]\u001b[0m\u001b[1;33m\u001b[0m\u001b[0m\n\u001b[0;32m      3\u001b[0m \u001b[1;33m\u001b[0m\u001b[0m\n\u001b[0;32m      4\u001b[0m \u001b[1;32mfor\u001b[0m \u001b[0marea\u001b[0m \u001b[1;32min\u001b[0m \u001b[1;33m[\u001b[0m\u001b[1;34m'visual'\u001b[0m\u001b[1;33m,\u001b[0m \u001b[1;34m'ips'\u001b[0m\u001b[1;33m,\u001b[0m \u001b[1;34m'pfc'\u001b[0m\u001b[1;33m]\u001b[0m\u001b[1;33m:\u001b[0m\u001b[1;33m\u001b[0m\u001b[0m\n\u001b[0;32m      5\u001b[0m     \u001b[0mprint\u001b[0m\u001b[1;33m(\u001b[0m\u001b[1;34m''\u001b[0m\u001b[1;33m)\u001b[0m\u001b[1;33m\u001b[0m\u001b[0m\n",
      "\u001b[1;31mNameError\u001b[0m: name 'heatmap__1_7' is not defined"
     ]
    }
   ],
   "source": [
    "functions=[heatmap__1_02,heatmap__1_7,heatmap__2_02,heatmap__2_7]\n",
    "df_dec=[]\n",
    "\n",
    "for area in ['visual', 'ips', 'pfc']:\n",
    "    print('')\n",
    "    print('')\n",
    "    print('')\n",
    "    print('')\n",
    "    #\n",
    "    for idx, condit in enumerate(['1_0.2', '1_7', '2_0.2', '2_7']):\n",
    "        f = functions[idx]\n",
    "        subjects=['b001', 'n001', 'r001', 'd001', 'l001', 's001']\n",
    "        lst = [subjects[i] + '_' + area + '_' + condit for i in range(len(subjects))]\n",
    "        dfs=[]\n",
    "        for idx, sheets in enumerate(lst):\n",
    "            Df = pd.read_excel(path_save_signal, sheet_name=sheets)\n",
    "            if condit == '1_0.2':\n",
    "                dec_value = np.round(Df.iloc[3:7].values.mean(), 3)\n",
    "                df_dec.append([dec_value, area, condit, subjects[idx]])\n",
    "            if condit == '1_7':\n",
    "                dec_value = np.round(Df.iloc[3:5].values.mean(), 3)\n",
    "                df_dec.append([dec_value, area, condit, subjects[idx]])\n",
    "            if condit == '2_0.2':\n",
    "                dec_value = np.round(Df.iloc[3:7].values.mean(), 3)\n",
    "                df_dec.append([dec_value, area, condit, subjects[idx]])\n",
    "            if condit == '2_7':\n",
    "                dec_value = np.round(Df.iloc[6:10].values.mean(), 3)\n",
    "                df_dec.append([dec_value, area, condit, subjects[idx]])\n",
    "            dfs.append(Df)\n",
    "\n",
    "        ###\n",
    "        Df= pd.concat(dfs).mean(level=0)\n",
    "        title= 'o='  + condit.split('_')[0] + ' ' + 'd=' + condit.split('_')[1] + ' ' + area \n",
    "        f(Df, title, max_=0.3)"
   ]
  },
  {
   "cell_type": "code",
   "execution_count": null,
   "metadata": {},
   "outputs": [],
   "source": []
  }
 ],
 "metadata": {
  "kernelspec": {
   "display_name": "Python 3",
   "language": "python",
   "name": "python3"
  },
  "language_info": {
   "codemirror_mode": {
    "name": "ipython",
    "version": 3
   },
   "file_extension": ".py",
   "mimetype": "text/x-python",
   "name": "python",
   "nbconvert_exporter": "python",
   "pygments_lexer": "ipython3",
   "version": "3.5.6"
  }
 },
 "nbformat": 4,
 "nbformat_minor": 2
}
