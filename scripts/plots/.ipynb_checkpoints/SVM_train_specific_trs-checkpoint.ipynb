{
 "cells": [
  {
   "cell_type": "code",
   "execution_count": 2,
   "metadata": {},
   "outputs": [],
   "source": [
    "# Load all dictionaries\n",
    "%matplotlib inline\n",
    "\n",
    "import os\n",
    "import numpy as np\n",
    "import pandas as pd\n",
    "import matplotlib.pyplot as plt\n",
    "import seaborn as sns\n",
    "import statsmodels.api as sm\n",
    "from sklearn.model_selection import train_test_split\n",
    "import statsmodels.formula.api as smf\n",
    "import scikit_posthocs as sp\n",
    "from scipy.stats import wilcoxon"
   ]
  },
  {
   "cell_type": "code",
   "execution_count": 3,
   "metadata": {},
   "outputs": [],
   "source": [
    "sns.set_context(\"poster\", font_scale=1.1)\n",
    "sns.set_style(\"ticks\")\n",
    "\n",
    "def heatmap(data, title):\n",
    "    ax = sns.heatmap(data,vmin=0., vmax=1., cmap= 'viridis',\n",
    "                    cbar_kws={\"shrink\": .82, 'ticks' : [0,0.33,0.66,1], 'label': 'decoding strength'}) ##sns.cm.rocket_r\n",
    "    #ax = sns.heatmap(data, cmap= 'viridis') ##sns.cm.rocket_r\n",
    "    ax.invert_yaxis()\n",
    "    ax.figure.axes[-1].yaxis.label.set_size(15)\n",
    "    plt.gca().set_ylabel('train')\n",
    "    plt.gca().set_xlabel('test (TRs)')\n",
    "    plt.gca().set_title(title)\n",
    "    plt.gca().set_xticks([0,4,8,12,16])\n",
    "    plt.gca().set_xticklabels([0,4,8,12,16])\n",
    "    plt.gca().set_yticks([0,4,8,12,16])\n",
    "    plt.gca().set_yticklabels([0,4,8,12,16])\n",
    "    plt.show(block=False)"
   ]
  },
  {
   "cell_type": "code",
   "execution_count": null,
   "metadata": {},
   "outputs": [],
   "source": []
  }
 ],
 "metadata": {
  "kernelspec": {
   "display_name": "Python 3",
   "language": "python",
   "name": "python3"
  },
  "language_info": {
   "codemirror_mode": {
    "name": "ipython",
    "version": 3
   },
   "file_extension": ".py",
   "mimetype": "text/x-python",
   "name": "python",
   "nbconvert_exporter": "python",
   "pygments_lexer": "ipython3",
   "version": "3.5.6"
  }
 },
 "nbformat": 4,
 "nbformat_minor": 2
}
