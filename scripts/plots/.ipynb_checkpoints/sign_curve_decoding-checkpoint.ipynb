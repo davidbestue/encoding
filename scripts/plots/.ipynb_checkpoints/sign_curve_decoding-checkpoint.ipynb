{
 "cells": [
  {
   "cell_type": "code",
   "execution_count": 1,
   "metadata": {},
   "outputs": [],
   "source": [
    "%matplotlib inline\n",
    "#%config InlineBackend.figure_format = 'svg'"
   ]
  },
  {
   "cell_type": "code",
   "execution_count": 2,
   "metadata": {},
   "outputs": [],
   "source": [
    "#Libraries\n",
    "import pandas as pd\n",
    "import matplotlib.pyplot as plt\n",
    "import seaborn as sns\n",
    "import numpy as np\n",
    "\n",
    "presentation_period= 0.35 #stim presnetation time\n",
    "presentation_period_cue=  0.50 #presentation of attentional cue time\n",
    "pre_stim_period= 0.5 #time between cue and stim\n",
    "resp_time = 4  #time the response is active"
   ]
  },
  {
   "cell_type": "code",
   "execution_count": 3,
   "metadata": {},
   "outputs": [],
   "source": [
    "# Functions\n",
    "def boots_by_subj(data, col_int, col_subj, n_iterations, alpha, stat):\n",
    "    #### you give a 2 column df, one column qith the value and the other column with subject index:\n",
    "    list_subjects = data[col_subj].unique()\n",
    "    sample=[]\n",
    "    for n in range(n_iterations):\n",
    "        resampled=[]\n",
    "        new_sample = list(np.random.randint(0, len(list_subjects), len(list_subjects)))\n",
    "        for res_s in new_sample:\n",
    "            resampled = resampled + list(data.loc[data[col_subj]==list_subjects[res_s], col_int].values) \n",
    "        #\n",
    "        sample.append(stat(resampled))\n",
    "    #\n",
    "    stats_sorted = np.sort(sample)\n",
    "    new_mean=np.mean(sample)\n",
    "    return (new_mean, stats_sorted[int((alpha/2.0)*n_iterations)],\n",
    "            stats_sorted[int((1-alpha/2.0)*n_iterations)])\n",
    "\n",
    "\n",
    "###\n",
    "###\n",
    "\n",
    "\n",
    "def line_significance(timepoints, ci_inf, ci_sup, y_min_shad, y_max_shad, color_sh):\n",
    "    for idx_t in range(  len(timepoints)-1 ):\n",
    "        half = timepoints[1]/2 \n",
    "        #if ci_inf[idx_t]<= 0 <= ci_sup[idx_t]:    #### inferior and superior\n",
    "        #    plt.fill_between(  [timepoints[idx_t], timepoints[idx_t+1] ], [y_min_shad, y_min_shad], [y_max_shad, y_max_shad], color='w', alpha=0.3)\n",
    "        \n",
    "        if ci_inf[idx_t]<= 0 : ### just superior\n",
    "            plt.fill_between(  [timepoints[idx_t] - half, timepoints[idx_t+1] - half -0.25 ], [y_min_shad-0.05, y_min_shad-0.05], [y_max_shad, y_max_shad], color='w', step= 'mid', alpha=0.3)\n",
    "        \n",
    "        else:\n",
    "            plt.fill_between(  [timepoints[idx_t] - half,  timepoints[idx_t+1] - half -0.25 ], [y_min_shad-0.05, y_min_shad-0.05], [y_max_shad, y_max_shad], color=color_sh, step= 'mid',alpha=0.3)\n",
    "\n",
    "\n",
    "            \n",
    "###\n",
    "\n",
    "\n",
    "# from mlxtend.evaluate import permutation_test\n",
    "\n",
    "# p_value = permutation_test(value, shuffle, method='approximate', num_rounds=10000, seed=0)\n",
    "# print(p_value)\n",
    "\n",
    "\n",
    "\n",
    "\n",
    "\n",
    "#         ## Plot the significance line\n",
    "#         for index_color, brain_reg in enumerate(['visual', 'ips', 'frontinf']):\n",
    "#             all_timepoints = list( data_cond.loc[data_cond['brain_reg']==brain_reg].time )\n",
    "#             conf_inf = list( data_cond.loc[data_cond['brain_reg']==brain_reg].inf )\n",
    "#             conf_sup = list( data_cond.loc[data_cond['brain_reg']==brain_reg].sup )\n",
    "#             color_sign = pal[index_color]\n",
    "#             y_min_shad = -7 - index_color\n",
    "#             y_max_shad = -8 - index_color\n",
    "#             line_significance(all_timepoints, conf_inf, conf_sup, y_min_shad, y_max_shad, color_sh=color_sign)\n",
    "\n",
    "\n",
    "\n",
    "\n",
    "###\n",
    "\n",
    "def plot_decoding(df_plot):\n",
    "    ##\n",
    "    ###\n",
    "    ####   In the input dataframe you need the following columns:\n",
    "    ###  'new_mean', 'inf', 'sup', 'brain_reg', 'time', 'condition'\n",
    "    ## \n",
    "    pal = sns.color_palette(\"tab10\", n_colors=12, desat=1).as_hex()[0:3]\n",
    "    ##\n",
    "    fig = plt.figure(figsize=(10,8))\n",
    "    for indx_c, condition in enumerate(['1_0.2', '1_7', '2_0.2', '2_7']): \n",
    "        #features of the plot for the different conditions. Fixed values\n",
    "        if condition == '1_0.2':\n",
    "            delay1 = 0.2\n",
    "            delay2 = 11.8\n",
    "            cue=0\n",
    "            t_p = cue + presentation_period_cue + pre_stim_period \n",
    "            d_p = t_p + presentation_period +delay1 \n",
    "            r_t = d_p + presentation_period + delay2\n",
    "            xlim = [0, 27]\n",
    "\n",
    "        elif condition == '1_7':\n",
    "            delay1 = 7\n",
    "            delay2 = 5\n",
    "            cue=0\n",
    "            t_p = cue + presentation_period_cue + pre_stim_period \n",
    "            d_p = t_p + presentation_period +delay1 \n",
    "            r_t = d_p + presentation_period + delay2\n",
    "            xlim = [0, 27]\n",
    "\n",
    "        elif condition == '2_0.2':\n",
    "            delay1 = 0.2\n",
    "            delay2 = 12\n",
    "            cue=0\n",
    "            d_p = cue + presentation_period_cue + pre_stim_period \n",
    "            t_p = d_p + presentation_period +delay1 \n",
    "            r_t = t_p + presentation_period + delay2   \n",
    "            xlim = [0, 27]\n",
    "\n",
    "        elif condition == '2_7':\n",
    "            delay1 = 7\n",
    "            delay2 = 12\n",
    "            cue=0\n",
    "            d_p = cue + presentation_period_cue + pre_stim_period \n",
    "            t_p = d_p + presentation_period +delay1 \n",
    "            r_t = t_p + presentation_period + delay2\n",
    "            xlim = [0, 35]\n",
    "\n",
    "\n",
    "        start_hrf = 4 #start of the Hemodynamic response (4seconds)\n",
    "        sec_hdrf = 3 #time it can last\n",
    "\n",
    "        d_p1 = (start_hrf + d_p) ##strat of didtractor (time)\n",
    "        t_p1 = (start_hrf +t_p) ## strat of target (time)\n",
    "        r_t1=  (start_hrf + r_t) ## start of response (time)\n",
    "        #\n",
    "        d_p2 = d_p1 + sec_hdrf # end of distractor (time)\n",
    "        t_p2 = t_p1 + sec_hdrf # end of target (time)\n",
    "        r_t2=  r_t1 + sec_hdrf + resp_time #end of response (time)\n",
    "\n",
    "        y_vl_min = -5 #df_all_by_subj.Decoding.min() #values min and max\n",
    "        y_vl_max = 5 #◙df_all_by_subj.Decoding.max()\n",
    "\n",
    "        #fig = plt.figure()\n",
    "        ax = fig.add_subplot(2,2, indx_c+1) \n",
    "        #ax = sns.lineplot(x='times', y='decoding',  color = 'black', data=n) #figure to get the intervals of shuffle\n",
    "        #ax.lines[0].set_linestyle(\"--\")\n",
    "        data_cond =  df_plot.loc[ (df_plot['condition']==condition)]\n",
    "        sns.lineplot( ax=ax, x=\"time\", y=\"old_mean\", hue='brain_reg', hue_order =  ['visual', 'ips', 'frontinf'], ci=None, palette=pal, data=data_cond) #, 'visual', 'ips',  'frontmid', 'frontsup', 'frontinf'\n",
    "        plt.fill_between(  list(data_cond.time.unique()) , list(data_cond.loc[data_cond['brain_reg']=='visual', 'inf']) , list(data_cond.loc[data_cond['brain_reg']=='visual', 'sup']) , color=pal[0], alpha=0.3) #, label='target'  ) #plot aprox time of target\n",
    "        plt.fill_between(  list(data_cond.time.unique()) , list(data_cond.loc[data_cond['brain_reg']=='ips', 'inf']) , list(data_cond.loc[data_cond['brain_reg']=='ips', 'sup']) , color=pal[1], alpha=0.3) #, label='target'  ) #plot aprox time of target\n",
    "        plt.fill_between(  list(data_cond.time.unique()) , list(data_cond.loc[data_cond['brain_reg']=='frontinf', 'inf']) , list(data_cond.loc[data_cond['brain_reg']=='frontinf', 'sup']) , color=pal[2], alpha=0.3) #, label='target'  ) #plot aprox time of target\n",
    "        #sns.lineplot( ax=ax, x=\"times\", y=\"decoding\", hue='region', hue_order =  ['visual', 'ips', 'frontinf'],  ci=95, palette=pal, data=dfsn.loc[ (dfsn['condition']==condition)]) #, 'visual', 'ips',  'frontmid', 'frontsup', 'frontinf'\n",
    "\n",
    "        plt.plot([0, 35], [0,0], 'k--')   ## plot chance level (0)\n",
    "        plt.fill_between(  [ t_p1, t_p2 ], [y_vl_min, y_vl_min], [y_vl_max, y_vl_max], color='b', alpha=0.3) #, label='target'  ) #plot aprox time of target\n",
    "        plt.fill_between(  [ d_p1, d_p2 ], [y_vl_min, y_vl_min], [y_vl_max, y_vl_max], color='g', alpha=0.3) #, label='distractor'  ) #plot aprox time of distractor\n",
    "        plt.fill_between(  [ r_t1, r_t2 ], [y_vl_min, y_vl_min], [y_vl_max, y_vl_max], color='y', alpha=0.3) #, label='response'  )   #plot aprox time of response\n",
    "\n",
    "        ## Plot the significance line\n",
    "        for index_color, brain_reg in enumerate(['visual', 'ips', 'frontinf']):\n",
    "            all_timepoints = list( data_cond.loc[data_cond['brain_reg']==brain_reg].time )\n",
    "            conf_inf = list( data_cond.loc[data_cond['brain_reg']==brain_reg].inf )\n",
    "            conf_sup = list( data_cond.loc[data_cond['brain_reg']==brain_reg].sup )\n",
    "            color_sign = pal[index_color]\n",
    "            y_min_shad = -7 - index_color\n",
    "            y_max_shad = -8 - index_color\n",
    "            line_significance(all_timepoints, conf_inf, conf_sup, y_min_shad, y_max_shad, color_sh=color_sign)\n",
    "        #\n",
    "        ###\n",
    "        TITLE_BR = condition \n",
    "        plt.title(TITLE_BR) #condition title\n",
    "        plt.gca().spines['right'].set_visible(False) #no right axis\n",
    "        plt.gca().spines['top'].set_visible(False) #no  top axis\n",
    "        plt.gca().get_xaxis().tick_bottom()\n",
    "        plt.gca().get_yaxis().tick_left()\n",
    "        plt.xticks([5,15,25]) #just this tcks\n",
    "        plt.yticks([-4, 0 , 4])\n",
    "        plt.xlim(xlim)\n",
    "        plt.ylabel('decoding')\n",
    "        if indx_c==3: #legend in just this condition (to avoid repetitions)       \n",
    "            plt.gca().legend(loc= 2, frameon=False)\n",
    "            plt.xticks([10, 20 ,30])\n",
    "\n",
    "        else:\n",
    "            plt.gca().legend(loc= 1, frameon=False).remove()\n",
    "\n",
    "\n",
    "\n",
    "    ##\n",
    "    plt.suptitle( '', fontsize=18) ## main title\n",
    "    plt.tight_layout(w_pad=5, h_pad=5, rect=[0, 0.03, 1, 0.95]) #correct the space between graphs\n",
    "    plt.show(block=False) #show\n",
    "    \n",
    "\n",
    "    \n",
    "#####\n",
    "\n"
   ]
  },
  {
   "cell_type": "code",
   "execution_count": 4,
   "metadata": {},
   "outputs": [],
   "source": [
    "path_save_signal ='C:\\\\Users\\\\David\\\\Desktop\\\\signal_LM.xlsx'\n",
    "path_save_shuffle = 'C:\\\\Users\\\\David\\\\Desktop\\\\shuff_LM.xlsx'\n",
    "Df = pd.read_excel(path_save_signal) #convert them to pd.dataframes\n",
    "Df_shuff = pd.read_excel(path_save_shuffle)\n",
    "df_t = pd.concat([Df, Df_shuff]) #concatenate the files"
   ]
  },
  {
   "cell_type": "code",
   "execution_count": 5,
   "metadata": {},
   "outputs": [
    {
     "data": {
      "text/plain": [
       "11520"
      ]
     },
     "execution_count": 5,
     "metadata": {},
     "output_type": "execute_result"
    }
   ],
   "source": [
    "Df.size"
   ]
  },
  {
   "cell_type": "code",
   "execution_count": 6,
   "metadata": {},
   "outputs": [
    {
     "data": {
      "text/plain": [
       "1152000"
      ]
     },
     "execution_count": 6,
     "metadata": {},
     "output_type": "execute_result"
    }
   ],
   "source": [
    "Df_shuff.size"
   ]
  },
  {
   "cell_type": "code",
   "execution_count": 19,
   "metadata": {},
   "outputs": [
    {
     "data": {
      "text/html": [
       "<div>\n",
       "<style scoped>\n",
       "    .dataframe tbody tr th:only-of-type {\n",
       "        vertical-align: middle;\n",
       "    }\n",
       "\n",
       "    .dataframe tbody tr th {\n",
       "        vertical-align: top;\n",
       "    }\n",
       "\n",
       "    .dataframe thead th {\n",
       "        text-align: right;\n",
       "    }\n",
       "</style>\n",
       "<table border=\"1\" class=\"dataframe\">\n",
       "  <thead>\n",
       "    <tr style=\"text-align: right;\">\n",
       "      <th></th>\n",
       "      <th>times</th>\n",
       "      <th>decoding</th>\n",
       "      <th>region</th>\n",
       "      <th>subject</th>\n",
       "      <th>condition</th>\n",
       "      <th>label</th>\n",
       "    </tr>\n",
       "  </thead>\n",
       "  <tbody>\n",
       "    <tr>\n",
       "      <th>0</th>\n",
       "      <td>0.000</td>\n",
       "      <td>-1.616941</td>\n",
       "      <td>visual</td>\n",
       "      <td>n001</td>\n",
       "      <td>1_0.2</td>\n",
       "      <td>signal</td>\n",
       "    </tr>\n",
       "    <tr>\n",
       "      <th>1</th>\n",
       "      <td>2.335</td>\n",
       "      <td>3.720056</td>\n",
       "      <td>visual</td>\n",
       "      <td>n001</td>\n",
       "      <td>1_0.2</td>\n",
       "      <td>signal</td>\n",
       "    </tr>\n",
       "    <tr>\n",
       "      <th>2</th>\n",
       "      <td>4.670</td>\n",
       "      <td>5.503484</td>\n",
       "      <td>visual</td>\n",
       "      <td>n001</td>\n",
       "      <td>1_0.2</td>\n",
       "      <td>signal</td>\n",
       "    </tr>\n",
       "    <tr>\n",
       "      <th>3</th>\n",
       "      <td>7.005</td>\n",
       "      <td>2.175533</td>\n",
       "      <td>visual</td>\n",
       "      <td>n001</td>\n",
       "      <td>1_0.2</td>\n",
       "      <td>signal</td>\n",
       "    </tr>\n",
       "    <tr>\n",
       "      <th>4</th>\n",
       "      <td>9.340</td>\n",
       "      <td>-2.792470</td>\n",
       "      <td>visual</td>\n",
       "      <td>n001</td>\n",
       "      <td>1_0.2</td>\n",
       "      <td>signal</td>\n",
       "    </tr>\n",
       "    <tr>\n",
       "      <th>5</th>\n",
       "      <td>11.675</td>\n",
       "      <td>-5.425059</td>\n",
       "      <td>visual</td>\n",
       "      <td>n001</td>\n",
       "      <td>1_0.2</td>\n",
       "      <td>signal</td>\n",
       "    </tr>\n",
       "    <tr>\n",
       "      <th>6</th>\n",
       "      <td>14.010</td>\n",
       "      <td>-6.709548</td>\n",
       "      <td>visual</td>\n",
       "      <td>n001</td>\n",
       "      <td>1_0.2</td>\n",
       "      <td>signal</td>\n",
       "    </tr>\n",
       "    <tr>\n",
       "      <th>7</th>\n",
       "      <td>16.345</td>\n",
       "      <td>-3.772948</td>\n",
       "      <td>visual</td>\n",
       "      <td>n001</td>\n",
       "      <td>1_0.2</td>\n",
       "      <td>signal</td>\n",
       "    </tr>\n",
       "    <tr>\n",
       "      <th>8</th>\n",
       "      <td>18.680</td>\n",
       "      <td>6.070225</td>\n",
       "      <td>visual</td>\n",
       "      <td>n001</td>\n",
       "      <td>1_0.2</td>\n",
       "      <td>signal</td>\n",
       "    </tr>\n",
       "    <tr>\n",
       "      <th>9</th>\n",
       "      <td>21.015</td>\n",
       "      <td>14.554314</td>\n",
       "      <td>visual</td>\n",
       "      <td>n001</td>\n",
       "      <td>1_0.2</td>\n",
       "      <td>signal</td>\n",
       "    </tr>\n",
       "    <tr>\n",
       "      <th>10</th>\n",
       "      <td>23.350</td>\n",
       "      <td>11.327409</td>\n",
       "      <td>visual</td>\n",
       "      <td>n001</td>\n",
       "      <td>1_0.2</td>\n",
       "      <td>signal</td>\n",
       "    </tr>\n",
       "    <tr>\n",
       "      <th>11</th>\n",
       "      <td>25.685</td>\n",
       "      <td>-1.566265</td>\n",
       "      <td>visual</td>\n",
       "      <td>n001</td>\n",
       "      <td>1_0.2</td>\n",
       "      <td>signal</td>\n",
       "    </tr>\n",
       "    <tr>\n",
       "      <th>12</th>\n",
       "      <td>28.020</td>\n",
       "      <td>-8.653006</td>\n",
       "      <td>visual</td>\n",
       "      <td>n001</td>\n",
       "      <td>1_0.2</td>\n",
       "      <td>signal</td>\n",
       "    </tr>\n",
       "    <tr>\n",
       "      <th>13</th>\n",
       "      <td>30.355</td>\n",
       "      <td>-5.809699</td>\n",
       "      <td>visual</td>\n",
       "      <td>n001</td>\n",
       "      <td>1_0.2</td>\n",
       "      <td>signal</td>\n",
       "    </tr>\n",
       "    <tr>\n",
       "      <th>14</th>\n",
       "      <td>32.690</td>\n",
       "      <td>-4.067040</td>\n",
       "      <td>visual</td>\n",
       "      <td>n001</td>\n",
       "      <td>1_0.2</td>\n",
       "      <td>signal</td>\n",
       "    </tr>\n",
       "    <tr>\n",
       "      <th>15</th>\n",
       "      <td>35.025</td>\n",
       "      <td>-3.478784</td>\n",
       "      <td>visual</td>\n",
       "      <td>n001</td>\n",
       "      <td>1_0.2</td>\n",
       "      <td>signal</td>\n",
       "    </tr>\n",
       "  </tbody>\n",
       "</table>\n",
       "</div>"
      ],
      "text/plain": [
       "     times   decoding  region subject condition   label\n",
       "0    0.000  -1.616941  visual    n001     1_0.2  signal\n",
       "1    2.335   3.720056  visual    n001     1_0.2  signal\n",
       "2    4.670   5.503484  visual    n001     1_0.2  signal\n",
       "3    7.005   2.175533  visual    n001     1_0.2  signal\n",
       "4    9.340  -2.792470  visual    n001     1_0.2  signal\n",
       "5   11.675  -5.425059  visual    n001     1_0.2  signal\n",
       "6   14.010  -6.709548  visual    n001     1_0.2  signal\n",
       "7   16.345  -3.772948  visual    n001     1_0.2  signal\n",
       "8   18.680   6.070225  visual    n001     1_0.2  signal\n",
       "9   21.015  14.554314  visual    n001     1_0.2  signal\n",
       "10  23.350  11.327409  visual    n001     1_0.2  signal\n",
       "11  25.685  -1.566265  visual    n001     1_0.2  signal\n",
       "12  28.020  -8.653006  visual    n001     1_0.2  signal\n",
       "13  30.355  -5.809699  visual    n001     1_0.2  signal\n",
       "14  32.690  -4.067040  visual    n001     1_0.2  signal\n",
       "15  35.025  -3.478784  visual    n001     1_0.2  signal"
      ]
     },
     "execution_count": 19,
     "metadata": {},
     "output_type": "execute_result"
    }
   ],
   "source": [
    "Df_cond"
   ]
  },
  {
   "cell_type": "code",
   "execution_count": 20,
   "metadata": {
    "scrolled": true
   },
   "outputs": [
    {
     "data": {
      "text/plain": [
       "<matplotlib.axes._subplots.AxesSubplot at 0x25c7b6ea7b8>"
      ]
     },
     "execution_count": 20,
     "metadata": {},
     "output_type": "execute_result"
    },
    {
     "data": {
      "image/png": "[encoded data removed]",
      "text/plain": [
       "<Figure size 432x288 with 1 Axes>"
      ]
     },
     "metadata": {
      "needs_background": "light"
     },
     "output_type": "display_data"
    }
   ],
   "source": [
    "Df_cond = Df.loc[(Df['condition']=='1_0.2') & (Df['region']=='visual') & (Df['subject']=='n001')]\n",
    "Df_cond\n",
    "\n",
    "sns.lineplot(x=\"times\", y=\"decoding\", data=Df_cond) "
   ]
  },
  {
   "cell_type": "code",
   "execution_count": 31,
   "metadata": {},
   "outputs": [
    {
     "data": {
      "text/plain": [
       "[<matplotlib.lines.Line2D at 0x25c7a6c6e80>]"
      ]
     },
     "execution_count": 31,
     "metadata": {},
     "output_type": "execute_result"
    },
    {
     "data": {
      "image/png": "[encoded data removed]",
      "text/plain": [
       "<Figure size 432x288 with 1 Axes>"
      ]
     },
     "metadata": {
      "needs_background": "light"
     },
     "output_type": "display_data"
    }
   ],
   "source": [
    "plt.plot([Df.loc[(Df['condition']=='1_0.2') & (Df['region']=='visual') & (Df['times']==t)].decoding.mean() for t in Df.times.unique()])"
   ]
  },
  {
   "cell_type": "code",
   "execution_count": 27,
   "metadata": {},
   "outputs": [
    {
     "data": {
      "text/plain": [
       "-1.616941347250161"
      ]
     },
     "execution_count": 27,
     "metadata": {},
     "output_type": "execute_result"
    }
   ],
   "source": [
    "Df.loc[(Df['condition']=='1_0.2') & (Df['region']=='visual') & (Df['subject']=='n001') & (Df['times']==0)].decoding.values[0]"
   ]
  },
  {
   "cell_type": "code",
   "execution_count": 65,
   "metadata": {},
   "outputs": [
    {
     "data": {
      "text/plain": [
       "-4.23117554734062"
      ]
     },
     "execution_count": 65,
     "metadata": {},
     "output_type": "execute_result"
    }
   ],
   "source": [
    "Df.loc[(Df['condition']==cond_) & (Df['region']==reg_) & (Df['subject']==subj_) & (Df['times']==time_)].decoding.values[0]"
   ]
  },
  {
   "cell_type": "code",
   "execution_count": 66,
   "metadata": {
    "scrolled": true
   },
   "outputs": [
    {
     "data": {
      "text/html": [
       "<div>\n",
       "<style scoped>\n",
       "    .dataframe tbody tr th:only-of-type {\n",
       "        vertical-align: middle;\n",
       "    }\n",
       "\n",
       "    .dataframe tbody tr th {\n",
       "        vertical-align: top;\n",
       "    }\n",
       "\n",
       "    .dataframe thead th {\n",
       "        text-align: right;\n",
       "    }\n",
       "</style>\n",
       "<table border=\"1\" class=\"dataframe\">\n",
       "  <thead>\n",
       "    <tr style=\"text-align: right;\">\n",
       "      <th></th>\n",
       "      <th>times</th>\n",
       "      <th>decoding</th>\n",
       "      <th>region</th>\n",
       "      <th>subject</th>\n",
       "      <th>condition</th>\n",
       "      <th>label</th>\n",
       "    </tr>\n",
       "  </thead>\n",
       "  <tbody>\n",
       "    <tr>\n",
       "      <th>15</th>\n",
       "      <td>35.025</td>\n",
       "      <td>3.020228</td>\n",
       "      <td>ips</td>\n",
       "      <td>n001</td>\n",
       "      <td>1_7</td>\n",
       "      <td>shuffle</td>\n",
       "    </tr>\n",
       "    <tr>\n",
       "      <th>15</th>\n",
       "      <td>35.025</td>\n",
       "      <td>4.146618</td>\n",
       "      <td>ips</td>\n",
       "      <td>n001</td>\n",
       "      <td>1_7</td>\n",
       "      <td>shuffle</td>\n",
       "    </tr>\n",
       "    <tr>\n",
       "      <th>15</th>\n",
       "      <td>35.025</td>\n",
       "      <td>4.949725</td>\n",
       "      <td>ips</td>\n",
       "      <td>n001</td>\n",
       "      <td>1_7</td>\n",
       "      <td>shuffle</td>\n",
       "    </tr>\n",
       "    <tr>\n",
       "      <th>15</th>\n",
       "      <td>35.025</td>\n",
       "      <td>6.615615</td>\n",
       "      <td>ips</td>\n",
       "      <td>n001</td>\n",
       "      <td>1_7</td>\n",
       "      <td>shuffle</td>\n",
       "    </tr>\n",
       "    <tr>\n",
       "      <th>15</th>\n",
       "      <td>35.025</td>\n",
       "      <td>0.483601</td>\n",
       "      <td>ips</td>\n",
       "      <td>n001</td>\n",
       "      <td>1_7</td>\n",
       "      <td>shuffle</td>\n",
       "    </tr>\n",
       "    <tr>\n",
       "      <th>15</th>\n",
       "      <td>35.025</td>\n",
       "      <td>5.203956</td>\n",
       "      <td>ips</td>\n",
       "      <td>n001</td>\n",
       "      <td>1_7</td>\n",
       "      <td>shuffle</td>\n",
       "    </tr>\n",
       "    <tr>\n",
       "      <th>15</th>\n",
       "      <td>35.025</td>\n",
       "      <td>3.950365</td>\n",
       "      <td>ips</td>\n",
       "      <td>n001</td>\n",
       "      <td>1_7</td>\n",
       "      <td>shuffle</td>\n",
       "    </tr>\n",
       "    <tr>\n",
       "      <th>15</th>\n",
       "      <td>35.025</td>\n",
       "      <td>4.282680</td>\n",
       "      <td>ips</td>\n",
       "      <td>n001</td>\n",
       "      <td>1_7</td>\n",
       "      <td>shuffle</td>\n",
       "    </tr>\n",
       "    <tr>\n",
       "      <th>15</th>\n",
       "      <td>35.025</td>\n",
       "      <td>2.955088</td>\n",
       "      <td>ips</td>\n",
       "      <td>n001</td>\n",
       "      <td>1_7</td>\n",
       "      <td>shuffle</td>\n",
       "    </tr>\n",
       "    <tr>\n",
       "      <th>15</th>\n",
       "      <td>35.025</td>\n",
       "      <td>1.627403</td>\n",
       "      <td>ips</td>\n",
       "      <td>n001</td>\n",
       "      <td>1_7</td>\n",
       "      <td>shuffle</td>\n",
       "    </tr>\n",
       "    <tr>\n",
       "      <th>15</th>\n",
       "      <td>35.025</td>\n",
       "      <td>6.509439</td>\n",
       "      <td>ips</td>\n",
       "      <td>n001</td>\n",
       "      <td>1_7</td>\n",
       "      <td>shuffle</td>\n",
       "    </tr>\n",
       "    <tr>\n",
       "      <th>15</th>\n",
       "      <td>35.025</td>\n",
       "      <td>2.109189</td>\n",
       "      <td>ips</td>\n",
       "      <td>n001</td>\n",
       "      <td>1_7</td>\n",
       "      <td>shuffle</td>\n",
       "    </tr>\n",
       "    <tr>\n",
       "      <th>15</th>\n",
       "      <td>35.025</td>\n",
       "      <td>1.206379</td>\n",
       "      <td>ips</td>\n",
       "      <td>n001</td>\n",
       "      <td>1_7</td>\n",
       "      <td>shuffle</td>\n",
       "    </tr>\n",
       "    <tr>\n",
       "      <th>15</th>\n",
       "      <td>35.025</td>\n",
       "      <td>5.445828</td>\n",
       "      <td>ips</td>\n",
       "      <td>n001</td>\n",
       "      <td>1_7</td>\n",
       "      <td>shuffle</td>\n",
       "    </tr>\n",
       "    <tr>\n",
       "      <th>15</th>\n",
       "      <td>35.025</td>\n",
       "      <td>-1.637734</td>\n",
       "      <td>ips</td>\n",
       "      <td>n001</td>\n",
       "      <td>1_7</td>\n",
       "      <td>shuffle</td>\n",
       "    </tr>\n",
       "    <tr>\n",
       "      <th>15</th>\n",
       "      <td>35.025</td>\n",
       "      <td>1.464367</td>\n",
       "      <td>ips</td>\n",
       "      <td>n001</td>\n",
       "      <td>1_7</td>\n",
       "      <td>shuffle</td>\n",
       "    </tr>\n",
       "    <tr>\n",
       "      <th>15</th>\n",
       "      <td>35.025</td>\n",
       "      <td>-0.440542</td>\n",
       "      <td>ips</td>\n",
       "      <td>n001</td>\n",
       "      <td>1_7</td>\n",
       "      <td>shuffle</td>\n",
       "    </tr>\n",
       "    <tr>\n",
       "      <th>15</th>\n",
       "      <td>35.025</td>\n",
       "      <td>4.346754</td>\n",
       "      <td>ips</td>\n",
       "      <td>n001</td>\n",
       "      <td>1_7</td>\n",
       "      <td>shuffle</td>\n",
       "    </tr>\n",
       "    <tr>\n",
       "      <th>15</th>\n",
       "      <td>35.025</td>\n",
       "      <td>2.057698</td>\n",
       "      <td>ips</td>\n",
       "      <td>n001</td>\n",
       "      <td>1_7</td>\n",
       "      <td>shuffle</td>\n",
       "    </tr>\n",
       "    <tr>\n",
       "      <th>15</th>\n",
       "      <td>35.025</td>\n",
       "      <td>-1.648585</td>\n",
       "      <td>ips</td>\n",
       "      <td>n001</td>\n",
       "      <td>1_7</td>\n",
       "      <td>shuffle</td>\n",
       "    </tr>\n",
       "    <tr>\n",
       "      <th>15</th>\n",
       "      <td>35.025</td>\n",
       "      <td>2.766322</td>\n",
       "      <td>ips</td>\n",
       "      <td>n001</td>\n",
       "      <td>1_7</td>\n",
       "      <td>shuffle</td>\n",
       "    </tr>\n",
       "    <tr>\n",
       "      <th>15</th>\n",
       "      <td>35.025</td>\n",
       "      <td>3.354111</td>\n",
       "      <td>ips</td>\n",
       "      <td>n001</td>\n",
       "      <td>1_7</td>\n",
       "      <td>shuffle</td>\n",
       "    </tr>\n",
       "    <tr>\n",
       "      <th>15</th>\n",
       "      <td>35.025</td>\n",
       "      <td>5.722120</td>\n",
       "      <td>ips</td>\n",
       "      <td>n001</td>\n",
       "      <td>1_7</td>\n",
       "      <td>shuffle</td>\n",
       "    </tr>\n",
       "    <tr>\n",
       "      <th>15</th>\n",
       "      <td>35.025</td>\n",
       "      <td>3.166382</td>\n",
       "      <td>ips</td>\n",
       "      <td>n001</td>\n",
       "      <td>1_7</td>\n",
       "      <td>shuffle</td>\n",
       "    </tr>\n",
       "    <tr>\n",
       "      <th>15</th>\n",
       "      <td>35.025</td>\n",
       "      <td>4.291723</td>\n",
       "      <td>ips</td>\n",
       "      <td>n001</td>\n",
       "      <td>1_7</td>\n",
       "      <td>shuffle</td>\n",
       "    </tr>\n",
       "    <tr>\n",
       "      <th>15</th>\n",
       "      <td>35.025</td>\n",
       "      <td>3.052855</td>\n",
       "      <td>ips</td>\n",
       "      <td>n001</td>\n",
       "      <td>1_7</td>\n",
       "      <td>shuffle</td>\n",
       "    </tr>\n",
       "    <tr>\n",
       "      <th>15</th>\n",
       "      <td>35.025</td>\n",
       "      <td>5.292958</td>\n",
       "      <td>ips</td>\n",
       "      <td>n001</td>\n",
       "      <td>1_7</td>\n",
       "      <td>shuffle</td>\n",
       "    </tr>\n",
       "    <tr>\n",
       "      <th>15</th>\n",
       "      <td>35.025</td>\n",
       "      <td>0.323051</td>\n",
       "      <td>ips</td>\n",
       "      <td>n001</td>\n",
       "      <td>1_7</td>\n",
       "      <td>shuffle</td>\n",
       "    </tr>\n",
       "    <tr>\n",
       "      <th>15</th>\n",
       "      <td>35.025</td>\n",
       "      <td>3.576093</td>\n",
       "      <td>ips</td>\n",
       "      <td>n001</td>\n",
       "      <td>1_7</td>\n",
       "      <td>shuffle</td>\n",
       "    </tr>\n",
       "    <tr>\n",
       "      <th>15</th>\n",
       "      <td>35.025</td>\n",
       "      <td>0.245029</td>\n",
       "      <td>ips</td>\n",
       "      <td>n001</td>\n",
       "      <td>1_7</td>\n",
       "      <td>shuffle</td>\n",
       "    </tr>\n",
       "    <tr>\n",
       "      <th>...</th>\n",
       "      <td>...</td>\n",
       "      <td>...</td>\n",
       "      <td>...</td>\n",
       "      <td>...</td>\n",
       "      <td>...</td>\n",
       "      <td>...</td>\n",
       "    </tr>\n",
       "    <tr>\n",
       "      <th>15</th>\n",
       "      <td>35.025</td>\n",
       "      <td>4.652229</td>\n",
       "      <td>ips</td>\n",
       "      <td>n001</td>\n",
       "      <td>1_7</td>\n",
       "      <td>shuffle</td>\n",
       "    </tr>\n",
       "    <tr>\n",
       "      <th>15</th>\n",
       "      <td>35.025</td>\n",
       "      <td>3.481421</td>\n",
       "      <td>ips</td>\n",
       "      <td>n001</td>\n",
       "      <td>1_7</td>\n",
       "      <td>shuffle</td>\n",
       "    </tr>\n",
       "    <tr>\n",
       "      <th>15</th>\n",
       "      <td>35.025</td>\n",
       "      <td>3.188233</td>\n",
       "      <td>ips</td>\n",
       "      <td>n001</td>\n",
       "      <td>1_7</td>\n",
       "      <td>shuffle</td>\n",
       "    </tr>\n",
       "    <tr>\n",
       "      <th>15</th>\n",
       "      <td>35.025</td>\n",
       "      <td>2.844085</td>\n",
       "      <td>ips</td>\n",
       "      <td>n001</td>\n",
       "      <td>1_7</td>\n",
       "      <td>shuffle</td>\n",
       "    </tr>\n",
       "    <tr>\n",
       "      <th>15</th>\n",
       "      <td>35.025</td>\n",
       "      <td>-0.774230</td>\n",
       "      <td>ips</td>\n",
       "      <td>n001</td>\n",
       "      <td>1_7</td>\n",
       "      <td>shuffle</td>\n",
       "    </tr>\n",
       "    <tr>\n",
       "      <th>15</th>\n",
       "      <td>35.025</td>\n",
       "      <td>0.566118</td>\n",
       "      <td>ips</td>\n",
       "      <td>n001</td>\n",
       "      <td>1_7</td>\n",
       "      <td>shuffle</td>\n",
       "    </tr>\n",
       "    <tr>\n",
       "      <th>15</th>\n",
       "      <td>35.025</td>\n",
       "      <td>-0.268653</td>\n",
       "      <td>ips</td>\n",
       "      <td>n001</td>\n",
       "      <td>1_7</td>\n",
       "      <td>shuffle</td>\n",
       "    </tr>\n",
       "    <tr>\n",
       "      <th>15</th>\n",
       "      <td>35.025</td>\n",
       "      <td>1.684855</td>\n",
       "      <td>ips</td>\n",
       "      <td>n001</td>\n",
       "      <td>1_7</td>\n",
       "      <td>shuffle</td>\n",
       "    </tr>\n",
       "    <tr>\n",
       "      <th>15</th>\n",
       "      <td>35.025</td>\n",
       "      <td>0.315628</td>\n",
       "      <td>ips</td>\n",
       "      <td>n001</td>\n",
       "      <td>1_7</td>\n",
       "      <td>shuffle</td>\n",
       "    </tr>\n",
       "    <tr>\n",
       "      <th>15</th>\n",
       "      <td>35.025</td>\n",
       "      <td>2.626173</td>\n",
       "      <td>ips</td>\n",
       "      <td>n001</td>\n",
       "      <td>1_7</td>\n",
       "      <td>shuffle</td>\n",
       "    </tr>\n",
       "    <tr>\n",
       "      <th>15</th>\n",
       "      <td>35.025</td>\n",
       "      <td>5.842752</td>\n",
       "      <td>ips</td>\n",
       "      <td>n001</td>\n",
       "      <td>1_7</td>\n",
       "      <td>shuffle</td>\n",
       "    </tr>\n",
       "    <tr>\n",
       "      <th>15</th>\n",
       "      <td>35.025</td>\n",
       "      <td>1.183881</td>\n",
       "      <td>ips</td>\n",
       "      <td>n001</td>\n",
       "      <td>1_7</td>\n",
       "      <td>shuffle</td>\n",
       "    </tr>\n",
       "    <tr>\n",
       "      <th>15</th>\n",
       "      <td>35.025</td>\n",
       "      <td>3.995761</td>\n",
       "      <td>ips</td>\n",
       "      <td>n001</td>\n",
       "      <td>1_7</td>\n",
       "      <td>shuffle</td>\n",
       "    </tr>\n",
       "    <tr>\n",
       "      <th>15</th>\n",
       "      <td>35.025</td>\n",
       "      <td>1.418765</td>\n",
       "      <td>ips</td>\n",
       "      <td>n001</td>\n",
       "      <td>1_7</td>\n",
       "      <td>shuffle</td>\n",
       "    </tr>\n",
       "    <tr>\n",
       "      <th>15</th>\n",
       "      <td>35.025</td>\n",
       "      <td>5.914043</td>\n",
       "      <td>ips</td>\n",
       "      <td>n001</td>\n",
       "      <td>1_7</td>\n",
       "      <td>shuffle</td>\n",
       "    </tr>\n",
       "    <tr>\n",
       "      <th>15</th>\n",
       "      <td>35.025</td>\n",
       "      <td>-1.384726</td>\n",
       "      <td>ips</td>\n",
       "      <td>n001</td>\n",
       "      <td>1_7</td>\n",
       "      <td>shuffle</td>\n",
       "    </tr>\n",
       "    <tr>\n",
       "      <th>15</th>\n",
       "      <td>35.025</td>\n",
       "      <td>5.299657</td>\n",
       "      <td>ips</td>\n",
       "      <td>n001</td>\n",
       "      <td>1_7</td>\n",
       "      <td>shuffle</td>\n",
       "    </tr>\n",
       "    <tr>\n",
       "      <th>15</th>\n",
       "      <td>35.025</td>\n",
       "      <td>0.814413</td>\n",
       "      <td>ips</td>\n",
       "      <td>n001</td>\n",
       "      <td>1_7</td>\n",
       "      <td>shuffle</td>\n",
       "    </tr>\n",
       "    <tr>\n",
       "      <th>15</th>\n",
       "      <td>35.025</td>\n",
       "      <td>1.882742</td>\n",
       "      <td>ips</td>\n",
       "      <td>n001</td>\n",
       "      <td>1_7</td>\n",
       "      <td>shuffle</td>\n",
       "    </tr>\n",
       "    <tr>\n",
       "      <th>15</th>\n",
       "      <td>35.025</td>\n",
       "      <td>4.477327</td>\n",
       "      <td>ips</td>\n",
       "      <td>n001</td>\n",
       "      <td>1_7</td>\n",
       "      <td>shuffle</td>\n",
       "    </tr>\n",
       "    <tr>\n",
       "      <th>15</th>\n",
       "      <td>35.025</td>\n",
       "      <td>0.754010</td>\n",
       "      <td>ips</td>\n",
       "      <td>n001</td>\n",
       "      <td>1_7</td>\n",
       "      <td>shuffle</td>\n",
       "    </tr>\n",
       "    <tr>\n",
       "      <th>15</th>\n",
       "      <td>35.025</td>\n",
       "      <td>-0.715997</td>\n",
       "      <td>ips</td>\n",
       "      <td>n001</td>\n",
       "      <td>1_7</td>\n",
       "      <td>shuffle</td>\n",
       "    </tr>\n",
       "    <tr>\n",
       "      <th>15</th>\n",
       "      <td>35.025</td>\n",
       "      <td>1.536191</td>\n",
       "      <td>ips</td>\n",
       "      <td>n001</td>\n",
       "      <td>1_7</td>\n",
       "      <td>shuffle</td>\n",
       "    </tr>\n",
       "    <tr>\n",
       "      <th>15</th>\n",
       "      <td>35.025</td>\n",
       "      <td>2.245658</td>\n",
       "      <td>ips</td>\n",
       "      <td>n001</td>\n",
       "      <td>1_7</td>\n",
       "      <td>shuffle</td>\n",
       "    </tr>\n",
       "    <tr>\n",
       "      <th>15</th>\n",
       "      <td>35.025</td>\n",
       "      <td>4.049824</td>\n",
       "      <td>ips</td>\n",
       "      <td>n001</td>\n",
       "      <td>1_7</td>\n",
       "      <td>shuffle</td>\n",
       "    </tr>\n",
       "    <tr>\n",
       "      <th>15</th>\n",
       "      <td>35.025</td>\n",
       "      <td>1.209515</td>\n",
       "      <td>ips</td>\n",
       "      <td>n001</td>\n",
       "      <td>1_7</td>\n",
       "      <td>shuffle</td>\n",
       "    </tr>\n",
       "    <tr>\n",
       "      <th>15</th>\n",
       "      <td>35.025</td>\n",
       "      <td>4.385503</td>\n",
       "      <td>ips</td>\n",
       "      <td>n001</td>\n",
       "      <td>1_7</td>\n",
       "      <td>shuffle</td>\n",
       "    </tr>\n",
       "    <tr>\n",
       "      <th>15</th>\n",
       "      <td>35.025</td>\n",
       "      <td>3.027219</td>\n",
       "      <td>ips</td>\n",
       "      <td>n001</td>\n",
       "      <td>1_7</td>\n",
       "      <td>shuffle</td>\n",
       "    </tr>\n",
       "    <tr>\n",
       "      <th>15</th>\n",
       "      <td>35.025</td>\n",
       "      <td>4.588442</td>\n",
       "      <td>ips</td>\n",
       "      <td>n001</td>\n",
       "      <td>1_7</td>\n",
       "      <td>shuffle</td>\n",
       "    </tr>\n",
       "    <tr>\n",
       "      <th>15</th>\n",
       "      <td>35.025</td>\n",
       "      <td>3.576852</td>\n",
       "      <td>ips</td>\n",
       "      <td>n001</td>\n",
       "      <td>1_7</td>\n",
       "      <td>shuffle</td>\n",
       "    </tr>\n",
       "  </tbody>\n",
       "</table>\n",
       "<p>100 rows × 6 columns</p>\n",
       "</div>"
      ],
      "text/plain": [
       "     times  decoding region subject condition    label\n",
       "15  35.025  3.020228    ips    n001       1_7  shuffle\n",
       "15  35.025  4.146618    ips    n001       1_7  shuffle\n",
       "15  35.025  4.949725    ips    n001       1_7  shuffle\n",
       "15  35.025  6.615615    ips    n001       1_7  shuffle\n",
       "15  35.025  0.483601    ips    n001       1_7  shuffle\n",
       "15  35.025  5.203956    ips    n001       1_7  shuffle\n",
       "15  35.025  3.950365    ips    n001       1_7  shuffle\n",
       "15  35.025  4.282680    ips    n001       1_7  shuffle\n",
       "15  35.025  2.955088    ips    n001       1_7  shuffle\n",
       "15  35.025  1.627403    ips    n001       1_7  shuffle\n",
       "15  35.025  6.509439    ips    n001       1_7  shuffle\n",
       "15  35.025  2.109189    ips    n001       1_7  shuffle\n",
       "15  35.025  1.206379    ips    n001       1_7  shuffle\n",
       "15  35.025  5.445828    ips    n001       1_7  shuffle\n",
       "15  35.025 -1.637734    ips    n001       1_7  shuffle\n",
       "15  35.025  1.464367    ips    n001       1_7  shuffle\n",
       "15  35.025 -0.440542    ips    n001       1_7  shuffle\n",
       "15  35.025  4.346754    ips    n001       1_7  shuffle\n",
       "15  35.025  2.057698    ips    n001       1_7  shuffle\n",
       "15  35.025 -1.648585    ips    n001       1_7  shuffle\n",
       "15  35.025  2.766322    ips    n001       1_7  shuffle\n",
       "15  35.025  3.354111    ips    n001       1_7  shuffle\n",
       "15  35.025  5.722120    ips    n001       1_7  shuffle\n",
       "15  35.025  3.166382    ips    n001       1_7  shuffle\n",
       "15  35.025  4.291723    ips    n001       1_7  shuffle\n",
       "15  35.025  3.052855    ips    n001       1_7  shuffle\n",
       "15  35.025  5.292958    ips    n001       1_7  shuffle\n",
       "15  35.025  0.323051    ips    n001       1_7  shuffle\n",
       "15  35.025  3.576093    ips    n001       1_7  shuffle\n",
       "15  35.025  0.245029    ips    n001       1_7  shuffle\n",
       "..     ...       ...    ...     ...       ...      ...\n",
       "15  35.025  4.652229    ips    n001       1_7  shuffle\n",
       "15  35.025  3.481421    ips    n001       1_7  shuffle\n",
       "15  35.025  3.188233    ips    n001       1_7  shuffle\n",
       "15  35.025  2.844085    ips    n001       1_7  shuffle\n",
       "15  35.025 -0.774230    ips    n001       1_7  shuffle\n",
       "15  35.025  0.566118    ips    n001       1_7  shuffle\n",
       "15  35.025 -0.268653    ips    n001       1_7  shuffle\n",
       "15  35.025  1.684855    ips    n001       1_7  shuffle\n",
       "15  35.025  0.315628    ips    n001       1_7  shuffle\n",
       "15  35.025  2.626173    ips    n001       1_7  shuffle\n",
       "15  35.025  5.842752    ips    n001       1_7  shuffle\n",
       "15  35.025  1.183881    ips    n001       1_7  shuffle\n",
       "15  35.025  3.995761    ips    n001       1_7  shuffle\n",
       "15  35.025  1.418765    ips    n001       1_7  shuffle\n",
       "15  35.025  5.914043    ips    n001       1_7  shuffle\n",
       "15  35.025 -1.384726    ips    n001       1_7  shuffle\n",
       "15  35.025  5.299657    ips    n001       1_7  shuffle\n",
       "15  35.025  0.814413    ips    n001       1_7  shuffle\n",
       "15  35.025  1.882742    ips    n001       1_7  shuffle\n",
       "15  35.025  4.477327    ips    n001       1_7  shuffle\n",
       "15  35.025  0.754010    ips    n001       1_7  shuffle\n",
       "15  35.025 -0.715997    ips    n001       1_7  shuffle\n",
       "15  35.025  1.536191    ips    n001       1_7  shuffle\n",
       "15  35.025  2.245658    ips    n001       1_7  shuffle\n",
       "15  35.025  4.049824    ips    n001       1_7  shuffle\n",
       "15  35.025  1.209515    ips    n001       1_7  shuffle\n",
       "15  35.025  4.385503    ips    n001       1_7  shuffle\n",
       "15  35.025  3.027219    ips    n001       1_7  shuffle\n",
       "15  35.025  4.588442    ips    n001       1_7  shuffle\n",
       "15  35.025  3.576852    ips    n001       1_7  shuffle\n",
       "\n",
       "[100 rows x 6 columns]"
      ]
     },
     "execution_count": 66,
     "metadata": {},
     "output_type": "execute_result"
    }
   ],
   "source": [
    "Df_shuff.loc[(Df_shuff['condition']==cond_) & (Df_shuff['region']==reg_) & (Df_shuff['subject']==subj_) & (Df_shuff['times']==time_)]"
   ]
  },
  {
   "cell_type": "code",
   "execution_count": null,
   "metadata": {},
   "outputs": [],
   "source": []
  },
  {
   "cell_type": "code",
   "execution_count": 76,
   "metadata": {},
   "outputs": [
    {
     "name": "stdout",
     "output_type": "stream",
     "text": [
      "0.0\n"
     ]
    }
   ],
   "source": [
    "from mlxtend.evaluate import permutation_test\n",
    "\n",
    "p_value = permutation_test([decoding_subj], shuffl_values, method='approximate', num_rounds=10000, seed=0)\n",
    "print(p_value)"
   ]
  },
  {
   "cell_type": "code",
   "execution_count": 77,
   "metadata": {},
   "outputs": [
    {
     "data": {
      "text/plain": [
       "(array([ 3.,  6.,  8., 12., 16., 11., 19., 12.,  9.,  4.]),\n",
       " array([-2.37022601, -1.44433825, -0.51845048,  0.40743729,  1.33332505,\n",
       "         2.25921282,  3.18510059,  4.11098835,  5.03687612,  5.96276389,\n",
       "         6.88865165]),\n",
       " <a list of 10 Patch objects>)"
      ]
     },
     "execution_count": 77,
     "metadata": {},
     "output_type": "execute_result"
    },
    {
     "data": {
      "image/png": "[encoded data removed]",
      "text/plain": [
       "<Figure size 432x288 with 1 Axes>"
      ]
     },
     "metadata": {
      "needs_background": "light"
     },
     "output_type": "display_data"
    }
   ],
   "source": [
    "plt.hist(shuffl_values)"
   ]
  },
  {
   "cell_type": "code",
   "execution_count": 78,
   "metadata": {},
   "outputs": [
    {
     "data": {
      "text/plain": [
       "-4.23117554734062"
      ]
     },
     "execution_count": 78,
     "metadata": {},
     "output_type": "execute_result"
    }
   ],
   "source": [
    "decoding_subj"
   ]
  },
  {
   "cell_type": "code",
   "execution_count": null,
   "metadata": {
    "scrolled": true
   },
   "outputs": [],
   "source": [
    "\n",
    "mean_center = []\n",
    "\n",
    "for cond_ in Df.condition.unique():\n",
    "    for reg_ in Df.region.unique():\n",
    "        for time_ in Df.times.unique():\n",
    "            for subj_ in Df.subject.unique():\n",
    "                Mean= Df.loc[(Df['condition']==cond_) & (Df['region']==reg_) & (Df['subject']==subj_)].decoding.mean() ## all the tinmepoints of the subject (move to 0)\n",
    "                decoding_subj = Df.loc[(Df['condition']==cond_) & (Df['region']==reg_) & (Df['subject']==subj_) & (Df['times']==time_)].decoding.values[0] \n",
    "                Mean_center_subj = decoding_subj - Mean \n",
    "\n",
    "                ####\n",
    "                shuffl_values = Df_shuff.loc[(Df_shuff['condition']==cond_) & (Df_shuff['region']==reg_) & (Df_shuff['subject']==subj_) & (Df_shuff['times']==time_)].decoding.values\n",
    "                p_value = permutation_test([decoding_subj], shuffl_values, method='approximate', num_rounds=10000, seed=0)\n",
    "                if p_value<0.05:\n",
    "                    sign=True\n",
    "                else:\n",
    "                    sign=False\n",
    "                \n",
    "                mean_center.append( [cond_, reg_, time_, Mean_center_subj, subj_, sign, p_value  ])\n",
    "                \n",
    "            \n",
    "    \n",
    "\n",
    "Df_mc = pd.DataFrame(mean_center)\n",
    "Df_mc.columns=['condition', 'region', 'times', 'decoding', 'subject', 'significant', 'pvalue']\n",
    "Df_mc\n"
   ]
  },
  {
   "cell_type": "code",
   "execution_count": 64,
   "metadata": {},
   "outputs": [
    {
     "data": {
      "text/plain": [
       "[<matplotlib.lines.Line2D at 0x25c7ab21cf8>]"
      ]
     },
     "execution_count": 64,
     "metadata": {},
     "output_type": "execute_result"
    },
    {
     "data": {
      "image/png": "[encoded data removed]",
      "text/plain": [
       "<Figure size 432x288 with 1 Axes>"
      ]
     },
     "metadata": {
      "needs_background": "light"
     },
     "output_type": "display_data"
    }
   ],
   "source": [
    "plt.plot(Df.loc[(Df['condition']==cond_) & (Df['region']==reg_) & (Df['subject']==subj_)].decoding)\n",
    "plt.plot(Df.loc[(Df['condition']==cond_) & (Df['region']==reg_) & (Df['subject']==subj_)].decoding - Mean)"
   ]
  },
  {
   "cell_type": "code",
   "execution_count": 58,
   "metadata": {},
   "outputs": [
    {
     "data": {
      "text/plain": [
       "[<matplotlib.lines.Line2D at 0x25c7a312748>]"
      ]
     },
     "execution_count": 58,
     "metadata": {},
     "output_type": "execute_result"
    },
    {
     "data": {
      "image/png": "[encoded data removed]",
      "text/plain": [
       "<Figure size 432x288 with 1 Axes>"
      ]
     },
     "metadata": {
      "needs_background": "light"
     },
     "output_type": "display_data"
    }
   ],
   "source": [
    "plt.plot(Df.loc[(Df['condition']==cond_) & (Df['region']==reg_) & (Df['subject']==subj_)].decoding - Mean)"
   ]
  },
  {
   "cell_type": "code",
   "execution_count": null,
   "metadata": {},
   "outputs": [],
   "source": []
  },
  {
   "cell_type": "code",
   "execution_count": 47,
   "metadata": {},
   "outputs": [
    {
     "name": "stderr",
     "output_type": "stream",
     "text": [
      "C:\\Users\\David\\Anaconda3\\envs\\python3\\lib\\site-packages\\scipy\\stats\\stats.py:1713: FutureWarning: Using a non-tuple sequence for multidimensional indexing is deprecated; use `arr[tuple(seq)]` instead of `arr[seq]`. In the future this will be interpreted as an array index, `arr[np.array(seq)]`, which will result either in an error or a different result.\n",
      "  return np.add.reduce(sorted[indexer] * weights, axis=axis) / sumval\n"
     ]
    },
    {
     "data": {
      "text/plain": [
       "<matplotlib.axes._subplots.AxesSubplot at 0x25c7ad07908>"
      ]
     },
     "execution_count": 47,
     "metadata": {},
     "output_type": "execute_result"
    },
    {
     "data": {
      "image/png": "[encoded data removed]",
      "text/plain": [
       "<Figure size 432x288 with 1 Axes>"
      ]
     },
     "metadata": {
      "needs_background": "light"
     },
     "output_type": "display_data"
    }
   ],
   "source": [
    "sns.lineplot( x=\"times\", y=\"decoding\", data=Df.loc[(Df['region']=='visual') & (Df['condition']=='1_0.2') ]) "
   ]
  },
  {
   "cell_type": "code",
   "execution_count": 48,
   "metadata": {},
   "outputs": [
    {
     "name": "stderr",
     "output_type": "stream",
     "text": [
      "C:\\Users\\David\\Anaconda3\\envs\\python3\\lib\\site-packages\\scipy\\stats\\stats.py:1713: FutureWarning: Using a non-tuple sequence for multidimensional indexing is deprecated; use `arr[tuple(seq)]` instead of `arr[seq]`. In the future this will be interpreted as an array index, `arr[np.array(seq)]`, which will result either in an error or a different result.\n",
      "  return np.add.reduce(sorted[indexer] * weights, axis=axis) / sumval\n"
     ]
    },
    {
     "data": {
      "text/plain": [
       "<matplotlib.axes._subplots.AxesSubplot at 0x25c7b5529b0>"
      ]
     },
     "execution_count": 48,
     "metadata": {},
     "output_type": "execute_result"
    },
    {
     "data": {
      "image/png": "[encoded data removed]",
      "text/plain": [
       "<Figure size 432x288 with 1 Axes>"
      ]
     },
     "metadata": {
      "needs_background": "light"
     },
     "output_type": "display_data"
    }
   ],
   "source": [
    "sns.lineplot( x=\"times\", y=\"decoding\", data=Df_mc.loc[(Df_mc['region']=='visual') & (Df_mc['condition']=='1_0.2') ]) "
   ]
  },
  {
   "cell_type": "code",
   "execution_count": 60,
   "metadata": {},
   "outputs": [
    {
     "data": {
      "image/png": "[encoded data removed]",
      "text/plain": [
       "<Figure size 432x288 with 1 Axes>"
      ]
     },
     "metadata": {
      "needs_background": "light"
     },
     "output_type": "display_data"
    }
   ],
   "source": [
    "\n",
    "\n",
    "for subj_ in Df.subject.unique():\n",
    "    sns.lineplot( x=\"times\", y=\"decoding\", data=Df_mc.loc[(Df_mc['region']=='visual') & (Df_mc['condition']=='1_0.2') & (Df_mc['subject']==subj_)  ]) \n"
   ]
  },
  {
   "cell_type": "code",
   "execution_count": 62,
   "metadata": {},
   "outputs": [
    {
     "data": {
      "text/plain": [
       "-1.572815951552305e-17"
      ]
     },
     "execution_count": 62,
     "metadata": {},
     "output_type": "execute_result"
    }
   ],
   "source": [
    "Df_mc.decoding.mean()"
   ]
  },
  {
   "cell_type": "code",
   "execution_count": 63,
   "metadata": {},
   "outputs": [
    {
     "data": {
      "text/plain": [
       "0.00822896613513915"
      ]
     },
     "execution_count": 63,
     "metadata": {},
     "output_type": "execute_result"
    }
   ],
   "source": [
    "Df.decoding.mean()"
   ]
  },
  {
   "cell_type": "code",
   "execution_count": null,
   "metadata": {},
   "outputs": [],
   "source": []
  },
  {
   "cell_type": "code",
   "execution_count": 61,
   "metadata": {},
   "outputs": [
    {
     "data": {
      "image/png": "[encoded data removed]",
      "text/plain": [
       "<Figure size 432x288 with 1 Axes>"
      ]
     },
     "metadata": {
      "needs_background": "light"
     },
     "output_type": "display_data"
    }
   ],
   "source": [
    "for subj_ in Df.subject.unique():\n",
    "    sns.lineplot( x=\"times\", y=\"decoding\", data=Df.loc[(Df['region']=='visual') & (Df['condition']=='1_0.2') & (Df['subject']==subj_)  ]) \n"
   ]
  },
  {
   "cell_type": "code",
   "execution_count": null,
   "metadata": {},
   "outputs": [],
   "source": []
  },
  {
   "cell_type": "code",
   "execution_count": null,
   "metadata": {},
   "outputs": [],
   "source": []
  },
  {
   "cell_type": "code",
   "execution_count": null,
   "metadata": {},
   "outputs": [],
   "source": []
  },
  {
   "cell_type": "code",
   "execution_count": 37,
   "metadata": {},
   "outputs": [
    {
     "data": {
      "text/plain": [
       "<matplotlib.axes._subplots.AxesSubplot at 0x25c77158fd0>"
      ]
     },
     "execution_count": 37,
     "metadata": {},
     "output_type": "execute_result"
    },
    {
     "data": {
      "image/png": "[encoded data removed]",
      "text/plain": [
       "<Figure size 432x288 with 1 Axes>"
      ]
     },
     "metadata": {
      "needs_background": "light"
     },
     "output_type": "display_data"
    }
   ],
   "source": [
    "sns.lineplot( x=\"times\", y=\"decoding\", data=Df_mc.loc[(Df_mc['region']=='visual') & (Df_mc['condition']=='1_0.2') & (Df_mc['subject']=='l001')  ]) "
   ]
  },
  {
   "cell_type": "code",
   "execution_count": null,
   "metadata": {},
   "outputs": [],
   "source": []
  },
  {
   "cell_type": "code",
   "execution_count": null,
   "metadata": {},
   "outputs": [],
   "source": []
  },
  {
   "cell_type": "code",
   "execution_count": null,
   "metadata": {},
   "outputs": [],
   "source": []
  },
  {
   "cell_type": "code",
   "execution_count": null,
   "metadata": {},
   "outputs": [],
   "source": []
  },
  {
   "cell_type": "code",
   "execution_count": null,
   "metadata": {},
   "outputs": [],
   "source": []
  },
  {
   "cell_type": "code",
   "execution_count": null,
   "metadata": {},
   "outputs": [],
   "source": []
  },
  {
   "cell_type": "code",
   "execution_count": null,
   "metadata": {},
   "outputs": [],
   "source": [
    "\n",
    "Df_cond = Df.loc[(Df.loc['condition']=='1_0.2') & (Df.loc['region']=='visual') & (Df.loc['subject']=='n001')]\n",
    "\n",
    "sns.lineplot( ax=ax, x=\"time\", y=\"old_mean\", hue='brain_reg', hue_order =  ['visual', 'ips', 'frontinf'], ci=None, palette=pal, data=Df_cond) "
   ]
  },
  {
   "cell_type": "code",
   "execution_count": null,
   "metadata": {},
   "outputs": [],
   "source": []
  },
  {
   "cell_type": "code",
   "execution_count": 28,
   "metadata": {},
   "outputs": [
    {
     "data": {
      "text/plain": [
       "array(['1_0.2', '2_7', '2_0.2', '1_7'], dtype=object)"
      ]
     },
     "execution_count": 28,
     "metadata": {},
     "output_type": "execute_result"
    }
   ],
   "source": [
    "Df.condition.unique()"
   ]
  },
  {
   "cell_type": "code",
   "execution_count": null,
   "metadata": {},
   "outputs": [],
   "source": []
  }
 ],
 "metadata": {
  "kernelspec": {
   "display_name": "Python 3",
   "language": "python",
   "name": "python3"
  },
  "language_info": {
   "codemirror_mode": {
    "name": "ipython",
    "version": 3
   },
   "file_extension": ".py",
   "mimetype": "text/x-python",
   "name": "python",
   "nbconvert_exporter": "python",
   "pygments_lexer": "ipython3",
   "version": "3.5.6"
  }
 },
 "nbformat": 4,
 "nbformat_minor": 2
}
