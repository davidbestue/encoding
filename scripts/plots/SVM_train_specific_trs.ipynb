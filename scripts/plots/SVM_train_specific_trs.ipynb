{
 "cells": [
  {
   "cell_type": "code",
   "execution_count": 5,
   "metadata": {},
   "outputs": [],
   "source": [
    "# Load all dictionaries\n",
    "%matplotlib inline\n",
    "\n",
    "import os\n",
    "import numpy as np\n",
    "import pandas as pd\n",
    "import matplotlib.pyplot as plt\n",
    "import seaborn as sns\n",
    "import statsmodels.api as sm\n",
    "from sklearn.model_selection import train_test_split\n",
    "import statsmodels.formula.api as smf\n",
    "import scikit_posthocs as sp\n",
    "from scipy.stats import wilcoxon\n",
    "from heatmaps_functions import *\n",
    "\n",
    "sns.set_context(\"poster\", font_scale=1.1)\n",
    "sns.set_style(\"ticks\")"
   ]
  },
  {
   "cell_type": "code",
   "execution_count": null,
   "metadata": {},
   "outputs": [],
   "source": [
    "path_save_signal ='C:\\\\Users\\\\David\\\\Desktop\\\\KI_Desktop\\\\data_reconstructions\\\\SVM\\\\cross_b001_target_mix_octave_1_7_4.xlsx'\n",
    "\n",
    "functions=[heatmap__1_02,heatmap__1_7,heatmap__2_02,heatmap__2_7]\n",
    "df_dec=[]\n",
    "\n",
    "for area in ['visual', 'ips', 'pfc']:\n",
    "    print('')\n",
    "    print('')\n",
    "    print('')\n",
    "    print('')\n",
    "    #\n",
    "    for idx, condit in enumerate(['1_0.2', '1_7', '2_0.2', '2_7']):\n",
    "        f = functions[idx]\n",
    "        subjects=['b001', 'n001', 'r001', 'd001', 'l001', 's001']\n",
    "        lst = [subjects[i] + '_' + area + '_' + condit for i in range(len(subjects))]\n",
    "        dfs=[]\n",
    "        for idx, sheets in enumerate(lst):\n",
    "            Df = pd.read_excel(path_save_signal, sheet_name=sheets)\n",
    "            if condit == '1_0.2':\n",
    "                dec_value = np.round(Df.iloc[3:7].values.mean(), 3)\n",
    "                df_dec.append([dec_value, area, condit, subjects[idx]])\n",
    "            if condit == '1_7':\n",
    "                dec_value = np.round(Df.iloc[3:5].values.mean(), 3)\n",
    "                df_dec.append([dec_value, area, condit, subjects[idx]])\n",
    "            if condit == '2_0.2':\n",
    "                dec_value = np.round(Df.iloc[3:7].values.mean(), 3)\n",
    "                df_dec.append([dec_value, area, condit, subjects[idx]])\n",
    "            if condit == '2_7':\n",
    "                dec_value = np.round(Df.iloc[6:10].values.mean(), 3)\n",
    "                df_dec.append([dec_value, area, condit, subjects[idx]])\n",
    "            dfs.append(Df)\n",
    "\n",
    "        ###\n",
    "        Df= pd.concat(dfs).mean(level=0)\n",
    "        title= 'o='  + condit.split('_')[0] + ' ' + 'd=' + condit.split('_')[1] + ' ' + area \n",
    "        f(Df, title, max_=0.3)"
   ]
  }
 ],
 "metadata": {
  "kernelspec": {
   "display_name": "Python 3",
   "language": "python",
   "name": "python3"
  },
  "language_info": {
   "codemirror_mode": {
    "name": "ipython",
    "version": 3
   },
   "file_extension": ".py",
   "mimetype": "text/x-python",
   "name": "python",
   "nbconvert_exporter": "python",
   "pygments_lexer": "ipython3",
   "version": "3.5.6"
  }
 },
 "nbformat": 4,
 "nbformat_minor": 2
}
