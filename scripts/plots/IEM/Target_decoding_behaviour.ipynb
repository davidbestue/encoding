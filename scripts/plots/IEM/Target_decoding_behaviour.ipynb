{
 "cells": [
  {
   "cell_type": "code",
   "execution_count": 1,
   "metadata": {},
   "outputs": [],
   "source": [
    "from linares_plot import *\n",
    "import sys, os\n",
    "path_tools = 'C:\\\\Users\\\\David\\\\Documents\\\\GitHub\\\\encoding\\\\scripts\\\\wm_representation\\\\functions\\\\IEM\\\\tools'\n",
    "sys.path.insert(1, path_tools)\n",
    "from timecourse import *"
   ]
  },
  {
   "cell_type": "code",
   "execution_count": 2,
   "metadata": {},
   "outputs": [],
   "source": [
    "paths_target=[ 'C:\\\\Users\\\\David\\\\Desktop\\\\KI_Desktop\\\\data_reconstructions\\\\IEM\\\\IEM_trainT_testT_high_error.xlsx',\n",
    "              'C:\\\\Users\\\\David\\\\Desktop\\\\KI_Desktop\\\\data_reconstructions\\\\IEM\\\\IEM_trainT_testT_low_error.xlsx',\n",
    "               'C:\\\\Users\\\\David\\\\Desktop\\\\KI_Desktop\\\\data_reconstructions\\\\IEM\\\\IEM_trainD_testT_high_error.xlsx',\n",
    "             'C:\\\\Users\\\\David\\\\Desktop\\\\KI_Desktop\\\\data_reconstructions\\\\IEM\\\\IEM_trainD_testT_low_error.xlsx']\n",
    "\n",
    "paths_target_shuff=[ 'C:\\\\Users\\\\David\\\\Desktop\\\\KI_Desktop\\\\data_reconstructions\\\\IEM\\\\shuff_IEM_trainT_testT_high_error.xlsx',\n",
    "              'C:\\\\Users\\\\David\\\\Desktop\\\\KI_Desktop\\\\data_reconstructions\\\\IEM\\\\shuff_IEM_trainT_testT_low_error.xlsx',\n",
    "               'C:\\\\Users\\\\David\\\\Desktop\\\\KI_Desktop\\\\data_reconstructions\\\\IEM\\\\shuff_IEM_trainD_testT_high_error.xlsx',\n",
    "             'C:\\\\Users\\\\David\\\\Desktop\\\\KI_Desktop\\\\data_reconstructions\\\\IEM\\\\shuff_IEM_trainD_testT_low_error.xlsx']"
   ]
  },
  {
   "cell_type": "code",
   "execution_count": null,
   "metadata": {},
   "outputs": [],
   "source": [
    "df_target=[] ##target ha sido entrenado en el delay del distractor y viceversa\n",
    "df_target_shuff=[]\n",
    "\n",
    "for PathI in paths_target:\n",
    "    path_save_signal =PathI\n",
    "    #\n",
    "    decoding_item= path_save_signal.split('\\\\')[-1].split('.')[0].split('_')[2][-1]\n",
    "    training_item = path_save_signal.split('\\\\')[-1].split('.')[0].split('_')[1][-1]\n",
    "    error_ = path_save_signal.split('\\\\')[-1].split('.')[0].split('_')[3]\n",
    "    #\n",
    "    df_x = pd.read_excel(PathI)\n",
    "    df_x['decoding_item'] = decoding_item\n",
    "    df_x['training_item'] =training_item\n",
    "    df_x['error_performance'] = error_    \n",
    "    #\n",
    "    df_target.append(df_x)\n",
    "    \n",
    "#\n",
    "df_target=pd.concat(df_target, axis=0)\n",
    "df_target['decoding_item'] = df_target['decoding_item'].replace(['T', 'D'], ['target', 'distractor'])\n",
    "df_target['training_item'] = df_target['training_item'].replace(['T', 'D'], ['target', 'distractor'])\n",
    "\n",
    "\n",
    "####################\n",
    "\n",
    "for PathI in paths_target_shuff:\n",
    "    path_sh_signal =PathI\n",
    "    #\n",
    "    decoding_item= path_sh_signal.split('\\\\')[-1].split('.')[0].split('_')[3][-1]\n",
    "    training_item = path_sh_signal.split('\\\\')[-1].split('.')[0].split('_')[2][-1]\n",
    "    error_= path_sh_signal.split('\\\\')[-1].split('.')[0].split('_')[4]\n",
    "    #\n",
    "    df_x = pd.read_excel(PathI)\n",
    "    df_x['decoding_item'] = decoding_item\n",
    "    df_x['training_item'] =training_item\n",
    "    df_x['error_performance'] = error_    \n",
    "    #\n",
    "    df_target_shuff.append(df_x)\n",
    "    \n",
    "#\n",
    "df_target_shuff=pd.concat(df_target_shuff, axis=0)\n",
    "df_target_shuff['decoding_item'] = df_target_shuff['decoding_item'].replace(['T', 'D'], ['target', 'distractor'])\n",
    "df_target_shuff['training_item'] = df_target_shuff['training_item'].replace(['T', 'D'], ['target', 'distractor'])"
   ]
  },
  {
   "cell_type": "code",
   "execution_count": null,
   "metadata": {},
   "outputs": [],
   "source": [
    "df = df_target\n",
    "df_shuff = df_target_shuff\n",
    "\n",
    "df_time_target=[]\n",
    "\n",
    "\n",
    "for cond in ['1_0.2','1_7', '2_0.2', '2_7']:\n",
    "    for reg in ['visual', 'ips', 'pfc']:\n",
    "        for subj in ['d001', 's001', 'l001', 'n001', 'b001', 'r001']:\n",
    "            for training_item in ['target', 'distractor']:\n",
    "                for error_perf in ['high', 'low']:\n",
    "                    for t in df.times.unique(): \n",
    "                        #\n",
    "                        decoding_item='target'\n",
    "                        #\n",
    "                        dec_sig = df.loc[(df['region']==reg) & (df['times']== t) & \n",
    "                               ( df['condition']==cond) & (df['subject']==subj) &  \n",
    "                               ( df['training_item']==training_item) & \n",
    "                               ( df['decoding_item']== decoding_item) & \n",
    "                               ( df['error_perfromance']== error_perf)]\n",
    "                        #\n",
    "                        dec_shuff = df_shuff.loc[(df_shuff['region']==reg) & (df_shuff['times']== t) & \n",
    "                               ( df_shuff['condition']==cond) & (df_shuff['subject']==subj) &  \n",
    "                               ( df_shuff['training_item']==training_item)  & \n",
    "                               ( df_shuff['decoding_item']== decoding_item) & \n",
    "                               ( df_shuff['error_perfromance']== error_perf)].decoding\n",
    "                        #\n",
    "                        decoding_ = (dec_sig.decoding.iloc[0]  - dec_shuff.mean()) / dec_shuff.std()\n",
    "                        df_time_target.append( [t, decoding_, reg, subj, cond, dec_sig.label.iloc[0], training_item, decoding_item, error_perf] )   \n",
    "                        ####)\n",
    "#\n",
    "df_time_target = pd.DataFrame(df_time_target)\n",
    "df_time_target.columns=['times', 'decoding', 'region', 'subject', 'condition', 'label', 'training_item', 'decoding_item', 'error_perf']"
   ]
  },
  {
   "cell_type": "code",
   "execution_count": null,
   "metadata": {},
   "outputs": [],
   "source": [
    "df_x = df_time_target.loc[(df_time_target['training_item']=='target') \n",
    "                          & (df_time_target['error_perf']=='high')]\n",
    "tiemcourse(df_x , 'High Decode: target; tr: target', ylims=[-30,30])"
   ]
  },
  {
   "cell_type": "code",
   "execution_count": null,
   "metadata": {},
   "outputs": [],
   "source": [
    "df_x = df_time_target.loc[(df_time_target['training_item']=='target') \n",
    "                          & (df_time_target['error_perf']=='low')]\n",
    "tiemcourse(df_x , 'Low Decode: target; tr: target', ylims=[-30,30])"
   ]
  },
  {
   "cell_type": "code",
   "execution_count": null,
   "metadata": {},
   "outputs": [],
   "source": []
  },
  {
   "cell_type": "code",
   "execution_count": null,
   "metadata": {},
   "outputs": [],
   "source": [
    "df_x = df_time_target.loc[(df_time_target['training_item']=='distractor') \n",
    "                         & (df_time_target['error_perf']=='high')]\n",
    "tiemcourse(df_x , 'High Decode: target; tr: distractor', ylims=[-30,30])"
   ]
  },
  {
   "cell_type": "code",
   "execution_count": null,
   "metadata": {},
   "outputs": [],
   "source": [
    "df_x = df_time_target.loc[(df_time_target['training_item']=='distractor') \n",
    "                         & (df_time_target['error_perf']=='low')]\n",
    "tiemcourse(df_x , 'Low Decode: target; tr: distractor', ylims=[-30,30])"
   ]
  }
 ],
 "metadata": {
  "kernelspec": {
   "display_name": "Python 3",
   "language": "python",
   "name": "python3"
  },
  "language_info": {
   "codemirror_mode": {
    "name": "ipython",
    "version": 3
   },
   "file_extension": ".py",
   "mimetype": "text/x-python",
   "name": "python",
   "nbconvert_exporter": "python",
   "pygments_lexer": "ipython3",
   "version": "3.5.6"
  }
 },
 "nbformat": 4,
 "nbformat_minor": 2
}
