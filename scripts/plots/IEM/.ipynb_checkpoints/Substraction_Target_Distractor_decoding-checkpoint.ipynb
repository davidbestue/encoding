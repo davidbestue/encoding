{
 "cells": [
  {
   "cell_type": "code",
   "execution_count": 1,
   "metadata": {},
   "outputs": [],
   "source": [
    "from linares_plot import *\n",
    "import sys, os\n",
    "path_tools = 'C:\\\\Users\\\\David\\\\Documents\\\\GitHub\\\\encoding\\\\scripts\\\\wm_representation\\\\functions\\\\IEM\\\\tools'\n",
    "sys.path.insert(1, path_tools)\n",
    "from timecourse import *"
   ]
  },
  {
   "cell_type": "code",
   "execution_count": 4,
   "metadata": {},
   "outputs": [
    {
     "name": "stdout",
     "output_type": "stream",
     "text": [
      "The autoreload extension is already loaded. To reload it, use:\n",
      "  %reload_ext autoreload\n"
     ]
    }
   ],
   "source": [
    "%load_ext autoreload\n",
    "%autoreload 2"
   ]
  },
  {
   "cell_type": "code",
   "execution_count": 5,
   "metadata": {},
   "outputs": [],
   "source": [
    "paths_=[ 'C:\\\\Users\\\\David\\\\Desktop\\\\KI_Desktop\\\\data_reconstructions\\\\IEM\\\\IEM_trainT_testT_runsout.xlsx', \n",
    "               'C:\\\\Users\\\\David\\\\Desktop\\\\KI_Desktop\\\\data_reconstructions\\\\IEM\\\\IEM_trainD_testD_runsout.xlsx']\n",
    "\n",
    "paths_shuff=[ 'C:\\\\Users\\\\David\\\\Desktop\\\\KI_Desktop\\\\data_reconstructions\\\\IEM\\\\shuff_IEM_trainT_testT_runsout.xlsx', \n",
    "                     'C:\\\\Users\\\\David\\\\Desktop\\\\KI_Desktop\\\\data_reconstructions\\\\IEM\\\\shuff_IEM_trainD_testD_runsout.xlsx']\n"
   ]
  },
  {
   "cell_type": "code",
   "execution_count": 9,
   "metadata": {},
   "outputs": [],
   "source": [
    "df_=[] ##target ha sido entrenado en el delay del distractor y viceversa\n",
    "df_shuff=[]\n",
    "\n",
    "for PathI in paths_:\n",
    "    path_save_signal =PathI\n",
    "    #\n",
    "    decoding_item= path_save_signal.split('\\\\')[-1].split('.')[0].split('_')[2][-1]\n",
    "    training_item = path_save_signal.split('\\\\')[-1].split('.')[0].split('_')[1][-1]\n",
    "    #\n",
    "    df_x = pd.read_excel(PathI)\n",
    "    df_x['decoding_item'] = decoding_item\n",
    "    df_x['training_item'] =training_item\n",
    "    \n",
    "    #\n",
    "    df_.append(df_x)\n",
    "    \n",
    "#\n",
    "df_=pd.concat(df_, axis=0)\n",
    "df_['decoding_item'] = df_['decoding_item'].replace(['T', 'D'], ['target', 'distractor'])\n",
    "df_['training_item'] = df_['training_item'].replace(['T', 'D'], ['target', 'distractor'])\n",
    "\n",
    "\n",
    "####################\n",
    "\n",
    "for PathI in paths_shuff:\n",
    "    path_sh_signal =PathI\n",
    "    #\n",
    "    decoding_item= path_sh_signal.split('\\\\')[-1].split('.')[0].split('_')[3][-1]\n",
    "    training_item = path_sh_signal.split('\\\\')[-1].split('.')[0].split('_')[2][-1]\n",
    "    #\n",
    "    df_x = pd.read_excel(PathI)\n",
    "    df_x['decoding_item'] = decoding_item\n",
    "    df_x['training_item'] =training_item\n",
    "    \n",
    "    #\n",
    "    df_shuff.append(df_x)\n",
    "    \n",
    "#\n",
    "df_shuff=pd.concat(df_shuff, axis=0)\n",
    "df_shuff['decoding_item'] = df_shuff['decoding_item'].replace(['T', 'D'], ['target', 'distractor'])\n",
    "df_shuff['training_item'] = df_shuff['training_item'].replace(['T', 'D'], ['target', 'distractor'])"
   ]
  },
  {
   "cell_type": "code",
   "execution_count": null,
   "metadata": {},
   "outputs": [],
   "source": []
  },
  {
   "cell_type": "code",
   "execution_count": null,
   "metadata": {},
   "outputs": [],
   "source": [
    "df_time=[]\n",
    "\n",
    "for cond in ['1_0.2','1_7', '2_0.2', '2_7']:\n",
    "    for reg in ['visual', 'ips', 'pfc']:\n",
    "        for subj in ['d001', 's001', 'l001', 'n001', 'b001', 'r001']:\n",
    "            for training_item in ['target', 'distractor']:\n",
    "                for decoding_item in ['target', 'distractor']:\n",
    "                    for t in df_.times.unique(): \n",
    "                        #\n",
    "                        dec_sig = df_.loc[(df_['region']==reg) & (df_['times']== t) & \n",
    "                               ( df_['condition']==cond) & (df_['subject']==subj) &  \n",
    "                               ( df_['training_item']==training_item) & \n",
    "                               ( df_['decoding_item']== decoding_item)]\n",
    "                        #\n",
    "                        dec_shuff = df_shuff.loc[(df_shuff['region']==reg) & (df_shuff['times']== t) & \n",
    "                               ( df_shuff['condition']==cond) & (df_shuff['subject']==subj) &  \n",
    "                               ( df_shuff['training_item']==training_item)  & \n",
    "                               ( df_shuff['decoding_item']== decoding_item) ].decoding\n",
    "                        #\n",
    "                        try:\n",
    "                            decoding_ = (dec_sig.decoding.iloc[0]  - dec_shuff.mean()) / dec_shuff.std()\n",
    "                            decoding_ = dec_sig.decoding.iloc[0]  - dec_shuff.mean()\n",
    "                            df_time.append( [t, decoding_, reg, subj, cond, dec_sig.label.iloc[0], training_item, decoding_item] )   \n",
    "                        except:\n",
    "                            pass\n",
    "                        \n",
    "                        ####\n",
    "#\n",
    "df_time = pd.DataFrame(df_time)\n",
    "df_time.columns=['times', 'decoding', 'region', 'subject', 'condition', 'label', 'training_item', 'decoding_item']"
   ]
  },
  {
   "cell_type": "code",
   "execution_count": null,
   "metadata": {},
   "outputs": [],
   "source": []
  }
 ],
 "metadata": {
  "kernelspec": {
   "display_name": "Python 3",
   "language": "python",
   "name": "python3"
  },
  "language_info": {
   "codemirror_mode": {
    "name": "ipython",
    "version": 3
   },
   "file_extension": ".py",
   "mimetype": "text/x-python",
   "name": "python",
   "nbconvert_exporter": "python",
   "pygments_lexer": "ipython3",
   "version": "3.5.6"
  }
 },
 "nbformat": 4,
 "nbformat_minor": 2
}
