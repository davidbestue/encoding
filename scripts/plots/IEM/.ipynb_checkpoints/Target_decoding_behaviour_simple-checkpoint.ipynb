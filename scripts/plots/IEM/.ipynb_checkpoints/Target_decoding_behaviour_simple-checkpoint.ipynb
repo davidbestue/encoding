{
 "cells": [
  {
   "cell_type": "code",
   "execution_count": 1,
   "metadata": {},
   "outputs": [],
   "source": [
    "from linares_plot import *\n",
    "import sys, os\n",
    "path_tools = 'C:\\\\Users\\\\David\\\\Documents\\\\GitHub\\\\encoding\\\\scripts\\\\wm_representation\\\\functions\\\\IEM\\\\tools'\n",
    "sys.path.insert(1, path_tools)\n",
    "from timecourse import *"
   ]
  },
  {
   "cell_type": "code",
   "execution_count": 2,
   "metadata": {},
   "outputs": [
    {
     "data": {
      "text/html": [
       "<div>\n",
       "<style scoped>\n",
       "    .dataframe tbody tr th:only-of-type {\n",
       "        vertical-align: middle;\n",
       "    }\n",
       "\n",
       "    .dataframe tbody tr th {\n",
       "        vertical-align: top;\n",
       "    }\n",
       "\n",
       "    .dataframe thead th {\n",
       "        text-align: right;\n",
       "    }\n",
       "</style>\n",
       "<table border=\"1\" class=\"dataframe\">\n",
       "  <thead>\n",
       "    <tr style=\"text-align: right;\">\n",
       "      <th></th>\n",
       "      <th>Unnamed: 0</th>\n",
       "      <th>index</th>\n",
       "      <th>type</th>\n",
       "      <th>delay1</th>\n",
       "      <th>delay2</th>\n",
       "      <th>T</th>\n",
       "      <th>NT1</th>\n",
       "      <th>NT2</th>\n",
       "      <th>Dist</th>\n",
       "      <th>Dist_NT1</th>\n",
       "      <th>...</th>\n",
       "      <th>angle_16.345</th>\n",
       "      <th>angle_18.68</th>\n",
       "      <th>angle_21.015</th>\n",
       "      <th>angle_23.35</th>\n",
       "      <th>angle_25.685</th>\n",
       "      <th>angle_28.02</th>\n",
       "      <th>angle_30.355</th>\n",
       "      <th>angle_32.69</th>\n",
       "      <th>angle_35.025</th>\n",
       "      <th>brain_region</th>\n",
       "    </tr>\n",
       "  </thead>\n",
       "  <tbody>\n",
       "    <tr>\n",
       "      <th>0</th>\n",
       "      <td>0</td>\n",
       "      <td>0</td>\n",
       "      <td>1</td>\n",
       "      <td>0.2</td>\n",
       "      <td>11.8</td>\n",
       "      <td>142</td>\n",
       "      <td>241</td>\n",
       "      <td>321</td>\n",
       "      <td>126.0</td>\n",
       "      <td>214.7</td>\n",
       "      <td>...</td>\n",
       "      <td>353.306880</td>\n",
       "      <td>301.334949</td>\n",
       "      <td>53.138939</td>\n",
       "      <td>146.178575</td>\n",
       "      <td>172.671739</td>\n",
       "      <td>334.001720</td>\n",
       "      <td>342.383377</td>\n",
       "      <td>335.097734</td>\n",
       "      <td>180.318258</td>\n",
       "      <td>visual</td>\n",
       "    </tr>\n",
       "    <tr>\n",
       "      <th>1</th>\n",
       "      <td>1</td>\n",
       "      <td>1</td>\n",
       "      <td>3</td>\n",
       "      <td>7.0</td>\n",
       "      <td>12.0</td>\n",
       "      <td>204</td>\n",
       "      <td>51</td>\n",
       "      <td>114</td>\n",
       "      <td>311.0</td>\n",
       "      <td>65.1</td>\n",
       "      <td>...</td>\n",
       "      <td>239.733096</td>\n",
       "      <td>254.710918</td>\n",
       "      <td>277.986737</td>\n",
       "      <td>15.277336</td>\n",
       "      <td>22.813718</td>\n",
       "      <td>26.142667</td>\n",
       "      <td>29.932089</td>\n",
       "      <td>195.239276</td>\n",
       "      <td>190.548065</td>\n",
       "      <td>visual</td>\n",
       "    </tr>\n",
       "    <tr>\n",
       "      <th>2</th>\n",
       "      <td>2</td>\n",
       "      <td>2</td>\n",
       "      <td>3</td>\n",
       "      <td>7.0</td>\n",
       "      <td>5.0</td>\n",
       "      <td>63</td>\n",
       "      <td>200</td>\n",
       "      <td>139</td>\n",
       "      <td>305.0</td>\n",
       "      <td>216.7</td>\n",
       "      <td>...</td>\n",
       "      <td>358.545119</td>\n",
       "      <td>340.488780</td>\n",
       "      <td>342.883275</td>\n",
       "      <td>330.619499</td>\n",
       "      <td>159.648407</td>\n",
       "      <td>157.173739</td>\n",
       "      <td>168.093078</td>\n",
       "      <td>163.740625</td>\n",
       "      <td>328.732464</td>\n",
       "      <td>visual</td>\n",
       "    </tr>\n",
       "    <tr>\n",
       "      <th>3</th>\n",
       "      <td>3</td>\n",
       "      <td>3</td>\n",
       "      <td>3</td>\n",
       "      <td>7.0</td>\n",
       "      <td>12.0</td>\n",
       "      <td>296</td>\n",
       "      <td>223</td>\n",
       "      <td>156</td>\n",
       "      <td>53.0</td>\n",
       "      <td>204.2</td>\n",
       "      <td>...</td>\n",
       "      <td>41.006448</td>\n",
       "      <td>233.746383</td>\n",
       "      <td>50.056368</td>\n",
       "      <td>22.161452</td>\n",
       "      <td>12.949112</td>\n",
       "      <td>338.683813</td>\n",
       "      <td>209.808055</td>\n",
       "      <td>201.980750</td>\n",
       "      <td>187.059487</td>\n",
       "      <td>visual</td>\n",
       "    </tr>\n",
       "    <tr>\n",
       "      <th>4</th>\n",
       "      <td>4</td>\n",
       "      <td>4</td>\n",
       "      <td>3</td>\n",
       "      <td>0.2</td>\n",
       "      <td>11.8</td>\n",
       "      <td>312</td>\n",
       "      <td>42</td>\n",
       "      <td>232</td>\n",
       "      <td>113.0</td>\n",
       "      <td>29.4</td>\n",
       "      <td>...</td>\n",
       "      <td>172.449342</td>\n",
       "      <td>133.071008</td>\n",
       "      <td>3.575792</td>\n",
       "      <td>311.213662</td>\n",
       "      <td>356.300365</td>\n",
       "      <td>6.816928</td>\n",
       "      <td>337.767719</td>\n",
       "      <td>187.996226</td>\n",
       "      <td>173.282839</td>\n",
       "      <td>visual</td>\n",
       "    </tr>\n",
       "  </tbody>\n",
       "</table>\n",
       "<p>5 rows × 79 columns</p>\n",
       "</div>"
      ],
      "text/plain": [
       "   Unnamed: 0  index  type  delay1  delay2    T  NT1  NT2   Dist  Dist_NT1  \\\n",
       "0           0      0     1     0.2    11.8  142  241  321  126.0     214.7   \n",
       "1           1      1     3     7.0    12.0  204   51  114  311.0      65.1   \n",
       "2           2      2     3     7.0     5.0   63  200  139  305.0     216.7   \n",
       "3           3      3     3     7.0    12.0  296  223  156   53.0     204.2   \n",
       "4           4      4     3     0.2    11.8  312   42  232  113.0      29.4   \n",
       "\n",
       "   ...  angle_16.345  angle_18.68  angle_21.015  angle_23.35  angle_25.685  \\\n",
       "0  ...    353.306880   301.334949     53.138939   146.178575    172.671739   \n",
       "1  ...    239.733096   254.710918    277.986737    15.277336     22.813718   \n",
       "2  ...    358.545119   340.488780    342.883275   330.619499    159.648407   \n",
       "3  ...     41.006448   233.746383     50.056368    22.161452     12.949112   \n",
       "4  ...    172.449342   133.071008      3.575792   311.213662    356.300365   \n",
       "\n",
       "   angle_28.02  angle_30.355  angle_32.69  angle_35.025  brain_region  \n",
       "0   334.001720    342.383377   335.097734    180.318258        visual  \n",
       "1    26.142667     29.932089   195.239276    190.548065        visual  \n",
       "2   157.173739    168.093078   163.740625    328.732464        visual  \n",
       "3   338.683813    209.808055   201.980750    187.059487        visual  \n",
       "4     6.816928    337.767719   187.996226    173.282839        visual  \n",
       "\n",
       "[5 rows x 79 columns]"
      ]
     },
     "execution_count": 2,
     "metadata": {},
     "output_type": "execute_result"
    }
   ],
   "source": [
    "path = 'C:\\\\Users\\\\David\\\\Desktop\\\\KI_Desktop\\\\data_reconstructions\\\\IEM\\\\IEM_trainT_testT_trials.xlsx'\n",
    "df=pd.read_excel(path)\n",
    "df.head()"
   ]
  },
  {
   "cell_type": "code",
   "execution_count": 3,
   "metadata": {},
   "outputs": [
    {
     "data": {
      "text/plain": [
       "7952"
      ]
     },
     "execution_count": 3,
     "metadata": {},
     "output_type": "execute_result"
    }
   ],
   "source": [
    "len(df)"
   ]
  },
  {
   "cell_type": "code",
   "execution_count": 7,
   "metadata": {},
   "outputs": [
    {
     "name": "stdout",
     "output_type": "stream",
     "text": [
      "['d001' 'n001' 'b001' 'r001' 's001' 'l001']\n",
      "['visual' 'ips' 'pfc' 'broca']\n",
      "['1_0.2' '2_7' '1_7' '2_0.2']\n"
     ]
    }
   ],
   "source": [
    "print(df.subject.unique())\n",
    "print(df.brain_region.unique())\n",
    "print(df.Condition.unique())"
   ]
  },
  {
   "cell_type": "code",
   "execution_count": 17,
   "metadata": {},
   "outputs": [
    {
     "name": "stderr",
     "output_type": "stream",
     "text": [
      "C:\\Users\\David\\Anaconda3\\envs\\python3\\lib\\site-packages\\ipykernel_launcher.py:4: SettingWithCopyWarning: \n",
      "A value is trying to be set on a copy of a slice from a DataFrame.\n",
      "Try using .loc[row_indexer,col_indexer] = value instead\n",
      "\n",
      "See the caveats in the documentation: http://pandas.pydata.org/pandas-docs/stable/user_guide/indexing.html#returning-a-view-versus-a-copy\n",
      "  after removing the cwd from sys.path.\n"
     ]
    },
    {
     "data": {
      "text/plain": [
       "Text(0.5,1,'')"
      ]
     },
     "execution_count": 17,
     "metadata": {},
     "output_type": "execute_result"
    },
    {
     "data": {
      "image/png": "[encoded data removed]",
      "text/plain": [
       "<Figure size 432x288 with 1 Axes>"
      ]
     },
     "metadata": {
      "needs_background": "light"
     },
     "output_type": "display_data"
    }
   ],
   "source": [
    "df_1_02 = df.loc[(df['Condition']=='1_0.2')]\n",
    "df_1_02['decoding_delay'] = df_1_02[['signal_11.675', 'signal_14.01', 'signal_16.345', 'signal_18.68']].mean(axis=1)\n",
    "\n",
    "linares_plot(x='brain_region', y='decoding_delay', order=['visual', 'ips', 'pfc', 'broca'], \n",
    "              df=df_1_02, palette=['darkblue', 'darkorange', 'darkgreen', 'grey'], CI=0.95,  \n",
    "             fill_box=True, by_subj=True, subj_col='subject', \n",
    "             reps=100, alpha_box=0.7, alpha=0.6,  point_size=10, leg=True, sep_axis=False)\n",
    "plt.gca().spines['right'].set_visible(False)  # aesthetics                                                                              # remove right spines\n",
    "plt.gca().spines['top'].set_visible(False)                                                                                  # remove top spines\n",
    "plt.gca().get_xaxis().tick_bottom()                                                                                         \n",
    "plt.gca().get_yaxis().tick_left()\n",
    "plt.gca().tick_params(direction='in') #direction\n",
    "plt.xlabel('')\n",
    "plt.plot([-0.5,3.5], [0,0], 'k--', linewidth=2)\n",
    "plt.ylabel('target decoding', fontsize=25)# (std. dist.)')\n",
    "#plt.gca().set_ylim(-5,10)\n",
    "#plt.gca().set_yticks([-5,0,5,10])\n",
    "plt.title('')\n"
   ]
  },
  {
   "cell_type": "code",
   "execution_count": 18,
   "metadata": {},
   "outputs": [
    {
     "name": "stderr",
     "output_type": "stream",
     "text": [
      "C:\\Users\\David\\Anaconda3\\envs\\python3\\lib\\site-packages\\ipykernel_launcher.py:2: SettingWithCopyWarning: \n",
      "A value is trying to be set on a copy of a slice from a DataFrame.\n",
      "Try using .loc[row_indexer,col_indexer] = value instead\n",
      "\n",
      "See the caveats in the documentation: http://pandas.pydata.org/pandas-docs/stable/user_guide/indexing.html#returning-a-view-versus-a-copy\n",
      "  \n"
     ]
    },
    {
     "data": {
      "text/plain": [
       "Text(0.5,1,'')"
      ]
     },
     "execution_count": 18,
     "metadata": {},
     "output_type": "execute_result"
    },
    {
     "data": {
      "image/png": "[encoded data removed]",
      "text/plain": [
       "<Figure size 432x288 with 1 Axes>"
      ]
     },
     "metadata": {
      "needs_background": "light"
     },
     "output_type": "display_data"
    }
   ],
   "source": [
    "df_1_7 = df.loc[(df['Condition']=='1_7')]\n",
    "df_1_7['decoding_delay'] = df_1_7[['signal_11.675', 'signal_14.01']].mean(axis=1)\n",
    "\n",
    "linares_plot(x='brain_region', y='decoding_delay', order=['visual', 'ips', 'pfc', 'broca'], \n",
    "              df=df_1_7, palette=['darkblue', 'darkorange', 'darkgreen', 'grey'], CI=0.95,  \n",
    "             fill_box=True, by_subj=True, subj_col='subject', \n",
    "             reps=100, alpha_box=0.7, alpha=0.6,  point_size=10, leg=True, sep_axis=False)\n",
    "plt.gca().spines['right'].set_visible(False)  # aesthetics                                                                              # remove right spines\n",
    "plt.gca().spines['top'].set_visible(False)                                                                                  # remove top spines\n",
    "plt.gca().get_xaxis().tick_bottom()                                                                                         \n",
    "plt.gca().get_yaxis().tick_left()\n",
    "plt.gca().tick_params(direction='in') #direction\n",
    "plt.xlabel('')\n",
    "plt.plot([-0.5,3.5], [0,0], 'k--', linewidth=2)\n",
    "plt.ylabel('target decoding', fontsize=25)# (std. dist.)')\n",
    "#plt.gca().set_ylim(-5,10)\n",
    "#plt.gca().set_yticks([-5,0,5,10])\n",
    "plt.title('')\n"
   ]
  },
  {
   "cell_type": "code",
   "execution_count": 24,
   "metadata": {},
   "outputs": [
    {
     "name": "stderr",
     "output_type": "stream",
     "text": [
      "C:\\Users\\David\\Anaconda3\\envs\\python3\\lib\\site-packages\\ipykernel_launcher.py:2: SettingWithCopyWarning: \n",
      "A value is trying to be set on a copy of a slice from a DataFrame.\n",
      "Try using .loc[row_indexer,col_indexer] = value instead\n",
      "\n",
      "See the caveats in the documentation: http://pandas.pydata.org/pandas-docs/stable/user_guide/indexing.html#returning-a-view-versus-a-copy\n",
      "  \n"
     ]
    },
    {
     "data": {
      "text/plain": [
       "Text(0.5,1,'')"
      ]
     },
     "execution_count": 24,
     "metadata": {},
     "output_type": "execute_result"
    },
    {
     "data": {
      "image/png": "[encoded data removed]",
      "text/plain": [
       "<Figure size 432x288 with 1 Axes>"
      ]
     },
     "metadata": {
      "needs_background": "light"
     },
     "output_type": "display_data"
    }
   ],
   "source": [
    "df_2_7 = df.loc[(df['Condition']=='2_7')]\n",
    "df_2_7['decoding_delay'] = df_2_7[['signal_11.675', 'signal_14.01']].mean(axis=1)\n",
    "\n",
    "linares_plot(x='brain_region', y='decoding_delay', order=['visual', 'ips', 'pfc', 'broca'], \n",
    "              df=df_2_7, palette=['darkblue', 'darkorange', 'darkgreen', 'grey'], CI=0.95,  \n",
    "             fill_box=True, by_subj=True, subj_col='subject', \n",
    "             reps=100, alpha_box=0.7, alpha=0.6,  point_size=10, leg=True, sep_axis=False)\n",
    "plt.gca().spines['right'].set_visible(False)  # aesthetics                                                                              # remove right spines\n",
    "plt.gca().spines['top'].set_visible(False)                                                                                  # remove top spines\n",
    "plt.gca().get_xaxis().tick_bottom()                                                                                         \n",
    "plt.gca().get_yaxis().tick_left()\n",
    "plt.gca().tick_params(direction='in') #direction\n",
    "plt.xlabel('')\n",
    "plt.plot([-0.5,3.5], [0,0], 'k--', linewidth=2)\n",
    "plt.ylabel('target decoding', fontsize=25)# (std. dist.)')\n",
    "#plt.gca().set_ylim(-5,10)\n",
    "#plt.gca().set_yticks([-5,0,5,10])\n",
    "plt.title('')"
   ]
  },
  {
   "cell_type": "code",
   "execution_count": 20,
   "metadata": {},
   "outputs": [
    {
     "data": {
      "text/plain": [
       "Index(['Unnamed: 0', 'index', 'type', 'delay1', 'delay2', 'T', 'NT1', 'NT2',\n",
       "       'Dist', 'Dist_NT1', 'Dist_NT2', 'distance_T_dist', 'cue', 'order',\n",
       "       'orient', 'horiz_vertical', 'A_R', 'A_err', 'Abs_angle_error',\n",
       "       'Error_interference', 'A_DC', 'A_DC_dist', 'Q_DC', 'A_DF', 'A_DF_dist',\n",
       "       'Q_DF', 'A_DVF', 'Q_DVF', 'A_DVF_dist', 'Q_DVF_dist',\n",
       "       'presentation_att_cue_time', 'presentation_target_time',\n",
       "       'presentation_dist_time', 'presentation_probe_time', 'R_T',\n",
       "       'trial_time', 'disp_time', 'T_alone', 'dist_alone', 'T_close',\n",
       "       'dist_close', 'subject', 'session', 'run', 'session_run', 'Condition',\n",
       "       'signal_0.0', 'signal_2.335', 'signal_4.67', 'signal_7.005',\n",
       "       'signal_9.34', 'signal_11.675', 'signal_14.01', 'signal_16.345',\n",
       "       'signal_18.68', 'signal_21.015', 'signal_23.35', 'signal_25.685',\n",
       "       'signal_28.02', 'signal_30.355', 'signal_32.69', 'signal_35.025',\n",
       "       'angle_0.0', 'angle_2.335', 'angle_4.67', 'angle_7.005', 'angle_9.34',\n",
       "       'angle_11.675', 'angle_14.01', 'angle_16.345', 'angle_18.68',\n",
       "       'angle_21.015', 'angle_23.35', 'angle_25.685', 'angle_28.02',\n",
       "       'angle_30.355', 'angle_32.69', 'angle_35.025', 'brain_region'],\n",
       "      dtype='object')"
      ]
     },
     "execution_count": 20,
     "metadata": {},
     "output_type": "execute_result"
    }
   ],
   "source": [
    "df.columns"
   ]
  },
  {
   "cell_type": "code",
   "execution_count": null,
   "metadata": {},
   "outputs": [],
   "source": []
  }
 ],
 "metadata": {
  "kernelspec": {
   "display_name": "Python 3",
   "language": "python",
   "name": "python3"
  },
  "language_info": {
   "codemirror_mode": {
    "name": "ipython",
    "version": 3
   },
   "file_extension": ".py",
   "mimetype": "text/x-python",
   "name": "python",
   "nbconvert_exporter": "python",
   "pygments_lexer": "ipython3",
   "version": "3.5.6"
  }
 },
 "nbformat": 4,
 "nbformat_minor": 2
}
