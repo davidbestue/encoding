{
 "cells": [
  {
   "cell_type": "code",
   "execution_count": 1,
   "metadata": {},
   "outputs": [],
   "source": [
    "from linares_plot import *\n",
    "import sys, os\n",
    "path_tools = 'C:\\\\Users\\\\David\\\\Documents\\\\GitHub\\\\encoding\\\\scripts\\\\wm_representation\\\\functions\\\\IEM\\\\tools'\n",
    "sys.path.insert(1, path_tools)\n",
    "from timecourse import *\n",
    "from tiemcourse_by_subject import *\n",
    "from mlxtend.evaluate import permutation_test\n"
   ]
  },
  {
   "cell_type": "code",
   "execution_count": 2,
   "metadata": {},
   "outputs": [],
   "source": [
    "%load_ext autoreload\n",
    "%autoreload 2"
   ]
  },
  {
   "cell_type": "markdown",
   "metadata": {},
   "source": [
    "# Decoding target"
   ]
  },
  {
   "cell_type": "code",
   "execution_count": 4,
   "metadata": {},
   "outputs": [],
   "source": [
    "paths_target=[ 'C:\\\\Users\\\\David\\\\Desktop\\\\KI_Desktop\\\\data_reconstructions\\\\IEM\\\\IEM_trainT_testT_runsout100.xlsx', \n",
    "               'C:\\\\Users\\\\David\\\\Desktop\\\\KI_Desktop\\\\data_reconstructions\\\\IEM\\\\IEM_trainD_testT_runsout100.xlsx']\n",
    "\n",
    "paths_target_shuff=[ 'C:\\\\Users\\\\David\\\\Desktop\\\\KI_Desktop\\\\data_reconstructions\\\\IEM\\\\shuff_IEM_trainT_testT_runsout100.xlsx', \n",
    "                     'C:\\\\Users\\\\David\\\\Desktop\\\\KI_Desktop\\\\data_reconstructions\\\\IEM\\\\shuff_IEM_trainD_testT_runsout100.xlsx']\n"
   ]
  },
  {
   "cell_type": "code",
   "execution_count": 5,
   "metadata": {},
   "outputs": [],
   "source": [
    "df_distractor=[] ##target ha sido entrenado en el delay del distractor y viceversa\n",
    "df_distractor_shuff=[]\n",
    "\n",
    "for PathI in paths_target:\n",
    "    path_save_signal =PathI\n",
    "    #\n",
    "    decoding_item= path_save_signal.split('\\\\')[-1].split('.')[0].split('_')[2][-1]\n",
    "    training_item = path_save_signal.split('\\\\')[-1].split('.')[0].split('_')[1][-1]\n",
    "    #\n",
    "    df_x = pd.read_excel(PathI)\n",
    "    df_x['decoding_item'] = decoding_item\n",
    "    df_x['training_item'] =training_item\n",
    "    \n",
    "    #\n",
    "    df_distractor.append(df_x)\n",
    "    \n",
    "#\n",
    "df_distractor=pd.concat(df_distractor, axis=0)\n",
    "df_distractor['decoding_item'] = df_distractor['decoding_item'].replace(['T', 'D'], ['target', 'distractor'])\n",
    "df_distractor['training_item'] = df_distractor['training_item'].replace(['T', 'D'], ['target', 'distractor'])\n",
    "\n",
    "\n",
    "####################\n",
    "\n",
    "for PathI in paths_target_shuff:\n",
    "    path_sh_signal =PathI\n",
    "    #\n",
    "    decoding_item= path_sh_signal.split('\\\\')[-1].split('.')[0].split('_')[3][-1]\n",
    "    training_item = path_sh_signal.split('\\\\')[-1].split('.')[0].split('_')[2][-1]\n",
    "    #\n",
    "    df_x = pd.read_excel(PathI)\n",
    "    df_x['decoding_item'] = decoding_item\n",
    "    df_x['training_item'] =training_item\n",
    "    \n",
    "    #\n",
    "    df_distractor_shuff.append(df_x)\n",
    "    \n",
    "#\n",
    "df_distractor_shuff=pd.concat(df_distractor_shuff, axis=0)\n",
    "df_distractor_shuff['decoding_item'] = df_distractor_shuff['decoding_item'].replace(['T', 'D'], ['target', 'distractor'])\n",
    "df_distractor_shuff['training_item'] = df_distractor_shuff['training_item'].replace(['T', 'D'], ['target', 'distractor'])"
   ]
  },
  {
   "cell_type": "code",
   "execution_count": null,
   "metadata": {},
   "outputs": [],
   "source": [
    "df = df_distractor\n",
    "df_shuff = df_distractor_shuff\n",
    "\n",
    "df_time_distractor=[]\n",
    "\n",
    "\n",
    "for cond in ['1_0.2','1_7', '2_0.2', '2_7']:\n",
    "    for reg in ['visual', 'ips', 'pfc']:\n",
    "        for subj in ['d001', 's001', 'l001', 'n001', 'b001', 'r001']:\n",
    "            for training_item in ['target', 'distractor']:\n",
    "                for t in df.times.unique(): \n",
    "                    #\n",
    "                    decoding_item='target'\n",
    "                    #\n",
    "                    dec_sig = df.loc[(df['region']==reg) & (df['times']== t) & \n",
    "                           ( df['condition']==cond) & (df['subject']==subj) &  \n",
    "                           ( df['training_item']==training_item) & \n",
    "                           ( df['decoding_item']== decoding_item)]\n",
    "                    #\n",
    "                    dec_shuff = df_shuff.loc[(df_shuff['region']==reg) & (df_shuff['times']== t) & \n",
    "                           ( df_shuff['condition']==cond) & (df_shuff['subject']==subj) &  \n",
    "                           ( df_shuff['training_item']==training_item)  & \n",
    "                           ( df_shuff['decoding_item']== decoding_item) ].decoding\n",
    "                    #\n",
    "                    #decoding_ = (dec_sig.decoding.iloc[0]  - dec_shuff.mean()) / dec_shuff.std()\n",
    "                    decoding_ = dec_sig.decoding.iloc[0]  - dec_shuff.mean()\n",
    "                    pval_shuff = permutation_test([dec_sig.decoding.iloc[0]], list(dec_shuff), method='approximate', num_rounds=1000, seed=0)\n",
    "                    df_time_distractor.append( [t, decoding_, reg, subj, cond, dec_sig.label.iloc[0], training_item, decoding_item, pval_shuff] )   \n",
    "                    ####)\n",
    "#\n",
    "df_time_distractor = pd.DataFrame(df_time_distractor)\n",
    "df_time_distractor.columns=['times', 'decoding', 'region', 'subject', 'condition', 'label', 'training_item', 'decoding_item', 'pval']"
   ]
  },
  {
   "cell_type": "code",
   "execution_count": null,
   "metadata": {},
   "outputs": [],
   "source": [
    "df_x = df_time_distractor.loc[(df_time_distractor['training_item']=='distractor') & (df_time_distractor['condition']=='2_7') ]\n",
    "tiemcourse_by_subject(df_x, '2_7', 'order 2 TDOA7: test: targ ; tr: dist', ylims=[-20,20])"
   ]
  },
  {
   "cell_type": "code",
   "execution_count": null,
   "metadata": {},
   "outputs": [],
   "source": []
  },
  {
   "cell_type": "code",
   "execution_count": null,
   "metadata": {},
   "outputs": [],
   "source": [
    "### With significance!"
   ]
  },
  {
   "cell_type": "code",
   "execution_count": null,
   "metadata": {},
   "outputs": [],
   "source": [
    "from tiemcourse_by_subject_permtest import *"
   ]
  },
  {
   "cell_type": "markdown",
   "metadata": {},
   "source": [
    "## Trained in target"
   ]
  },
  {
   "cell_type": "code",
   "execution_count": null,
   "metadata": {},
   "outputs": [],
   "source": [
    "df_x = df_time_distractor.loc[(df_time_distractor['training_item']=='target') & (df_time_distractor['condition']=='1_0.2') ]\n",
    "tiemcourse_by_subject_permtest(df_x, '1_0.2', 'order 1; TDOA 0.2s', ylims=[-20,20], decoding_thing='target')"
   ]
  },
  {
   "cell_type": "code",
   "execution_count": null,
   "metadata": {},
   "outputs": [],
   "source": [
    "df_x = df_time_distractor.loc[(df_time_distractor['training_item']=='target') & (df_time_distractor['condition']=='1_7') ]\n",
    "tiemcourse_by_subject_permtest(df_x, '1_7', 'order 1; TDOA 7s', ylims=[-20,20], decoding_thing='target')"
   ]
  },
  {
   "cell_type": "code",
   "execution_count": null,
   "metadata": {},
   "outputs": [],
   "source": [
    "df_x = df_time_distractor.loc[(df_time_distractor['training_item']=='target') & (df_time_distractor['condition']=='2_0.2') ]\n",
    "tiemcourse_by_subject_permtest(df_x, '2_0.2', 'order 2; TDOA 0.2s', ylims=[-20,20], decoding_thing='target')"
   ]
  },
  {
   "cell_type": "code",
   "execution_count": null,
   "metadata": {
    "scrolled": false
   },
   "outputs": [],
   "source": [
    "df_x = df_time_distractor.loc[(df_time_distractor['training_item']=='target') & (df_time_distractor['condition']=='2_7') ]\n",
    "tiemcourse_by_subject_permtest(df_x, '2_7', 'order 2; TDOA 7s', ylims=[-20,20], decoding_thing='target')"
   ]
  },
  {
   "cell_type": "code",
   "execution_count": null,
   "metadata": {},
   "outputs": [],
   "source": []
  },
  {
   "cell_type": "code",
   "execution_count": null,
   "metadata": {},
   "outputs": [],
   "source": []
  },
  {
   "cell_type": "markdown",
   "metadata": {},
   "source": [
    "## Trained in distractor"
   ]
  },
  {
   "cell_type": "code",
   "execution_count": null,
   "metadata": {},
   "outputs": [],
   "source": [
    "df_x = df_time_distractor.loc[(df_time_distractor['training_item']=='distractor') & (df_time_distractor['condition']=='1_0.2') ]\n",
    "tiemcourse_by_subject_permtest(df_x, '1_0.2', 'order 1; TDOA 0.2s', ylims=[-20,20], decoding_thing='target')"
   ]
  },
  {
   "cell_type": "code",
   "execution_count": null,
   "metadata": {},
   "outputs": [],
   "source": [
    "df_x = df_time_distractor.loc[(df_time_distractor['training_item']=='distractor') & (df_time_distractor['condition']=='1_7') ]\n",
    "tiemcourse_by_subject_permtest(df_x, '1_7', 'order 1; TDOA 7s', ylims=[-20,20], decoding_thing='target')"
   ]
  },
  {
   "cell_type": "code",
   "execution_count": null,
   "metadata": {},
   "outputs": [],
   "source": [
    "df_x = df_time_distractor.loc[(df_time_distractor['training_item']=='distractor') & (df_time_distractor['condition']=='2_0.2') ]\n",
    "tiemcourse_by_subject_permtest(df_x, '2_0.2', 'order 2; TDOA 0.2s', ylims=[-20,20], decoding_thing='target')"
   ]
  },
  {
   "cell_type": "code",
   "execution_count": null,
   "metadata": {},
   "outputs": [],
   "source": [
    "df_x = df_time_distractor.loc[(df_time_distractor['training_item']=='distractor') & (df_time_distractor['condition']=='2_7') ]\n",
    "tiemcourse_by_subject_permtest(df_x, '2_7', 'order 2; TDOA 7s', ylims=[-20,20], decoding_thing='target')"
   ]
  },
  {
   "cell_type": "code",
   "execution_count": null,
   "metadata": {},
   "outputs": [],
   "source": []
  }
 ],
 "metadata": {
  "kernelspec": {
   "display_name": "Python 3",
   "language": "python",
   "name": "python3"
  },
  "language_info": {
   "codemirror_mode": {
    "name": "ipython",
    "version": 3
   },
   "file_extension": ".py",
   "mimetype": "text/x-python",
   "name": "python",
   "nbconvert_exporter": "python",
   "pygments_lexer": "ipython3",
   "version": "3.5.6"
  }
 },
 "nbformat": 4,
 "nbformat_minor": 2
}
