{
 "cells": [
  {
   "cell_type": "code",
   "execution_count": null,
   "metadata": {},
   "outputs": [],
   "source": [
    "## Analysis of the reconstrcutions after eliminating some channels when training.\n",
    "## This is the analysis of the results coming from the flies: \n",
    "### root = C:\\Users\\David\\Documents\\GitHub\\encoding\\scripts\\wm_representation\\functions\\IEM\\Controls\\trial_by_trial\\\n",
    "########## root + trainT_testT_wm3_remove_permissive.py\n",
    "########## root + trainT_testT_wm3_remove_restrictive.py"
   ]
  },
  {
   "cell_type": "code",
   "execution_count": 1,
   "metadata": {},
   "outputs": [],
   "source": [
    "from linares_plot import *\n",
    "import sys, os\n",
    "import statsmodels.formula.api as smf\n",
    "path_tools = 'C:\\\\Users\\\\David\\\\Documents\\\\GitHub\\\\encoding\\\\scripts\\\\wm_representation\\\\functions\\\\IEM\\\\tools'\n",
    "sys.path.insert(1, path_tools)\n",
    "from timecourse import *\n",
    "from timecourse_c import *\n",
    "from scipy import stats\n",
    "from mlxtend.evaluate import permutation_test"
   ]
  },
  {
   "cell_type": "code",
   "execution_count": 2,
   "metadata": {},
   "outputs": [],
   "source": [
    "%load_ext autoreload\n",
    "%autoreload 2"
   ]
  },
  {
   "cell_type": "code",
   "execution_count": 3,
   "metadata": {},
   "outputs": [],
   "source": [
    "## Permissive --> 28 of 36 channels"
   ]
  },
  {
   "cell_type": "code",
   "execution_count": 4,
   "metadata": {},
   "outputs": [
    {
     "name": "stdout",
     "output_type": "stream",
     "text": [
      "(24,)\n",
      "(372, 16, 28)\n"
     ]
    }
   ],
   "source": [
    "recons_path =  'C:\\\\Users\\\\David\\\\Desktop\\\\KI_Desktop\\\\data_reconstructions\\\\IEM\\\\recs_IEM_trainT_testT_wm3_permissive.npy' \n",
    "\n",
    "Reconstructions = np.load(recons_path, encoding='latin1')\n",
    "\n",
    "print(np.shape(Reconstructions))\n",
    "print(np.shape(Reconstructions[10]))"
   ]
  },
  {
   "cell_type": "code",
   "execution_count": null,
   "metadata": {},
   "outputs": [],
   "source": []
  }
 ],
 "metadata": {
  "kernelspec": {
   "display_name": "Python 3",
   "language": "python",
   "name": "python3"
  },
  "language_info": {
   "codemirror_mode": {
    "name": "ipython",
    "version": 3
   },
   "file_extension": ".py",
   "mimetype": "text/x-python",
   "name": "python",
   "nbconvert_exporter": "python",
   "pygments_lexer": "ipython3",
   "version": "3.5.6"
  }
 },
 "nbformat": 4,
 "nbformat_minor": 2
}
