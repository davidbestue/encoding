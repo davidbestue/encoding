{
 "cells": [
  {
   "cell_type": "code",
   "execution_count": 1,
   "metadata": {},
   "outputs": [],
   "source": [
    "## Analysis of the reconstrcutions after eliminating some channels when training.\n",
    "## This is the analysis of the results coming from the flies: \n",
    "### root = C:\\Users\\David\\Documents\\GitHub\\encoding\\scripts\\wm_representation\\functions\\IEM\\Controls\\trial_by_trial\\\n",
    "########## root + trainT_testT_wm3_remove_permissive.py\n",
    "########## root + trainT_testT_wm3_remove_restrictive.py"
   ]
  },
  {
   "cell_type": "code",
   "execution_count": 2,
   "metadata": {},
   "outputs": [],
   "source": [
    "from linares_plot import *\n",
    "import sys, os\n",
    "import statsmodels.formula.api as smf\n",
    "path_tools = 'C:\\\\Users\\\\David\\\\Documents\\\\GitHub\\\\encoding\\\\scripts\\\\wm_representation\\\\functions\\\\IEM\\\\tools'\n",
    "sys.path.insert(1, path_tools)\n",
    "from timecourse import *\n",
    "from timecourse_c import *\n",
    "from scipy import stats\n",
    "from mlxtend.evaluate import permutation_test"
   ]
  },
  {
   "cell_type": "code",
   "execution_count": 3,
   "metadata": {},
   "outputs": [],
   "source": [
    "%load_ext autoreload\n",
    "%autoreload 2"
   ]
  },
  {
   "cell_type": "code",
   "execution_count": 7,
   "metadata": {},
   "outputs": [],
   "source": [
    "## Heatmap function\n",
    "sep_channels=10\n",
    "adjusted_size_contant = 48.519\n",
    "\n",
    "pos_channels = np.arange(sep_channels/2,360,sep_channels)\n",
    "pos_channels = [round(pos_channels[i],3) for i in range(0, len(pos_channels))]\n",
    "\n",
    "pos_channels2 = np.arange(0,360,0.5)\n",
    "pos_channels2 = [round(pos_channels2[i],3) for i in range(0, len(pos_channels2))]\n",
    "\n",
    "def posch1_to_posch2(ch_1):\n",
    "    return np.where(np.array(pos_channels2) == pos_channels[ch_1])[0][0]\n",
    "\n",
    "\n",
    "def Representation_heatmap(df, condition='1_0.2', min_=None, max_=None, ref_angle=180, TR=2.335, bin_=0.5, fs1=20, fs2=15):\n",
    "    ##\n",
    "    ##\n",
    "    ##### pal_cyan = sns.color_palette(\"RdBu_r\", n_colors=200)[40:] #RdBu_r\n",
    "    pal_cyan = 'viridis'\n",
    "    #\n",
    "    if min_==None:\n",
    "        min_ = np.round(df.mean().mean()-4*df.std().mean(),2)\n",
    "    if max_==None:\n",
    "        max_ = np.round(df.mean().mean()+4*df.std().mean(),2)\n",
    "    #\n",
    "    middle = np.round( min_ + ((abs(max_)+abs(min_))/2), 2)\n",
    "    ##\n",
    "    ##\n",
    "    \n",
    "    plt.figure(figsize=(8,6))\n",
    "    ax = sns.heatmap(df, cmap=pal_cyan, \n",
    "                     vmin=min_, \n",
    "                     vmax=max_,\n",
    "                     cbar=True, \n",
    "                cbar_kws={\"shrink\": .82, 'ticks' : [min_, middle, max_], 'label': 'reconstruction (a.u)'})\n",
    "    ax.figure.axes[-1].yaxis.label.set_size(fs1)\n",
    "    ax.figure.axes[-1].tick_params(labelsize=fs2)\n",
    "    \n",
    "    plt.gca().set_ylabel('')\n",
    "    plt.yticks([posch1_to_posch2(4), posch1_to_posch2(13), posch1_to_posch2(22), posch1_to_posch2(31)],['45','135','225', '315'])\n",
    "\n",
    "    dims=np.shape(df)\n",
    "    dimN = dims[0]\n",
    "    plt.gca().set_ylim(dimN, -45)\n",
    "    \n",
    "    plt.plot([0.5, 0.5], [posch1_to_posch2(18),posch1_to_posch2(18)], markersize=20, color='grey', marker='>')\n",
    "    plt.plot([1, 23.5], [posch1_to_posch2(18),posch1_to_posch2(18)], color='grey', linestyle='--', linewidth=1.5)\n",
    "    \n",
    "    ################################\n",
    "    presentation_period= 0.35 #stim presnetation time\n",
    "    presentation_period_cue=  0.50 #presentation of attentional cue time\n",
    "    pre_stim_period= 0.5 #time between cue and stim\n",
    "    resp_time = 4  #time the response is active\n",
    "    start_hrf = 4  #start of the Hemodynamic response (4seconds)\n",
    "    if condition == '1_0.2':\n",
    "        condition_title = 'o:1, d:0.2'\n",
    "        delay1 = 0.2\n",
    "        delay2 = 11.8\n",
    "        cue=0\n",
    "        t_p = cue + presentation_period_cue + pre_stim_period \n",
    "        d_p = t_p + presentation_period +delay1 \n",
    "        r_t = d_p + presentation_period + delay2\n",
    "        xlim = [1/TR, 25/TR]\n",
    "    elif condition=='1_7':\n",
    "        condition_title = 'o:1, d:7'\n",
    "        delay1 = 7\n",
    "        delay2 = 5\n",
    "        cue=0\n",
    "        t_p = cue + presentation_period_cue + pre_stim_period \n",
    "        d_p = t_p + presentation_period +delay1 \n",
    "        r_t = d_p + presentation_period + delay2\n",
    "        xlim = [1/TR, 25/TR]\n",
    "    elif condition=='2_0.2':\n",
    "        condition_title = 'o:2, d:0.2'\n",
    "        delay1 = 0.2\n",
    "        delay2 = 12\n",
    "        cue=0\n",
    "        d_p = cue + presentation_period_cue + pre_stim_period \n",
    "        t_p = d_p + presentation_period +delay1 \n",
    "        r_t = t_p + presentation_period + delay2   \n",
    "        xlim = [1/TR, 25/TR]\n",
    "    elif condition=='2_7':\n",
    "        condition_title = 'o:2, d:7'\n",
    "        delay1 = 7\n",
    "        delay2 = 12\n",
    "        cue=0\n",
    "        d_p = cue + presentation_period_cue + pre_stim_period \n",
    "        t_p = d_p + presentation_period +delay1 \n",
    "        r_t = t_p + presentation_period + delay2\n",
    "        xlim = [1/TR, 30/TR]\n",
    "    ##\n",
    "    ##\n",
    "    t_p1 = (start_hrf + t_p) ## strat of target (time)\n",
    "    d_p1 = (start_hrf + d_p) ##strat of didtractor (time)\n",
    "    r_p1=  (start_hrf + r_t) ## start of response (time)\n",
    "    ##\n",
    "    plt.plot([t_p1/TR +bin_,t_p1/TR+bin_], [-15,-15], markersize=10, color='grey', marker='v')\n",
    "    plt.plot([d_p1/TR +bin_,d_p1/TR+bin_], [-15,-15], markersize=10, color='darkred', marker='v')\n",
    "    plt.plot([r_p1/TR +bin_,r_p1/TR+bin_], [-15,-15], markersize=10, color='y', marker='v')\n",
    "    plt.gca().set_xlim(xlim)\n",
    "    \n",
    "    plt.xticks(fontsize=fs2)\n",
    "    plt.yticks(fontsize=fs2)\n",
    "    plt.gca().set_ylabel('angle ($^\\circ$)', fontsize=fs1)\n",
    "    plt.gca().set_xlabel('time (s)', fontsize=fs1)\n",
    "    #plt.title(condition_title)\n",
    "    \n",
    "    plt.show()\n"
   ]
  },
  {
   "cell_type": "code",
   "execution_count": 56,
   "metadata": {},
   "outputs": [],
   "source": [
    "### Reconstruction functions\n",
    "\n",
    "def Add_channels(reconstruction, channels):\n",
    "    ## Add channels with activity = 0 for reconstructions \n",
    "    ##\n",
    "    ## Equivalence channel number - center channels space\n",
    "    centers_channels = np.arange(5,365,10)\n",
    "    number_channels = np.arange(1,37,1)\n",
    "    ##\n",
    "    new_reconstruction = np.zeros((16, 36))\n",
    "    #\n",
    "    for idx_i, idx_ch in enumerate(number_channels):\n",
    "        if idx_ch in channels:\n",
    "            new_reconstruction[:, idx_ch-1 ] = reconstruction[:, np.where(channels==idx_ch)[0][0]]\n",
    "        else:\n",
    "            new_reconstruction[:, idx_ch-1 ] = -5\n",
    "    ##\n",
    "    return new_reconstruction \n",
    "\n",
    "\n",
    "\n",
    "def circ_dist(a1,a2):\n",
    "    ## Returns the minimal distance in angles between to angles \n",
    "    op1=abs(a2-a1)\n",
    "    angs=[a1,a2]\n",
    "    op2=min(angs)+(360-max(angs))\n",
    "    options=[op1,op2]\n",
    "    return min(options)\n",
    "\n",
    "\n",
    "def f2(position_target):\n",
    "    list_r=[]\n",
    "    for channel in pos_channels2:\n",
    "        R = round(circ_dist(position_target, channel), 3)\n",
    "        list_r.append(R)\n",
    "    \n",
    "    f_list=[]\n",
    "    for r in list_r:\n",
    "        if r<adjusted_size_contant:\n",
    "            f = ( 0.5 + 0.5*np.cos(r*np.pi/adjusted_size_contant) )**7\n",
    "            f=round(f,3)\n",
    "            f_list.append(f)\n",
    "        else:\n",
    "            f = 0\n",
    "            f_list.append(f)\n",
    "    \n",
    "    return f_list\n",
    "\n",
    "\n",
    "\n",
    "def ch2vrep3(channel):\n",
    "    #Input the channel activity\n",
    "    #Return the visual respresentation of this channel activity\n",
    "    ###\n",
    "    #It multiplies each channel by its corresponding f function --> 36 values\n",
    "    #It sums all the 36 values of the 36 channels  --> 36 values (a way to smooth)\n",
    "    #Equivalent to the population vector\n",
    "    all_basis_functions=[]\n",
    "    for pos, ch_value in enumerate(pos_channels):\n",
    "        a = channel[pos]*np.array( f2(ch_value) )\n",
    "        #a= sum(a)\n",
    "        all_basis_functions.append(a)\n",
    "        #all_basis_functions.append(channel[pos]*array( f2(ch_value)  ))\n",
    "    \n",
    "    \n",
    "    vrep=sum(all_basis_functions)\n",
    "    return vrep\n"
   ]
  },
  {
   "cell_type": "code",
   "execution_count": null,
   "metadata": {},
   "outputs": [],
   "source": []
  },
  {
   "cell_type": "markdown",
   "metadata": {},
   "source": [
    "## Permisive: heatmap of one condition in one subject"
   ]
  },
  {
   "cell_type": "code",
   "execution_count": 57,
   "metadata": {},
   "outputs": [],
   "source": [
    "## Permissive --> 28 of 36 channels"
   ]
  },
  {
   "cell_type": "code",
   "execution_count": 58,
   "metadata": {},
   "outputs": [
    {
     "name": "stdout",
     "output_type": "stream",
     "text": [
      "Reconstructions\n",
      "(24,)\n",
      "(372, 16, 28)\n",
      "\n",
      "Behavior\n",
      "24\n",
      "(372, 46)\n"
     ]
    }
   ],
   "source": [
    "##Load files\n",
    "\n",
    "#### Reconstructions\n",
    "recons_path =  'C:\\\\Users\\\\David\\\\Desktop\\\\KI_Desktop\\\\data_reconstructions\\\\IEM\\\\recs_IEM_trainT_testT_wm3_permissive.npy' \n",
    "Reconstructions = np.load(recons_path, encoding='latin1')\n",
    "print('Reconstructions')\n",
    "print(np.shape(Reconstructions))\n",
    "print(np.shape(Reconstructions[10]))\n",
    "print('')\n",
    "\n",
    "#### behavior\n",
    "beh_path =  'C:\\\\Users\\\\David\\\\Desktop\\\\KI_Desktop\\\\data_reconstructions\\\\IEM\\\\trainT_testT_behaviour_permissive.xlsx' \n",
    "xl = pd.ExcelFile(beh_path)\n",
    "sheet_names = xl.sheet_names\n",
    "print('Behavior')\n",
    "print(len(sheet_names))\n",
    "beh_x = pd.read_excel(beh_path, sheet_name=sheet_names[10])\n",
    "print(np.shape(beh_x))"
   ]
  },
  {
   "cell_type": "code",
   "execution_count": 59,
   "metadata": {},
   "outputs": [
    {
     "name": "stdout",
     "output_type": "stream",
     "text": [
      "0 d001 visual\n",
      "1 d001 ips\n",
      "2 d001 pfc\n",
      "3 d001 broca\n",
      "4 n001 visual\n",
      "5 n001 ips\n",
      "6 n001 pfc\n",
      "7 n001 broca\n",
      "8 b001 visual\n",
      "9 b001 ips\n",
      "10 b001 pfc\n",
      "11 b001 broca\n",
      "12 r001 visual\n",
      "13 r001 ips\n",
      "14 r001 pfc\n",
      "15 r001 broca\n",
      "16 s001 visual\n",
      "17 s001 ips\n",
      "18 s001 pfc\n",
      "19 s001 broca\n",
      "20 l001 visual\n",
      "21 l001 ips\n",
      "22 l001 pfc\n",
      "23 l001 broca\n"
     ]
    }
   ],
   "source": [
    "## Indexes equivalences\n",
    "\n",
    "Subjects=['d001', 'n001', 'b001', 'r001', 's001', 'l001']\n",
    "brain_regions = ['visual','ips', 'pfc', 'broca']\n",
    "\n",
    "index = 0\n",
    "for Subject in Subjects:\n",
    "    for Brain_region in brain_regions:\n",
    "        print(index, Subject, Brain_region)\n",
    "        index += 1"
   ]
  },
  {
   "cell_type": "code",
   "execution_count": 60,
   "metadata": {},
   "outputs": [
    {
     "name": "stdout",
     "output_type": "stream",
     "text": [
      "(372, 16, 28)\n",
      "(372, 46)\n"
     ]
    }
   ],
   "source": [
    "#### Select the subject and the region\n",
    "\n",
    "idx_ = 4 ##  0 --> n001 visual\n",
    "\n",
    "reconstr_trials = np.array(Reconstructions[idx_])\n",
    "beh =  pd.read_excel(beh_path, sheet_name=sheet_names[idx_])\n",
    "\n",
    "print(np.shape(reconstr_trials))\n",
    "print(np.shape(beh))"
   ]
  },
  {
   "cell_type": "code",
   "execution_count": 61,
   "metadata": {},
   "outputs": [
    {
     "name": "stdout",
     "output_type": "stream",
     "text": [
      "Total amount of trials: 372\n",
      "Total amount of trials of the condition: 96\n",
      "(96, 16, 28)\n",
      "(96, 46)\n"
     ]
    }
   ],
   "source": [
    "#### Select the trials of the wanted condition\n",
    "\n",
    "Condition_ = '1_0.2'\n",
    "bool_condition = np.array(beh.Condition==Condition_)\n",
    "print('Total amount of trials: ' + str(len(bool_condition)))\n",
    "print('Total amount of trials of the condition: ' +  str(sum(bool_condition)))\n",
    "\n",
    "reconstr_trials_cond = reconstr_trials[bool_condition]\n",
    "print(np.shape(reconstr_trials_cond))\n",
    "\n",
    "beh_cond = beh.loc[beh['Condition']==Condition_]\n",
    "print(np.shape(beh_cond))\n",
    "\n",
    "targets = beh_cond.T_alone.values\n",
    "\n"
   ]
  },
  {
   "cell_type": "code",
   "execution_count": 62,
   "metadata": {},
   "outputs": [
    {
     "data": {
      "text/plain": [
       "array([ 2,  3,  4,  5,  6,  7,  8, 11, 12, 13, 14, 15, 16, 17, 20, 21, 22,\n",
       "       23, 24, 25, 26, 29, 30, 31, 32, 33, 34, 35])"
      ]
     },
     "execution_count": 62,
     "metadata": {},
     "output_type": "execute_result"
    }
   ],
   "source": [
    "## Specify the channels (starting in 1) --> this comes from the .py file\n",
    "\n",
    "Channels_ = ['ch_2', 'ch_3', 'ch_4', 'ch_5', 'ch_6', 'ch_7', 'ch_8', 'ch_11','ch_12', 'ch_13', 'ch_14', 'ch_15', 'ch_16', 'ch_17', \n",
    "    'ch_20', 'ch_21', 'ch_22', 'ch_23', 'ch_24', 'ch_25', 'ch_26', 'ch_29','ch_30', 'ch_31', 'ch_32', 'ch_33', 'ch_34', 'ch_35']\n",
    "channels = np.array([int(Channels_[n].split('_')[1]) for n in range(len(Channels_))])\n",
    "channels"
   ]
  },
  {
   "cell_type": "code",
   "execution_count": 63,
   "metadata": {
    "scrolled": true
   },
   "outputs": [
    {
     "name": "stdout",
     "output_type": "stream",
     "text": [
      "0\n",
      "1\n",
      "2\n",
      "3\n",
      "4\n",
      "5\n",
      "6\n",
      "7\n",
      "8\n",
      "9\n",
      "10\n",
      "11\n",
      "12\n",
      "13\n",
      "14\n",
      "15\n",
      "16\n",
      "17\n",
      "18\n",
      "19\n",
      "20\n",
      "21\n",
      "22\n",
      "23\n",
      "24\n",
      "25\n",
      "26\n",
      "27\n",
      "28\n",
      "29\n",
      "30\n",
      "31\n",
      "32\n",
      "33\n",
      "34\n",
      "35\n",
      "36\n",
      "37\n",
      "38\n",
      "39\n",
      "40\n",
      "41\n",
      "42\n",
      "43\n",
      "44\n",
      "45\n",
      "46\n",
      "47\n",
      "48\n",
      "49\n",
      "50\n",
      "51\n",
      "52\n",
      "53\n",
      "54\n",
      "55\n",
      "56\n",
      "57\n",
      "58\n",
      "59\n",
      "60\n",
      "61\n",
      "62\n",
      "63\n",
      "64\n",
      "65\n",
      "66\n",
      "67\n",
      "68\n",
      "69\n",
      "70\n",
      "71\n",
      "72\n",
      "73\n",
      "74\n",
      "75\n",
      "76\n",
      "77\n",
      "78\n",
      "79\n",
      "80\n",
      "81\n",
      "82\n",
      "83\n",
      "84\n",
      "85\n",
      "86\n",
      "87\n",
      "88\n",
      "89\n",
      "90\n",
      "91\n",
      "92\n",
      "93\n",
      "94\n",
      "95\n"
     ]
    }
   ],
   "source": [
    "## Add the missing channels and smooth\n",
    "\n",
    "recons_hd = []\n",
    "\n",
    "for i in range(len(reconstr_trials_cond)):\n",
    "    print(i)\n",
    "    reconstruction_trial = reconstr_trials_cond[i]\n",
    "    ## add the channels that are missing (quick)\n",
    "    reconstruction_trial_36 = Add_channels(reconstruction_trial, channels)\n",
    "    \n",
    "    reconstruction_trial_hd  = []\n",
    "    ##\n",
    "    ##\n",
    "    ## Smooth to go from 36 to 720 (takes a while --> 6s per trial aprox) \n",
    "    for TR in range(np.shape(reconstruction_trial_36)[0]):\n",
    "        reconstruction_trial_hd.append(ch2vrep3(reconstruction_trial_36[TR,:]))\n",
    "    #\n",
    "    reconstruction_trial_hd =  np.array(reconstruction_trial_hd )\n",
    "    recons_hd.append(reconstruction_trial_hd)    \n",
    "    \n",
    "   "
   ]
  },
  {
   "cell_type": "code",
   "execution_count": 64,
   "metadata": {},
   "outputs": [
    {
     "data": {
      "text/plain": [
       "(96, 16, 720)"
      ]
     },
     "execution_count": 64,
     "metadata": {},
     "output_type": "execute_result"
    }
   ],
   "source": [
    "np.shape(recons_hd)"
   ]
  },
  {
   "cell_type": "code",
   "execution_count": 65,
   "metadata": {},
   "outputs": [
    {
     "data": {
      "image/png": "[encoded data removed]",
      "text/plain": [
       "<Figure size 576x432 with 2 Axes>"
      ]
     },
     "metadata": {
      "needs_background": "light"
     },
     "output_type": "display_data"
    }
   ],
   "source": [
    "### before aligning\n",
    "recons_hd = np.array(recons_hd)\n",
    "mean_not_align = recons_hd.mean(axis=0)\n",
    "df_not_aligned = pd.DataFrame(mean_not_align.T)\n",
    "Representation_heatmap(df_not_aligned, condition=Condition_, ref_angle=180, TR=2.335, bin_=0.5, fs1=20, fs2=15)"
   ]
  },
  {
   "cell_type": "code",
   "execution_count": null,
   "metadata": {},
   "outputs": [],
   "source": [
    "### before aligning\n",
    "recons_hd = np.array(recons_hd)\n",
    "mean_not_align = recons_hd.mean(axis=0)\n",
    "df_not_aligned = pd.DataFrame(mean_not_align.T)\n",
    "Representation_heatmap(df_not_aligned, condition=Condition_, ref_angle=180, TR=2.335, bin_=0.5, fs1=20, fs2=15)"
   ]
  },
  {
   "cell_type": "code",
   "execution_count": 78,
   "metadata": {},
   "outputs": [
    {
     "data": {
      "image/png": "[encoded data removed]",
      "text/plain": [
       "<Figure size 576x432 with 2 Axes>"
      ]
     },
     "metadata": {
      "needs_background": "light"
     },
     "output_type": "display_data"
    },
    {
     "data": {
      "image/png": "[encoded data removed]",
      "text/plain": [
       "<Figure size 576x432 with 2 Axes>"
      ]
     },
     "metadata": {
      "needs_background": "light"
     },
     "output_type": "display_data"
    }
   ],
   "source": [
    "np.shape(recons_hd)\n",
    "mean_not_align = recons_hd.mean(axis=0)\n",
    "df_not_aligned = pd.DataFrame(mean_not_align.T)\n",
    "Representation_heatmap(df_not_aligned, condition=Condition_, ref_angle=180, TR=2.335, bin_=0.5, fs1=20, fs2=15)\n",
    "\n",
    "mean_not_align_rolled = np.roll(mean_not_align, 45*2, axis=1 ) \n",
    "df_not_aligned_rolled = pd.DataFrame(mean_not_align_rolled.T)\n",
    "Representation_heatmap(df_not_aligned_rolled, condition=Condition_, ref_angle=180, TR=2.335, bin_=0.5, fs1=20, fs2=15)\n"
   ]
  },
  {
   "cell_type": "code",
   "execution_count": null,
   "metadata": {},
   "outputs": [],
   "source": []
  },
  {
   "cell_type": "code",
   "execution_count": 80,
   "metadata": {},
   "outputs": [
    {
     "data": {
      "text/plain": [
       "(16, 720)"
      ]
     },
     "execution_count": 80,
     "metadata": {},
     "output_type": "execute_result"
    }
   ],
   "source": [
    "np.shape(recons_hd[i])"
   ]
  },
  {
   "cell_type": "code",
   "execution_count": 81,
   "metadata": {},
   "outputs": [
    {
     "name": "stdout",
     "output_type": "stream",
     "text": [
      "(720, 16)\n"
     ]
    },
    {
     "data": {
      "image/png": "[encoded data removed]",
      "text/plain": [
       "<Figure size 576x432 with 2 Axes>"
      ]
     },
     "metadata": {
      "needs_background": "light"
     },
     "output_type": "display_data"
    }
   ],
   "source": [
    "## Rotate to align to the target\n",
    "\n",
    "recons_hd = np.array(recons_hd)\n",
    "\n",
    "\n",
    "reconstr_trials_rolled = []\n",
    "\n",
    "for i in range(len(recons_hd)):\n",
    "    reconstruction_trial = recons_hd[i]\n",
    "    ##\n",
    "    angle_trial = beh_cond.T_alone.values[i]\n",
    "    ref_angle=180\n",
    "    to_roll = int( (ref_angle - angle_trial)*(720/360) ) ## degrees to roll\n",
    "    #print(to_roll) \n",
    "    IEM_hd_aligned = np.roll(reconstruction_trial, to_roll, axis=1) ## roll this degree   ##vector of 720\n",
    "    reconstr_trials_rolled.append(IEM_hd_aligned.T)\n",
    "\n",
    "    \n",
    "reconstr_trials_rolled = np.array(reconstr_trials_rolled)\n",
    "    \n",
    "mean_reconstr_cond = reconstr_trials_rolled.mean(axis=0)\n",
    "print(np.shape(mean_reconstr_cond))\n",
    "\n",
    "dfx = pd.DataFrame(mean_reconstr_cond.T)\n",
    "\n",
    "Representation_heatmap(dfx, condition=Condition_, ref_angle=180, TR=2.335, bin_=0.5, fs1=20, fs2=15)"
   ]
  },
  {
   "cell_type": "code",
   "execution_count": null,
   "metadata": {},
   "outputs": [],
   "source": []
  },
  {
   "cell_type": "markdown",
   "metadata": {},
   "source": [
    "## Restrictive: heatmap of one condition in one subject"
   ]
  },
  {
   "cell_type": "code",
   "execution_count": 67,
   "metadata": {},
   "outputs": [],
   "source": [
    "## Restrictive --> 20 of 36 channels"
   ]
  },
  {
   "cell_type": "code",
   "execution_count": 68,
   "metadata": {},
   "outputs": [
    {
     "name": "stdout",
     "output_type": "stream",
     "text": [
      "Reconstructions\n",
      "(24,)\n",
      "(372, 16, 20)\n",
      "\n",
      "Behavior\n",
      "24\n",
      "(372, 46)\n"
     ]
    }
   ],
   "source": [
    "##Load files\n",
    "\n",
    "#### Reconstructions\n",
    "recons_path =  'C:\\\\Users\\\\David\\\\Desktop\\\\KI_Desktop\\\\data_reconstructions\\\\IEM\\\\recs_IEM_trainT_testT_wm3_restrictive.npy' \n",
    "Reconstructions = np.load(recons_path, encoding='latin1')\n",
    "print('Reconstructions')\n",
    "print(np.shape(Reconstructions))\n",
    "print(np.shape(Reconstructions[10]))\n",
    "print('')\n",
    "\n",
    "#### behavior\n",
    "beh_path =  'C:\\\\Users\\\\David\\\\Desktop\\\\KI_Desktop\\\\data_reconstructions\\\\IEM\\\\trainT_testT_behaviour_restrictive.xlsx' \n",
    "xl = pd.ExcelFile(beh_path)\n",
    "sheet_names = xl.sheet_names\n",
    "print('Behavior')\n",
    "print(len(sheet_names))\n",
    "beh_x = pd.read_excel(beh_path, sheet_name=sheet_names[10])\n",
    "print(np.shape(beh_x))"
   ]
  },
  {
   "cell_type": "code",
   "execution_count": 69,
   "metadata": {},
   "outputs": [
    {
     "name": "stdout",
     "output_type": "stream",
     "text": [
      "0 d001 visual\n",
      "1 d001 ips\n",
      "2 d001 pfc\n",
      "3 d001 broca\n",
      "4 n001 visual\n",
      "5 n001 ips\n",
      "6 n001 pfc\n",
      "7 n001 broca\n",
      "8 b001 visual\n",
      "9 b001 ips\n",
      "10 b001 pfc\n",
      "11 b001 broca\n",
      "12 r001 visual\n",
      "13 r001 ips\n",
      "14 r001 pfc\n",
      "15 r001 broca\n",
      "16 s001 visual\n",
      "17 s001 ips\n",
      "18 s001 pfc\n",
      "19 s001 broca\n",
      "20 l001 visual\n",
      "21 l001 ips\n",
      "22 l001 pfc\n",
      "23 l001 broca\n"
     ]
    }
   ],
   "source": [
    "## Indexes equivalences\n",
    "\n",
    "Subjects=['d001', 'n001', 'b001', 'r001', 's001', 'l001']\n",
    "brain_regions = ['visual','ips', 'pfc', 'broca']\n",
    "\n",
    "index = 0\n",
    "for Subject in Subjects:\n",
    "    for Brain_region in brain_regions:\n",
    "        print(index, Subject, Brain_region)\n",
    "        index += 1"
   ]
  },
  {
   "cell_type": "code",
   "execution_count": 70,
   "metadata": {},
   "outputs": [
    {
     "name": "stdout",
     "output_type": "stream",
     "text": [
      "(372, 16, 20)\n",
      "(372, 46)\n"
     ]
    }
   ],
   "source": [
    "#### Select the subject and the region\n",
    "\n",
    "idx_ = 4 ##  0 --> n001 visual\n",
    "\n",
    "reconstr_trials = np.array(Reconstructions[idx_])\n",
    "beh =  pd.read_excel(beh_path, sheet_name=sheet_names[idx_])\n",
    "\n",
    "print(np.shape(reconstr_trials))\n",
    "print(np.shape(beh))"
   ]
  },
  {
   "cell_type": "code",
   "execution_count": 71,
   "metadata": {},
   "outputs": [
    {
     "name": "stdout",
     "output_type": "stream",
     "text": [
      "Total amount of trials: 372\n",
      "Total amount of trials of the condition: 96\n",
      "(96, 16, 20)\n",
      "(96, 46)\n"
     ]
    }
   ],
   "source": [
    "#### Select the trials of the wanted condition\n",
    "\n",
    "Condition_ = '1_0.2'\n",
    "bool_condition = np.array(beh.Condition==Condition_)\n",
    "print('Total amount of trials: ' + str(len(bool_condition)))\n",
    "print('Total amount of trials of the condition: ' +  str(sum(bool_condition)))\n",
    "\n",
    "reconstr_trials_cond = reconstr_trials[bool_condition]\n",
    "print(np.shape(reconstr_trials_cond))\n",
    "\n",
    "beh_cond = beh.loc[beh['Condition']==Condition_]\n",
    "print(np.shape(beh_cond))\n",
    "\n",
    "targets = beh_cond.T_alone.values\n",
    "\n"
   ]
  },
  {
   "cell_type": "code",
   "execution_count": 72,
   "metadata": {},
   "outputs": [
    {
     "data": {
      "text/plain": [
       "array([ 3,  4,  5,  6,  7, 12, 13, 14, 15, 16, 21, 22, 23, 24, 25, 30, 31,\n",
       "       32, 33, 34])"
      ]
     },
     "execution_count": 72,
     "metadata": {},
     "output_type": "execute_result"
    }
   ],
   "source": [
    "## Specify the channels (starting in 1) --> this comes from the .py file\n",
    "\n",
    "Channels_ = ['ch_3', 'ch_4', 'ch_5', 'ch_6', 'ch_7', 'ch_12', 'ch_13', 'ch_14', 'ch_15', 'ch_16',\n",
    "     'ch_21', 'ch_22', 'ch_23', 'ch_24', 'ch_25', 'ch_30', 'ch_31', 'ch_32', 'ch_33', 'ch_34']\n",
    "\n",
    "channels = np.array([int(Channels_[n].split('_')[1]) for n in range(len(Channels_))])\n",
    "channels"
   ]
  },
  {
   "cell_type": "code",
   "execution_count": 73,
   "metadata": {
    "scrolled": true
   },
   "outputs": [
    {
     "name": "stdout",
     "output_type": "stream",
     "text": [
      "0\n",
      "1\n",
      "2\n",
      "3\n",
      "4\n",
      "5\n",
      "6\n",
      "7\n",
      "8\n",
      "9\n",
      "10\n",
      "11\n",
      "12\n",
      "13\n",
      "14\n",
      "15\n",
      "16\n",
      "17\n",
      "18\n",
      "19\n",
      "20\n",
      "21\n",
      "22\n",
      "23\n",
      "24\n",
      "25\n",
      "26\n",
      "27\n",
      "28\n",
      "29\n",
      "30\n",
      "31\n",
      "32\n",
      "33\n",
      "34\n",
      "35\n",
      "36\n",
      "37\n",
      "38\n",
      "39\n",
      "40\n",
      "41\n",
      "42\n",
      "43\n",
      "44\n",
      "45\n",
      "46\n",
      "47\n",
      "48\n",
      "49\n",
      "50\n",
      "51\n",
      "52\n",
      "53\n",
      "54\n",
      "55\n",
      "56\n",
      "57\n",
      "58\n",
      "59\n",
      "60\n",
      "61\n",
      "62\n",
      "63\n",
      "64\n",
      "65\n",
      "66\n",
      "67\n",
      "68\n",
      "69\n",
      "70\n",
      "71\n",
      "72\n",
      "73\n",
      "74\n",
      "75\n",
      "76\n",
      "77\n",
      "78\n",
      "79\n",
      "80\n",
      "81\n",
      "82\n",
      "83\n",
      "84\n",
      "85\n",
      "86\n",
      "87\n",
      "88\n",
      "89\n",
      "90\n",
      "91\n",
      "92\n",
      "93\n",
      "94\n",
      "95\n"
     ]
    }
   ],
   "source": [
    "## Add the missing channels and smooth\n",
    "\n",
    "recons_hd = []\n",
    "\n",
    "for i in range(len(reconstr_trials_cond)):\n",
    "    print(i)\n",
    "    reconstruction_trial = reconstr_trials_cond[i]\n",
    "    ## add the channels that are missing (quick)\n",
    "    reconstruction_trial_36 = Add_channels(reconstruction_trial, channels)\n",
    "    \n",
    "    reconstruction_trial_hd  = []\n",
    "    ##\n",
    "    ##\n",
    "    ## Smooth to go from 36 to 720 (takes a while --> 6s per trial aprox) \n",
    "    for TR in range(np.shape(reconstruction_trial_36)[0]):\n",
    "        reconstruction_trial_hd.append(ch2vrep3(reconstruction_trial_36[TR,:]))\n",
    "    #\n",
    "    reconstruction_trial_hd =  np.array(reconstruction_trial_hd )\n",
    "    recons_hd.append(reconstruction_trial_hd)    \n",
    "    "
   ]
  },
  {
   "cell_type": "code",
   "execution_count": 74,
   "metadata": {},
   "outputs": [
    {
     "data": {
      "image/png": "[encoded data removed]",
      "text/plain": [
       "<Figure size 576x432 with 2 Axes>"
      ]
     },
     "metadata": {
      "needs_background": "light"
     },
     "output_type": "display_data"
    }
   ],
   "source": [
    "### before aligning\n",
    "recons_hd = np.array(recons_hd)\n",
    "mean_not_align = recons_hd.mean(axis=0)\n",
    "df_not_aligned = pd.DataFrame(mean_not_align.T)\n",
    "Representation_heatmap(df_not_aligned, condition=Condition_, ref_angle=180, TR=2.335, bin_=0.5, fs1=20, fs2=15)"
   ]
  },
  {
   "cell_type": "code",
   "execution_count": 75,
   "metadata": {},
   "outputs": [
    {
     "name": "stdout",
     "output_type": "stream",
     "text": [
      "(16, 720)\n"
     ]
    },
    {
     "data": {
      "image/png": "[encoded data removed]",
      "text/plain": [
       "<Figure size 576x432 with 2 Axes>"
      ]
     },
     "metadata": {
      "needs_background": "light"
     },
     "output_type": "display_data"
    }
   ],
   "source": [
    "## Rotate to align to the target\n",
    "\n",
    "recons_hd = np.array(recons_hd)\n",
    "\n",
    "\n",
    "reconstr_trials_rolled = []\n",
    "\n",
    "for i in range(len(recons_hd)):\n",
    "    reconstruction_trial = recons_hd[i].T\n",
    "    ##\n",
    "    angle_trial = beh_cond.T_alone.values[i]\n",
    "    ref_angle=180\n",
    "    to_roll = int( (ref_angle - angle_trial)*(len(reconstruction_trial)/360) ) ## degrees to roll\n",
    "    #print(to_roll) \n",
    "    IEM_hd_aligned = np.roll(reconstruction_trial, to_roll) ## roll this degree   ##vector of 720\n",
    "    reconstr_trials_rolled.append(IEM_hd_aligned.T)\n",
    "\n",
    "    \n",
    "reconstr_trials_rolled = np.array(reconstr_trials_rolled)\n",
    "    \n",
    "mean_reconstr_cond = reconstr_trials_rolled.mean(axis=0)\n",
    "print(np.shape(mean_reconstr_cond))\n",
    "\n",
    "dfx = pd.DataFrame(mean_reconstr_cond.T)\n",
    "\n",
    "Representation_heatmap(dfx, condition=Condition_, ref_angle=180, TR=2.335, bin_=0.5, fs1=20, fs2=15)"
   ]
  },
  {
   "cell_type": "code",
   "execution_count": null,
   "metadata": {},
   "outputs": [],
   "source": []
  },
  {
   "cell_type": "code",
   "execution_count": null,
   "metadata": {},
   "outputs": [],
   "source": []
  },
  {
   "cell_type": "code",
   "execution_count": null,
   "metadata": {},
   "outputs": [],
   "source": []
  },
  {
   "cell_type": "code",
   "execution_count": null,
   "metadata": {},
   "outputs": [],
   "source": []
  },
  {
   "cell_type": "code",
   "execution_count": null,
   "metadata": {},
   "outputs": [],
   "source": []
  },
  {
   "cell_type": "code",
   "execution_count": null,
   "metadata": {},
   "outputs": [],
   "source": []
  },
  {
   "cell_type": "code",
   "execution_count": 11,
   "metadata": {},
   "outputs": [
    {
     "name": "stdout",
     "output_type": "stream",
     "text": [
      "372\n",
      "96\n",
      "(96, 16, 28)\n"
     ]
    }
   ],
   "source": [
    "Condition_ = '1_0.2'\n",
    "bool_condition = np.array(beh.Condition==Condition_)\n",
    "print(len(bool_condition))\n",
    "print(sum(bool_condition))\n",
    "\n",
    "reconstr_trials_cond = reconstr_trials[bool_condition]\n",
    "print(np.shape(reconstr_trials_cond))\n",
    "\n",
    "\n",
    "#mean_reconstr_cond = reconstr_trials_cond.mean(axis=0)\n",
    "#print(np.shape(mean_reconstr_cond))\n",
    "\n"
   ]
  },
  {
   "cell_type": "code",
   "execution_count": 17,
   "metadata": {},
   "outputs": [
    {
     "name": "stdout",
     "output_type": "stream",
     "text": [
      "(96, 46)\n",
      "96\n"
     ]
    }
   ],
   "source": [
    "beh_cond = beh.loc[beh['Condition']==Condition_]\n",
    "print(np.shape(beh_cond))\n",
    "targets = beh_cond.T_alone.values\n",
    "print(len(targets))"
   ]
  },
  {
   "cell_type": "code",
   "execution_count": 36,
   "metadata": {},
   "outputs": [
    {
     "data": {
      "text/plain": [
       "array([ 2,  3,  4,  5,  6,  7,  8, 11, 12, 13, 14, 15, 16, 17, 20, 21, 22,\n",
       "       23, 24, 25, 26, 29, 30, 31, 32, 33, 34, 35])"
      ]
     },
     "execution_count": 36,
     "metadata": {},
     "output_type": "execute_result"
    }
   ],
   "source": [
    "Channels_ = ['ch_2', 'ch_3', 'ch_4', 'ch_5', 'ch_6', 'ch_7', 'ch_8', 'ch_11','ch_12', 'ch_13', 'ch_14', 'ch_15', 'ch_16', 'ch_17', \n",
    "    'ch_20', 'ch_21', 'ch_22', 'ch_23', 'ch_24', 'ch_25', 'ch_26', 'ch_29','ch_30', 'ch_31', 'ch_32', 'ch_33', 'ch_34', 'ch_35']\n",
    "channels = np.array([int(Channels_[n].split('_')[1]) for n in range(len(Channels_))])\n",
    "channels"
   ]
  },
  {
   "cell_type": "code",
   "execution_count": 79,
   "metadata": {},
   "outputs": [],
   "source": [
    "def Add_channels(reconstruction, channels):\n",
    "    ## Add channels with activity = 0 for reconstructions \n",
    "    ##\n",
    "    ## Equivalence channel number - center channels space\n",
    "    centers_channels = np.arange(5,365,10)\n",
    "    number_channels = np.arange(1,37,1)\n",
    "    ##\n",
    "    new_reconstruction = np.zeros((16, 36))\n",
    "    #\n",
    "    for idx_i, idx_ch in enumerate(number_channels):\n",
    "        if idx_ch in channels:\n",
    "            new_reconstruction[:, idx_ch-1 ] = reconstruction[:, np.where(channels==idx_ch)[0][0]]\n",
    "        else:\n",
    "            new_reconstruction[:, idx_ch-1 ] = -4\n",
    "    ##\n",
    "    return new_reconstruction "
   ]
  },
  {
   "cell_type": "code",
   "execution_count": 80,
   "metadata": {},
   "outputs": [
    {
     "data": {
      "text/plain": [
       "(16, 36)"
      ]
     },
     "execution_count": 80,
     "metadata": {},
     "output_type": "execute_result"
    }
   ],
   "source": [
    "NEW = Add_channels(reconstruction, channels)\n",
    "np.shape(NEW)"
   ]
  },
  {
   "cell_type": "code",
   "execution_count": 81,
   "metadata": {},
   "outputs": [
    {
     "data": {
      "text/plain": [
       "<matplotlib.axes._subplots.AxesSubplot at 0x26c08c713c8>"
      ]
     },
     "execution_count": 81,
     "metadata": {},
     "output_type": "execute_result"
    },
    {
     "data": {
      "image/png": "[encoded data removed]",
      "text/plain": [
       "<Figure size 432x288 with 2 Axes>"
      ]
     },
     "metadata": {
      "needs_background": "light"
     },
     "output_type": "display_data"
    }
   ],
   "source": [
    "sns.heatmap(NEW.T)"
   ]
  },
  {
   "cell_type": "code",
   "execution_count": null,
   "metadata": {},
   "outputs": [],
   "source": []
  },
  {
   "cell_type": "code",
   "execution_count": 82,
   "metadata": {},
   "outputs": [],
   "source": [
    "## Smoothing needed functions \n",
    "\n",
    "def circ_dist(a1,a2):\n",
    "    ## Returns the minimal distance in angles between to angles \n",
    "    op1=abs(a2-a1)\n",
    "    angs=[a1,a2]\n",
    "    op2=min(angs)+(360-max(angs))\n",
    "    options=[op1,op2]\n",
    "    return min(options)\n",
    "\n",
    "\n",
    "def f2(position_target):\n",
    "    list_r=[]\n",
    "    for channel in pos_channels2:\n",
    "        R = round(circ_dist(position_target, channel), 3)\n",
    "        list_r.append(R)\n",
    "    \n",
    "    f_list=[]\n",
    "    for r in list_r:\n",
    "        if r<adjusted_size_contant:\n",
    "            f = ( 0.5 + 0.5*np.cos(r*np.pi/adjusted_size_contant) )**7\n",
    "            f=round(f,3)\n",
    "            f_list.append(f)\n",
    "        else:\n",
    "            f = 0\n",
    "            f_list.append(f)\n",
    "    \n",
    "    return f_list\n",
    "\n",
    "\n",
    "\n",
    "def ch2vrep3(channel):\n",
    "    #Input the channel activity\n",
    "    #Return the visual respresentation of this channel activity\n",
    "    ###\n",
    "    #It multiplies each channel by its corresponding f function --> 36 values\n",
    "    #It sums all the 36 values of the 36 channels  --> 36 values (a way to smooth)\n",
    "    #Equivalent to the population vector\n",
    "    all_basis_functions=[]\n",
    "    for pos, ch_value in enumerate(pos_channels):\n",
    "        a = channel[pos]*np.array( f2(ch_value) )\n",
    "        #a= sum(a)\n",
    "        all_basis_functions.append(a)\n",
    "        #all_basis_functions.append(channel[pos]*array( f2(ch_value)  ))\n",
    "    \n",
    "    \n",
    "    vrep=sum(all_basis_functions)\n",
    "    return vrep"
   ]
  },
  {
   "cell_type": "code",
   "execution_count": null,
   "metadata": {},
   "outputs": [],
   "source": []
  },
  {
   "cell_type": "code",
   "execution_count": 83,
   "metadata": {},
   "outputs": [],
   "source": [
    "NEW_hd  = []\n",
    "for TR in range(np.shape(NEW)[0]):\n",
    "    NEW_hd.append(ch2vrep3(NEW[TR,:]))\n",
    "                  \n",
    "reconstr_hd = np.array(NEW_hd)"
   ]
  },
  {
   "cell_type": "code",
   "execution_count": 85,
   "metadata": {},
   "outputs": [
    {
     "data": {
      "text/plain": [
       "<matplotlib.axes._subplots.AxesSubplot at 0x26c0c64fba8>"
      ]
     },
     "execution_count": 85,
     "metadata": {},
     "output_type": "execute_result"
    },
    {
     "data": {
      "image/png": "[encoded data removed]",
      "text/plain": [
       "<Figure size 432x288 with 2 Axes>"
      ]
     },
     "metadata": {
      "needs_background": "light"
     },
     "output_type": "display_data"
    }
   ],
   "source": [
    "sns.heatmap(reconstr_hd.T)"
   ]
  },
  {
   "cell_type": "code",
   "execution_count": null,
   "metadata": {},
   "outputs": [],
   "source": []
  },
  {
   "cell_type": "code",
   "execution_count": 58,
   "metadata": {},
   "outputs": [],
   "source": [
    "def circ_dist(a1,a2):\n",
    "    ## Returns the minimal distance in angles between to angles \n",
    "    op1=abs(a2-a1)\n",
    "    angs=[a1,a2]\n",
    "    op2=min(angs)+(360-max(angs))\n",
    "    options=[op1,op2]\n",
    "    return min(options)\n",
    "\n",
    "\n",
    "def f2(position_target):\n",
    "    list_r=[]\n",
    "    for channel in pos_channels2:\n",
    "        R = round(circ_dist(position_target, channel), 3)\n",
    "        list_r.append(R)\n",
    "    \n",
    "    f_list=[]\n",
    "    for r in list_r:\n",
    "        if r<adjusted_size_contant:\n",
    "            f = ( 0.5 + 0.5*np.cos(r*np.pi/adjusted_size_contant) )**7\n",
    "            f=round(f,3)\n",
    "            f_list.append(f)\n",
    "        else:\n",
    "            f = 0\n",
    "            f_list.append(f)\n",
    "    \n",
    "    return f_list\n",
    "\n",
    "\n",
    "\n",
    "def ch2vrep3(channel):\n",
    "    #Input the channel activity\n",
    "    #Return the visual respresentation of this channel activity\n",
    "    ###\n",
    "    #It multiplies each channel by its corresponding f function --> 36 values\n",
    "    #It sums all the 36 values of the 36 channels  --> 36 values (a way to smooth)\n",
    "    #Equivalent to the population vector\n",
    "    all_basis_functions=[]\n",
    "    for pos, ch_value in enumerate(pos_channels):\n",
    "        a = channel[pos]*np.array( f2(ch_value) )\n",
    "        #a= sum(a)\n",
    "        all_basis_functions.append(a)\n",
    "        #all_basis_functions.append(channel[pos]*array( f2(ch_value)  ))\n",
    "    \n",
    "    \n",
    "    vrep=sum(all_basis_functions)\n",
    "    return vrep"
   ]
  },
  {
   "cell_type": "code",
   "execution_count": null,
   "metadata": {},
   "outputs": [],
   "source": [
    "centers_channels = np.arange(5,365,10)\n",
    "number_channels = np.arange(1,37,1)\n",
    "equivalence = pd.DataFrame({'angle centered': centers_channels, 'number ch':number_channels})\n",
    "equivalence.head()"
   ]
  }
 ],
 "metadata": {
  "kernelspec": {
   "display_name": "Python 3",
   "language": "python",
   "name": "python3"
  },
  "language_info": {
   "codemirror_mode": {
    "name": "ipython",
    "version": 3
   },
   "file_extension": ".py",
   "mimetype": "text/x-python",
   "name": "python",
   "nbconvert_exporter": "python",
   "pygments_lexer": "ipython3",
   "version": "3.5.6"
  }
 },
 "nbformat": 4,
 "nbformat_minor": 2
}
