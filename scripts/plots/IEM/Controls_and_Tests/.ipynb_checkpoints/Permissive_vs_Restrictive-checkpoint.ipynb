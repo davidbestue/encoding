{
 "cells": [
  {
   "cell_type": "code",
   "execution_count": null,
   "metadata": {},
   "outputs": [],
   "source": [
    "## Analysis of the reconstrcutions after eliminating some channels when training.\n",
    "## This is the analysis of the results coming from the flies: \n",
    "### root = C:\\Users\\David\\Documents\\GitHub\\encoding\\scripts\\wm_representation\\functions\\IEM\\Controls\\trial_by_trial\\\n",
    "########## root + trainT_testT_wm3_remove_permissive.py\n",
    "########## root + trainT_testT_wm3_remove_restrictive.py"
   ]
  },
  {
   "cell_type": "code",
   "execution_count": 1,
   "metadata": {},
   "outputs": [],
   "source": [
    "from linares_plot import *\n",
    "import sys, os\n",
    "import statsmodels.formula.api as smf\n",
    "path_tools = 'C:\\\\Users\\\\David\\\\Documents\\\\GitHub\\\\encoding\\\\scripts\\\\wm_representation\\\\functions\\\\IEM\\\\tools'\n",
    "sys.path.insert(1, path_tools)\n",
    "from timecourse import *\n",
    "from timecourse_c import *\n",
    "from scipy import stats\n",
    "from mlxtend.evaluate import permutation_test"
   ]
  },
  {
   "cell_type": "code",
   "execution_count": 2,
   "metadata": {},
   "outputs": [],
   "source": [
    "%load_ext autoreload\n",
    "%autoreload 2"
   ]
  },
  {
   "cell_type": "code",
   "execution_count": 3,
   "metadata": {},
   "outputs": [],
   "source": [
    "## Permissive --> 28 of 36 channels"
   ]
  },
  {
   "cell_type": "code",
   "execution_count": 7,
   "metadata": {},
   "outputs": [
    {
     "name": "stdout",
     "output_type": "stream",
     "text": [
      "Reconstructions\n",
      "(24,)\n",
      "(372, 16, 28)\n",
      "\n",
      "Behavior\n",
      "24\n",
      "(372, 46)\n"
     ]
    }
   ],
   "source": [
    "##Load files\n",
    "\n",
    "#### Reconstructions\n",
    "recons_path =  'C:\\\\Users\\\\David\\\\Desktop\\\\KI_Desktop\\\\data_reconstructions\\\\IEM\\\\recs_IEM_trainT_testT_wm3_permissive.npy' \n",
    "Reconstructions = np.load(recons_path, encoding='latin1')\n",
    "print('Reconstructions')\n",
    "print(np.shape(Reconstructions))\n",
    "print(np.shape(Reconstructions[10]))\n",
    "print('')\n",
    "\n",
    "#### behavior\n",
    "beh_path =  'C:\\\\Users\\\\David\\\\Desktop\\\\KI_Desktop\\\\data_reconstructions\\\\IEM\\\\trainT_testT_behaviour_permissive.xlsx' \n",
    "xl = pd.ExcelFile(beh_path)\n",
    "sheet_names = xl.sheet_names\n",
    "print('Behavior')\n",
    "print(len(sheet_names))\n",
    "beh_x = pd.read_excel(beh_path, sheet_name=sheet_names[10])\n",
    "print(np.shape(beh_x))\n"
   ]
  },
  {
   "cell_type": "code",
   "execution_count": 8,
   "metadata": {},
   "outputs": [
    {
     "name": "stdout",
     "output_type": "stream",
     "text": [
      "0 d001 visual\n",
      "1 d001 ips\n",
      "2 d001 pfc\n",
      "3 d001 broca\n",
      "4 n001 visual\n",
      "5 n001 ips\n",
      "6 n001 pfc\n",
      "7 n001 broca\n",
      "8 b001 visual\n",
      "9 b001 ips\n",
      "10 b001 pfc\n",
      "11 b001 broca\n",
      "12 r001 visual\n",
      "13 r001 ips\n",
      "14 r001 pfc\n",
      "15 r001 broca\n",
      "16 s001 visual\n",
      "17 s001 ips\n",
      "18 s001 pfc\n",
      "19 s001 broca\n",
      "20 l001 visual\n",
      "21 l001 ips\n",
      "22 l001 pfc\n",
      "23 l001 broca\n"
     ]
    }
   ],
   "source": [
    "## Indexes equivalences\n",
    "\n",
    "Subjects=['d001', 'n001', 'b001', 'r001', 's001', 'l001']\n",
    "brain_regions = ['visual','ips', 'pfc', 'broca']\n",
    "\n",
    "index = 0\n",
    "for Subject in Subjects:\n",
    "    for Brain_region in brain_regions:\n",
    "        print(index, Subject, Brain_region)\n",
    "        index += 1\n",
    "        "
   ]
  },
  {
   "cell_type": "code",
   "execution_count": null,
   "metadata": {},
   "outputs": [],
   "source": []
  },
  {
   "cell_type": "code",
   "execution_count": 9,
   "metadata": {},
   "outputs": [],
   "source": [
    "## Heatmap function\n",
    "sep_channels=10\n",
    "adjusted_size_contant = 48.519\n",
    "\n",
    "pos_channels = np.arange(sep_channels/2,360,sep_channels)\n",
    "pos_channels = [round(pos_channels[i],3) for i in range(0, len(pos_channels))]\n",
    "\n",
    "pos_channels2 = np.arange(0,360,0.5)\n",
    "pos_channels2 = [round(pos_channels2[i],3) for i in range(0, len(pos_channels2))]\n",
    "\n",
    "def posch1_to_posch2(ch_1):\n",
    "    return np.where(np.array(pos_channels2) == pos_channels[ch_1])[0][0]\n",
    "\n",
    "\n",
    "def Representation_heatmap(df, condition='1_0.2', min_=None, max_=None, ref_angle=180, TR=2.335, bin_=0.5, fs1=20, fs2=15):\n",
    "    ##\n",
    "    ##\n",
    "    ##### pal_cyan = sns.color_palette(\"RdBu_r\", n_colors=200)[40:] #RdBu_r\n",
    "    pal_cyan = 'viridis'\n",
    "    #\n",
    "    if min_==None:\n",
    "        min_ = np.round(df.mean().mean()-4*df.std().mean(),2)\n",
    "    if max_==None:\n",
    "        max_ = np.round(df.mean().mean()+4*df.std().mean(),2)\n",
    "    #\n",
    "    middle = np.round( min_ + ((abs(max_)+abs(min_))/2), 2)\n",
    "    ##\n",
    "    ##\n",
    "    \n",
    "    plt.figure(figsize=(8,6))\n",
    "    ax = sns.heatmap(df, cmap=pal_cyan, \n",
    "                     vmin=min_, \n",
    "                     vmax=max_,\n",
    "                     cbar=True, \n",
    "                cbar_kws={\"shrink\": .82, 'ticks' : [min_, middle, max_], 'label': 'reconstruction (a.u)'})\n",
    "    ax.figure.axes[-1].yaxis.label.set_size(fs1)\n",
    "    ax.figure.axes[-1].tick_params(labelsize=fs2)\n",
    "    \n",
    "    plt.gca().set_ylabel('')\n",
    "    plt.yticks([posch1_to_posch2(4), posch1_to_posch2(13), posch1_to_posch2(22), posch1_to_posch2(31)],['45','135','225', '315'])\n",
    "\n",
    "    dims=np.shape(df)\n",
    "    dimN = dims[0]\n",
    "    plt.gca().set_ylim(dimN, -45)\n",
    "    \n",
    "    plt.plot([0.5, 0.5], [posch1_to_posch2(18),posch1_to_posch2(18)], markersize=20, color='grey', marker='>')\n",
    "    plt.plot([1, 23.5], [posch1_to_posch2(18),posch1_to_posch2(18)], color='grey', linestyle='--', linewidth=1.5)\n",
    "    \n",
    "    ################################\n",
    "    presentation_period= 0.35 #stim presnetation time\n",
    "    presentation_period_cue=  0.50 #presentation of attentional cue time\n",
    "    pre_stim_period= 0.5 #time between cue and stim\n",
    "    resp_time = 4  #time the response is active\n",
    "    start_hrf = 4  #start of the Hemodynamic response (4seconds)\n",
    "    if condition == '1_0.2':\n",
    "        condition_title = 'o:1, d:0.2'\n",
    "        delay1 = 0.2\n",
    "        delay2 = 11.8\n",
    "        cue=0\n",
    "        t_p = cue + presentation_period_cue + pre_stim_period \n",
    "        d_p = t_p + presentation_period +delay1 \n",
    "        r_t = d_p + presentation_period + delay2\n",
    "        xlim = [1/TR, 25/TR]\n",
    "    elif condition=='1_7':\n",
    "        condition_title = 'o:1, d:7'\n",
    "        delay1 = 7\n",
    "        delay2 = 5\n",
    "        cue=0\n",
    "        t_p = cue + presentation_period_cue + pre_stim_period \n",
    "        d_p = t_p + presentation_period +delay1 \n",
    "        r_t = d_p + presentation_period + delay2\n",
    "        xlim = [1/TR, 25/TR]\n",
    "    elif condition=='2_0.2':\n",
    "        condition_title = 'o:2, d:0.2'\n",
    "        delay1 = 0.2\n",
    "        delay2 = 12\n",
    "        cue=0\n",
    "        d_p = cue + presentation_period_cue + pre_stim_period \n",
    "        t_p = d_p + presentation_period +delay1 \n",
    "        r_t = t_p + presentation_period + delay2   \n",
    "        xlim = [1/TR, 25/TR]\n",
    "    elif condition=='2_7':\n",
    "        condition_title = 'o:2, d:7'\n",
    "        delay1 = 7\n",
    "        delay2 = 12\n",
    "        cue=0\n",
    "        d_p = cue + presentation_period_cue + pre_stim_period \n",
    "        t_p = d_p + presentation_period +delay1 \n",
    "        r_t = t_p + presentation_period + delay2\n",
    "        xlim = [1/TR, 30/TR]\n",
    "    ##\n",
    "    ##\n",
    "    t_p1 = (start_hrf + t_p) ## strat of target (time)\n",
    "    d_p1 = (start_hrf + d_p) ##strat of didtractor (time)\n",
    "    r_p1=  (start_hrf + r_t) ## start of response (time)\n",
    "    ##\n",
    "    plt.plot([t_p1/TR +bin_,t_p1/TR+bin_], [-15,-15], markersize=10, color='grey', marker='v')\n",
    "    plt.plot([d_p1/TR +bin_,d_p1/TR+bin_], [-15,-15], markersize=10, color='darkred', marker='v')\n",
    "    plt.plot([r_p1/TR +bin_,r_p1/TR+bin_], [-15,-15], markersize=10, color='y', marker='v')\n",
    "    plt.gca().set_xlim(xlim)\n",
    "    \n",
    "    plt.xticks(fontsize=fs2)\n",
    "    plt.yticks(fontsize=fs2)\n",
    "    plt.gca().set_ylabel('angle ($^\\circ$)', fontsize=fs1)\n",
    "    plt.gca().set_xlabel('time (s)', fontsize=fs1)\n",
    "    #plt.title(condition_title)\n",
    "    \n",
    "    plt.show()\n"
   ]
  },
  {
   "cell_type": "code",
   "execution_count": null,
   "metadata": {},
   "outputs": [],
   "source": []
  },
  {
   "cell_type": "code",
   "execution_count": 10,
   "metadata": {},
   "outputs": [
    {
     "name": "stdout",
     "output_type": "stream",
     "text": [
      "(372, 16, 28)\n",
      "(372, 46)\n"
     ]
    }
   ],
   "source": [
    "#### Plot heatmap of one condition in one subject\n",
    "\n",
    "idx_ = 4 ##  0 --> n001 visual\n",
    "\n",
    "reconstr_trials = np.array(Reconstructions[idx_])\n",
    "beh =  pd.read_excel(beh_path, sheet_name=sheet_names[idx_])\n",
    "\n",
    "print(np.shape(reconstr_trials))\n",
    "print(np.shape(beh))"
   ]
  },
  {
   "cell_type": "code",
   "execution_count": 11,
   "metadata": {},
   "outputs": [
    {
     "name": "stdout",
     "output_type": "stream",
     "text": [
      "372\n",
      "96\n",
      "(96, 16, 28)\n"
     ]
    }
   ],
   "source": [
    "Condition_ = '1_0.2'\n",
    "bool_condition = np.array(beh.Condition==Condition_)\n",
    "print(len(bool_condition))\n",
    "print(sum(bool_condition))\n",
    "\n",
    "reconstr_trials_cond = reconstr_trials[bool_condition]\n",
    "print(np.shape(reconstr_trials_cond))\n",
    "\n",
    "new_recs =\n",
    "\n",
    "#mean_reconstr_cond = reconstr_trials_cond.mean(axis=0)\n",
    "#print(np.shape(mean_reconstr_cond))\n",
    "\n"
   ]
  },
  {
   "cell_type": "code",
   "execution_count": 17,
   "metadata": {},
   "outputs": [
    {
     "name": "stdout",
     "output_type": "stream",
     "text": [
      "(96, 46)\n",
      "96\n"
     ]
    }
   ],
   "source": [
    "beh_cond = beh.loc[beh['Condition']==Condition_]\n",
    "print(np.shape(beh_cond))\n",
    "targets = beh_cond.T_alone.values\n",
    "print(len(targets))"
   ]
  },
  {
   "cell_type": "code",
   "execution_count": 36,
   "metadata": {},
   "outputs": [
    {
     "data": {
      "text/plain": [
       "array([ 2,  3,  4,  5,  6,  7,  8, 11, 12, 13, 14, 15, 16, 17, 20, 21, 22,\n",
       "       23, 24, 25, 26, 29, 30, 31, 32, 33, 34, 35])"
      ]
     },
     "execution_count": 36,
     "metadata": {},
     "output_type": "execute_result"
    }
   ],
   "source": [
    "Channels_ = ['ch_2', 'ch_3', 'ch_4', 'ch_5', 'ch_6', 'ch_7', 'ch_8', 'ch_11','ch_12', 'ch_13', 'ch_14', 'ch_15', 'ch_16', 'ch_17', \n",
    "    'ch_20', 'ch_21', 'ch_22', 'ch_23', 'ch_24', 'ch_25', 'ch_26', 'ch_29','ch_30', 'ch_31', 'ch_32', 'ch_33', 'ch_34', 'ch_35']\n",
    "channels = np.array([int(Channels_[n].split('_')[1]) for n in range(len(Channels_))])\n",
    "channels"
   ]
  },
  {
   "cell_type": "code",
   "execution_count": 47,
   "metadata": {},
   "outputs": [],
   "source": [
    "def Add_channels(reconstruction, channels):\n",
    "    ## Add channels with activity = 0 for reconstructions \n",
    "    ##\n",
    "    ## Equivalence channel number - center channels space\n",
    "    centers_channels = np.arange(5,365,10)\n",
    "    number_channels = np.arange(1,37,1)\n",
    "    ##\n",
    "    new_reconstruction = np.zeros((16, 36))\n",
    "    #\n",
    "    for idx_i, idx_ch in enumerate(number_channels):\n",
    "        if idx_ch in channels:\n",
    "            new_reconstruction[:, idx_ch-1 ] = reconstruction[:, np.where(channels==idx_ch)[0][0]]\n",
    "        else:\n",
    "            new_reconstruction[:, idx_ch-1 ] = 0\n",
    "    ##\n",
    "    return new_reconstruction "
   ]
  },
  {
   "cell_type": "code",
   "execution_count": 49,
   "metadata": {},
   "outputs": [
    {
     "data": {
      "text/plain": [
       "(16, 36)"
      ]
     },
     "execution_count": 49,
     "metadata": {},
     "output_type": "execute_result"
    }
   ],
   "source": [
    "NEW = Add_channels(reconstruction, channels)\n",
    "np.shape(NEW)"
   ]
  },
  {
   "cell_type": "code",
   "execution_count": 56,
   "metadata": {},
   "outputs": [
    {
     "data": {
      "text/plain": [
       "<matplotlib.axes._subplots.AxesSubplot at 0x26c0df57940>"
      ]
     },
     "execution_count": 56,
     "metadata": {},
     "output_type": "execute_result"
    },
    {
     "data": {
      "image/png": "[encoded data removed]",
      "text/plain": [
       "<Figure size 432x288 with 2 Axes>"
      ]
     },
     "metadata": {
      "needs_background": "light"
     },
     "output_type": "display_data"
    }
   ],
   "source": [
    "sns.heatmap(NEW)"
   ]
  },
  {
   "cell_type": "code",
   "execution_count": null,
   "metadata": {},
   "outputs": [],
   "source": []
  },
  {
   "cell_type": "code",
   "execution_count": null,
   "metadata": {},
   "outputs": [],
   "source": [
    "## SMoothing needed functions \n",
    "\n",
    "def circ_dist(a1,a2):\n",
    "    ## Returns the minimal distance in angles between to angles \n",
    "    op1=abs(a2-a1)\n",
    "    angs=[a1,a2]\n",
    "    op2=min(angs)+(360-max(angs))\n",
    "    options=[op1,op2]\n",
    "    return min(options)\n",
    "\n",
    "\n",
    "def f2(position_target):\n",
    "    list_r=[]\n",
    "    for channel in pos_channels2:\n",
    "        R = round(circ_dist(position_target, channel), 3)\n",
    "        list_r.append(R)\n",
    "    \n",
    "    f_list=[]\n",
    "    for r in list_r:\n",
    "        if r<adjusted_size_contant:\n",
    "            f = ( 0.5 + 0.5*np.cos(r*np.pi/adjusted_size_contant) )**7\n",
    "            f=round(f,3)\n",
    "            f_list.append(f)\n",
    "        else:\n",
    "            f = 0\n",
    "            f_list.append(f)\n",
    "    \n",
    "    return f_list\n",
    "\n",
    "\n",
    "\n",
    "def ch2vrep3(channel):\n",
    "    #Input the channel activity\n",
    "    #Return the visual respresentation of this channel activity\n",
    "    ###\n",
    "    #It multiplies each channel by its corresponding f function --> 36 values\n",
    "    #It sums all the 36 values of the 36 channels  --> 36 values (a way to smooth)\n",
    "    #Equivalent to the population vector\n",
    "    all_basis_functions=[]\n",
    "    for pos, ch_value in enumerate(pos_channels):\n",
    "        a = channel[pos]*np.array( f2(ch_value) )\n",
    "        #a= sum(a)\n",
    "        all_basis_functions.append(a)\n",
    "        #all_basis_functions.append(channel[pos]*array( f2(ch_value)  ))\n",
    "    \n",
    "    \n",
    "    vrep=sum(all_basis_functions)\n",
    "    return vrep"
   ]
  },
  {
   "cell_type": "code",
   "execution_count": null,
   "metadata": {},
   "outputs": [],
   "source": []
  },
  {
   "cell_type": "code",
   "execution_count": 64,
   "metadata": {},
   "outputs": [],
   "source": [
    "NEW_hd  = []\n",
    "for TR in range(np.shape(NEW)[0]):\n",
    "    NEW_hd.append(ch2vrep3(NEW[TR,:]))\n",
    "                  \n",
    "reconstr_hd = np.array(NEW_hd)"
   ]
  },
  {
   "cell_type": "code",
   "execution_count": 65,
   "metadata": {},
   "outputs": [
    {
     "data": {
      "text/plain": [
       "<matplotlib.axes._subplots.AxesSubplot at 0x26c0f5e6860>"
      ]
     },
     "execution_count": 65,
     "metadata": {},
     "output_type": "execute_result"
    },
    {
     "data": {
      "image/png": "[encoded data removed]",
      "text/plain": [
       "<Figure size 432x288 with 2 Axes>"
      ]
     },
     "metadata": {
      "needs_background": "light"
     },
     "output_type": "display_data"
    }
   ],
   "source": [
    "sns.heatmap(reconstr_hd)"
   ]
  },
  {
   "cell_type": "code",
   "execution_count": 60,
   "metadata": {},
   "outputs": [],
   "source": [
    "NEW_hd  = NEW_hd.append(ch2vrep3(NEW[0,:]) #36 to 720"
   ]
  },
  {
   "cell_type": "code",
   "execution_count": null,
   "metadata": {},
   "outputs": [],
   "source": []
  },
  {
   "cell_type": "code",
   "execution_count": 58,
   "metadata": {},
   "outputs": [],
   "source": [
    "def circ_dist(a1,a2):\n",
    "    ## Returns the minimal distance in angles between to angles \n",
    "    op1=abs(a2-a1)\n",
    "    angs=[a1,a2]\n",
    "    op2=min(angs)+(360-max(angs))\n",
    "    options=[op1,op2]\n",
    "    return min(options)\n",
    "\n",
    "\n",
    "def f2(position_target):\n",
    "    list_r=[]\n",
    "    for channel in pos_channels2:\n",
    "        R = round(circ_dist(position_target, channel), 3)\n",
    "        list_r.append(R)\n",
    "    \n",
    "    f_list=[]\n",
    "    for r in list_r:\n",
    "        if r<adjusted_size_contant:\n",
    "            f = ( 0.5 + 0.5*np.cos(r*np.pi/adjusted_size_contant) )**7\n",
    "            f=round(f,3)\n",
    "            f_list.append(f)\n",
    "        else:\n",
    "            f = 0\n",
    "            f_list.append(f)\n",
    "    \n",
    "    return f_list\n",
    "\n",
    "\n",
    "\n",
    "def ch2vrep3(channel):\n",
    "    #Input the channel activity\n",
    "    #Return the visual respresentation of this channel activity\n",
    "    ###\n",
    "    #It multiplies each channel by its corresponding f function --> 36 values\n",
    "    #It sums all the 36 values of the 36 channels  --> 36 values (a way to smooth)\n",
    "    #Equivalent to the population vector\n",
    "    all_basis_functions=[]\n",
    "    for pos, ch_value in enumerate(pos_channels):\n",
    "        a = channel[pos]*np.array( f2(ch_value) )\n",
    "        #a= sum(a)\n",
    "        all_basis_functions.append(a)\n",
    "        #all_basis_functions.append(channel[pos]*array( f2(ch_value)  ))\n",
    "    \n",
    "    \n",
    "    vrep=sum(all_basis_functions)\n",
    "    return vrep"
   ]
  },
  {
   "cell_type": "code",
   "execution_count": null,
   "metadata": {},
   "outputs": [],
   "source": [
    "centers_channels = np.arange(5,365,10)\n",
    "number_channels = np.arange(1,37,1)\n",
    "equivalence = pd.DataFrame({'angle centered': centers_channels, 'number ch':number_channels})\n",
    "equivalence.head()"
   ]
  }
 ],
 "metadata": {
  "kernelspec": {
   "display_name": "Python 3",
   "language": "python",
   "name": "python3"
  },
  "language_info": {
   "codemirror_mode": {
    "name": "ipython",
    "version": 3
   },
   "file_extension": ".py",
   "mimetype": "text/x-python",
   "name": "python",
   "nbconvert_exporter": "python",
   "pygments_lexer": "ipython3",
   "version": "3.5.6"
  }
 },
 "nbformat": 4,
 "nbformat_minor": 2
}
