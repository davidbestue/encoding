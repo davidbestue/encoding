{
 "cells": [
  {
   "cell_type": "markdown",
   "metadata": {},
   "source": [
    "Analyzing data coming from the script: \n",
    "\n",
    "C:\\Users\\David\\Documents\\GitHub\\encoding\\scripts\\wm_representation\\functions\\IEM\\Controls\\trial_by_trial\\trainT_testT_wm3.py"
   ]
  },
  {
   "cell_type": "code",
   "execution_count": 1,
   "metadata": {},
   "outputs": [],
   "source": [
    "from linares_plot import *\n",
    "import sys, os\n",
    "import statsmodels.formula.api as smf\n",
    "path_tools = 'C:\\\\Users\\\\David\\\\Documents\\\\GitHub\\\\encoding\\\\scripts\\\\wm_representation\\\\functions\\\\IEM\\\\tools'\n",
    "sys.path.insert(1, path_tools)\n",
    "from timecourse import *\n",
    "from timecourse_c import *\n",
    "from scipy import stats\n",
    "from mlxtend.evaluate import permutation_test"
   ]
  },
  {
   "cell_type": "code",
   "execution_count": 2,
   "metadata": {},
   "outputs": [],
   "source": [
    "%load_ext autoreload\n",
    "%autoreload 2"
   ]
  },
  {
   "cell_type": "code",
   "execution_count": 24,
   "metadata": {},
   "outputs": [
    {
     "name": "stdout",
     "output_type": "stream",
     "text": [
      "(24,)\n",
      "(372, 16, 720)\n"
     ]
    }
   ],
   "source": [
    "recons_path =  'C:\\\\Users\\\\David\\\\Desktop\\\\KI_Desktop\\\\data_reconstructions\\\\IEM\\\\recs_IEM_trainT_testT_wm3.npy' \n",
    "\n",
    "Reconstructions = np.load(recons_path, encoding='latin1')\n",
    "\n",
    "print(np.shape(Reconstructions))\n",
    "print(np.shape(Reconstructions[10]))"
   ]
  },
  {
   "cell_type": "code",
   "execution_count": 25,
   "metadata": {},
   "outputs": [
    {
     "name": "stdout",
     "output_type": "stream",
     "text": [
      "24\n",
      "(372, 46)\n"
     ]
    }
   ],
   "source": [
    "beh_path =  'C:\\\\Users\\\\David\\\\Desktop\\\\KI_Desktop\\\\data_reconstructions\\\\IEM\\\\trainT_testT_behaviour.xlsx' \n",
    "xl = pd.ExcelFile(beh_path)\n",
    "sheet_names = xl.sheet_names\n",
    "\n",
    "print(len(sheet_names))\n",
    "beh_x = pd.read_excel(beh_path, sheet_name=sheet_names[10])\n",
    "print(np.shape(beh_x))"
   ]
  },
  {
   "cell_type": "code",
   "execution_count": 29,
   "metadata": {},
   "outputs": [
    {
     "name": "stdout",
     "output_type": "stream",
     "text": [
      "0 d001 visual\n",
      "1 d001 ips\n",
      "2 d001 pfc\n",
      "3 d001 broca\n",
      "4 n001 visual\n",
      "5 n001 ips\n",
      "6 n001 pfc\n",
      "7 n001 broca\n",
      "8 b001 visual\n",
      "9 b001 ips\n",
      "10 b001 pfc\n",
      "11 b001 broca\n",
      "12 r001 visual\n",
      "13 r001 ips\n",
      "14 r001 pfc\n",
      "15 r001 broca\n",
      "16 s001 visual\n",
      "17 s001 ips\n",
      "18 s001 pfc\n",
      "19 s001 broca\n",
      "20 l001 visual\n",
      "21 l001 ips\n",
      "22 l001 pfc\n",
      "23 l001 broca\n"
     ]
    }
   ],
   "source": [
    "## Indexes equivalences\n",
    "\n",
    "Subjects=['d001', 'n001', 'b001', 'r001', 's001', 'l001']\n",
    "brain_regions = ['visual','ips', 'pfc', 'broca']\n",
    "\n",
    "index = 0\n",
    "for Subject in Subjects:\n",
    "    for Brain_region in brain_regions:\n",
    "        print(index, Subject, Brain_region)\n",
    "        index += 1\n",
    "        \n"
   ]
  },
  {
   "cell_type": "code",
   "execution_count": null,
   "metadata": {},
   "outputs": [],
   "source": []
  },
  {
   "cell_type": "code",
   "execution_count": 45,
   "metadata": {},
   "outputs": [],
   "source": [
    "## Plot heatmap of one condition in one subject\n",
    "\n",
    "idx_ = 0 ##  0 --> d001 visual\n",
    "\n",
    "reconstr_trials = np.array(Reconstructions[idx_])\n",
    "beh =  pd.read_excel(beh_path, sheet_name=sheet_names[idx_])"
   ]
  },
  {
   "cell_type": "code",
   "execution_count": 46,
   "metadata": {},
   "outputs": [
    {
     "name": "stdout",
     "output_type": "stream",
     "text": [
      "(345, 16, 720)\n",
      "(345, 46)\n"
     ]
    }
   ],
   "source": [
    "print(np.shape(reconstr_trials))\n",
    "print(np.shape(beh))"
   ]
  },
  {
   "cell_type": "code",
   "execution_count": 47,
   "metadata": {},
   "outputs": [
    {
     "name": "stdout",
     "output_type": "stream",
     "text": [
      "345\n",
      "89\n",
      "89\n"
     ]
    }
   ],
   "source": [
    "bool_condition = np.array(beh.Condition=='1_0.2')\n",
    "print(len(bool_condition))\n",
    "print(sum(bool_condition))\n",
    "\n",
    "reconstr_trials_cond = reconstr_trials[bool_condition]\n",
    "print(len(reconstr_trials_cond))"
   ]
  },
  {
   "cell_type": "code",
   "execution_count": null,
   "metadata": {},
   "outputs": [],
   "source": []
  },
  {
   "cell_type": "code",
   "execution_count": null,
   "metadata": {},
   "outputs": [],
   "source": []
  },
  {
   "cell_type": "code",
   "execution_count": 44,
   "metadata": {},
   "outputs": [
    {
     "data": {
      "text/plain": [
       "array([[[ 1.23438428,  1.21713045,  1.20019867, ...,  1.28388294,\n",
       "          1.26847977,  1.24993985],\n",
       "        [ 0.90964628,  0.8810602 ,  0.85299761, ...,  0.99260964,\n",
       "          0.96585059,  0.93660559],\n",
       "        [-0.09847524, -0.11102995, -0.12315017, ..., -0.06090092,\n",
       "         -0.07342823, -0.08592524],\n",
       "        ...,\n",
       "        [ 2.24466597,  2.21036273,  2.17411869, ...,  2.32432687,\n",
       "          2.30213944,  2.27335661],\n",
       "        [ 1.68443962,  1.6553225 ,  1.62437085, ...,  1.75294971,\n",
       "          1.73375595,  1.70922836],\n",
       "        [ 0.10220729,  0.09702348,  0.09211039, ...,  0.11710598,\n",
       "          0.11233574,  0.10723717]],\n",
       "\n",
       "       [[-0.13571039, -0.17845056, -0.22119923, ..., -0.02797029,\n",
       "         -0.06097569, -0.09688243],\n",
       "        [ 0.18432276,  0.14260118,  0.10054076, ...,  0.28823301,\n",
       "          0.25685434,  0.2221414 ],\n",
       "        [ 0.18294147,  0.16484776,  0.14634375, ...,  0.22585909,\n",
       "          0.21334631,  0.19905075],\n",
       "        ...,\n",
       "        [ 0.84407737,  0.83653794,  0.82805253, ...,  0.86109396,\n",
       "          0.85685576,  0.85081831],\n",
       "        [-0.38063301, -0.38092789, -0.38030836, ..., -0.3689153 ,\n",
       "         -0.37457124, -0.37860267],\n",
       "        [-0.72359529, -0.71892209, -0.71330712, ..., -0.73093195,\n",
       "         -0.72994857, -0.72721464]],\n",
       "\n",
       "       [[-1.35737227, -1.37186744, -1.38314124, ..., -1.2972639 ,\n",
       "         -1.32039627, -1.33958102],\n",
       "        [-2.23208156, -2.27242993, -2.31069826, ..., -2.10067675,\n",
       "         -2.14756535, -2.18885693],\n",
       "        [-1.20801038, -1.282805  , -1.35596937, ..., -0.98518779,\n",
       "         -1.06030536, -1.13324644],\n",
       "        ...,\n",
       "        [ 0.57831048,  0.59715758,  0.61505708, ...,  0.51778449,\n",
       "          0.53898224,  0.55864814],\n",
       "        [ 0.14172565,  0.19010574,  0.23573627, ..., -0.00825147,\n",
       "          0.04244256,  0.09295524],\n",
       "        [-0.15987737, -0.13811843, -0.11613753, ..., -0.21980412,\n",
       "         -0.20060244, -0.18054342]],\n",
       "\n",
       "       ...,\n",
       "\n",
       "       [[-0.12258932, -0.10927159, -0.09650135, ..., -0.16240572,\n",
       "         -0.148969  , -0.13593008],\n",
       "        [-0.48150681, -0.46247438, -0.4438754 , ..., -0.53904638,\n",
       "         -0.51989216, -0.50100569],\n",
       "        [-0.28134982, -0.29007648, -0.29826791, ..., -0.25275832,\n",
       "         -0.26272266, -0.27221719],\n",
       "        ...,\n",
       "        [ 1.14611456,  1.12719724,  1.10689957, ...,  1.19207437,\n",
       "          1.17924088,  1.16413698],\n",
       "        [ 0.88387577,  0.86719569,  0.85083898, ...,  0.9306613 ,\n",
       "          0.9153324 ,  0.90022447],\n",
       "        [-0.37622372, -0.3596328 , -0.34178541, ..., -0.42041911,\n",
       "         -0.4076104 , -0.39278705]],\n",
       "\n",
       "       [[-0.42707278, -0.43271956, -0.43712759, ..., -0.40288034,\n",
       "         -0.4120522 , -0.41979877],\n",
       "        [ 1.52858526,  1.48482801,  1.43765962, ...,  1.65012948,\n",
       "          1.6121095 ,  1.57081541],\n",
       "        [ 1.41515567,  1.39265269,  1.36644081, ...,  1.46781641,\n",
       "          1.45318358,  1.43483297],\n",
       "        ...,\n",
       "        [-0.28442716, -0.26230238, -0.2394299 , ..., -0.34879624,\n",
       "         -0.32800589, -0.30605074],\n",
       "        [-0.04432914, -0.0458042 , -0.0467948 , ..., -0.0360571 ,\n",
       "         -0.03936449, -0.04184251],\n",
       "        [-0.02809162, -0.02945586, -0.03049099, ..., -0.02063477,\n",
       "         -0.023591  , -0.02571701]],\n",
       "\n",
       "       [[-0.45745945, -0.46060749, -0.46527922, ..., -0.44620854,\n",
       "         -0.44991267, -0.45374165],\n",
       "        [-1.1841881 , -1.19415413, -1.20414058, ..., -1.13820447,\n",
       "         -1.15571966, -1.17109199],\n",
       "        [-0.96557538, -0.99200246, -1.01726183, ..., -0.86817389,\n",
       "         -0.90332603, -0.9354732 ],\n",
       "        ...,\n",
       "        [ 0.31889211,  0.31564785,  0.31498138, ...,  0.33612351,\n",
       "          0.32860183,  0.32307573],\n",
       "        [-0.50821768, -0.48097559, -0.45134995, ..., -0.57543978,\n",
       "         -0.55567671, -0.53369091],\n",
       "        [ 0.09192664,  0.0889177 ,  0.08520429, ...,  0.09928514,\n",
       "          0.0970651 ,  0.09436665]]])"
      ]
     },
     "execution_count": 44,
     "metadata": {},
     "output_type": "execute_result"
    }
   ],
   "source": [
    "np.array(reconstr_trials)[bool_condition]"
   ]
  },
  {
   "cell_type": "code",
   "execution_count": null,
   "metadata": {},
   "outputs": [],
   "source": [
    "mean_conditio_heatmap = pd.concat(VISUAL).groupby(level=0).mean()"
   ]
  }
 ],
 "metadata": {
  "kernelspec": {
   "display_name": "Python 3",
   "language": "python",
   "name": "python3"
  },
  "language_info": {
   "codemirror_mode": {
    "name": "ipython",
    "version": 3
   },
   "file_extension": ".py",
   "mimetype": "text/x-python",
   "name": "python",
   "nbconvert_exporter": "python",
   "pygments_lexer": "ipython3",
   "version": "3.5.6"
  }
 },
 "nbformat": 4,
 "nbformat_minor": 2
}
