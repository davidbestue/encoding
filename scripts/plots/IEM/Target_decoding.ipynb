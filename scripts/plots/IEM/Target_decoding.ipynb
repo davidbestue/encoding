{
 "cells": [
  {
   "cell_type": "code",
   "execution_count": 4,
   "metadata": {},
   "outputs": [],
   "source": [
    "from linares_plot import *\n",
    "import sys, os\n",
    "path_tools = 'C:\\\\Users\\\\David\\\\Documents\\\\GitHub\\\\encoding\\\\scripts\\\\wm_representation\\\\functions\\\\IEM\\\\tools'\n",
    "sys.path.insert(1, path_tools)\n",
    "import timecourse"
   ]
  },
  {
   "cell_type": "code",
   "execution_count": 6,
   "metadata": {},
   "outputs": [],
   "source": [
    "paths_target=[ 'C:\\\\Users\\\\David\\\\Desktop\\\\KI_Desktop\\\\data_reconstructions\\\\IEM\\\\IEM_trainT_testT.xlsx', \n",
    "               'C:\\\\Users\\\\David\\\\Desktop\\\\KI_Desktop\\\\data_reconstructions\\\\IEM\\\\IEM_trainD_testT.xlsx']\n",
    "\n",
    "paths_target_shuff=[ 'C:\\\\Users\\\\David\\\\Desktop\\\\KI_Desktop\\\\data_reconstructions\\\\IEM\\\\shuff_IEM_trainT_testT.xlsx', \n",
    "                     'C:\\\\Users\\\\David\\\\Desktop\\\\KI_Desktop\\\\data_reconstructions\\\\IEM\\\\shuff_IEM_trainD_testT.xlsx']\n"
   ]
  },
  {
   "cell_type": "code",
   "execution_count": 7,
   "metadata": {},
   "outputs": [],
   "source": [
    "df_target=[] ##target ha sido entrenado en el delay del distractor y viceversa\n",
    "df_target_shuff=[]\n",
    "\n",
    "for PathI in paths_target:\n",
    "    path_save_signal =PathI\n",
    "    #\n",
    "    decoding_item= path_save_signal.split('\\\\')[-1].split('.')[0].split('_')[2][-1]\n",
    "    training_item = path_save_signal.split('\\\\')[-1].split('.')[0].split('_')[1][-1]\n",
    "    #\n",
    "    df_x = pd.read_excel(PathI)\n",
    "    df_x['decoding_item'] = decoding_item\n",
    "    df_x['training_item'] =training_item\n",
    "    \n",
    "    #\n",
    "    df_target.append(df_x)\n",
    "    \n",
    "#\n",
    "df_target=pd.concat(df_target, axis=0)\n",
    "df_target['decoding_item'] = df_target['decoding_item'].replace(['T', 'D'], ['target', 'distractor'])\n",
    "df_target['training_item'] = df_target['training_item'].replace(['T', 'D'], ['target', 'distractor'])\n",
    "\n",
    "\n",
    "####################\n",
    "\n",
    "for PathI in paths_target_shuff:\n",
    "    path_sh_signal =PathI\n",
    "    #\n",
    "    decoding_item= path_sh_signal.split('\\\\')[-1].split('.')[0].split('_')[3][-1]\n",
    "    training_item = path_sh_signal.split('\\\\')[-1].split('.')[0].split('_')[2][-1]\n",
    "    #\n",
    "    df_x = pd.read_excel(PathI)\n",
    "    df_x['decoding_item'] = decoding_item\n",
    "    df_x['training_item'] =training_item\n",
    "    \n",
    "    #\n",
    "    df_target_shuff.append(df_x)\n",
    "    \n",
    "#\n",
    "df_target_shuff=pd.concat(df_target_shuff, axis=0)\n",
    "df_target_shuff['decoding_item'] = df_target_shuff['decoding_item'].replace(['T', 'D'], ['target', 'distractor'])\n",
    "df_target_shuff['training_item'] = df_target_shuff['training_item'].replace(['T', 'D'], ['target', 'distractor'])"
   ]
  },
  {
   "cell_type": "code",
   "execution_count": null,
   "metadata": {},
   "outputs": [],
   "source": []
  }
 ],
 "metadata": {
  "kernelspec": {
   "display_name": "Python 3",
   "language": "python",
   "name": "python3"
  },
  "language_info": {
   "codemirror_mode": {
    "name": "ipython",
    "version": 3
   },
   "file_extension": ".py",
   "mimetype": "text/x-python",
   "name": "python",
   "nbconvert_exporter": "python",
   "pygments_lexer": "ipython3",
   "version": "3.5.6"
  }
 },
 "nbformat": 4,
 "nbformat_minor": 2
}
