{
 "cells": [
  {
   "cell_type": "code",
   "execution_count": 3,
   "metadata": {},
   "outputs": [
    {
     "name": "stdout",
     "output_type": "stream",
     "text": [
      "The autoreload extension is already loaded. To reload it, use:\n",
      "  %reload_ext autoreload\n"
     ]
    }
   ],
   "source": [
    "# Load all dictionaries\n",
    "%matplotlib inline\n",
    "%load_ext autoreload\n",
    "%autoreload 2\n",
    "\n",
    "import os\n",
    "import numpy as np\n",
    "import pandas as pd\n",
    "import matplotlib.pyplot as plt\n",
    "import seaborn as sns\n",
    "import statsmodels.api as sm\n",
    "from sklearn.model_selection import train_test_split\n",
    "import statsmodels.formula.api as smf\n",
    "import scikit_posthocs as sp\n",
    "from scipy.stats import wilcoxon\n",
    "from heatmaps_functions import *\n",
    "from linares_plot import *\n",
    "\n",
    "sns.set_context(\"poster\", font_scale=1.1)\n",
    "sns.set_style(\"ticks\")"
   ]
  },
  {
   "cell_type": "code",
   "execution_count": 4,
   "metadata": {},
   "outputs": [],
   "source": [
    "paths_target=[ 'C:\\\\Users\\\\David\\\\Desktop\\\\KI_Desktop\\\\data_reconstructions\\\\IEM\\\\IEM_target_trtarg_isol.xlsx']\n",
    "paths_target_shuff=[  'C:\\\\Users\\\\David\\\\Desktop\\\\KI_Desktop\\\\data_reconstructions\\\\IEM\\\\shuff_IEM_target_trtarg_isol.xlsx']"
   ]
  },
  {
   "cell_type": "code",
   "execution_count": 5,
   "metadata": {},
   "outputs": [],
   "source": [
    "paths_distractor=[ 'C:\\\\Users\\\\David\\\\Desktop\\\\KI_Desktop\\\\data_reconstructions\\\\IEM\\\\IEM_dist_trtarg_isol.xlsx']\n",
    "paths_distractor_shuff=[  'C:\\\\Users\\\\David\\\\Desktop\\\\KI_Desktop\\\\data_reconstructions\\\\IEM\\\\shuff_IEM_dist_trtarg_isol.xlsx']"
   ]
  },
  {
   "cell_type": "code",
   "execution_count": 10,
   "metadata": {},
   "outputs": [],
   "source": [
    "df_target=[] ##target ha sido entrenado en el delay del distractor y viceversa\n",
    "df_target_shuff=[]\n",
    "\n",
    "for PathI in paths_target:\n",
    "    path_save_signal =PathI\n",
    "    #\n",
    "    dec_thing = path_save_signal.split('\\\\')[-1].split('.')[0].split('_')[1]\n",
    "    training_region = path_save_signal.split('\\\\')[-1].split('.')[0].split('_')[2]\n",
    "    #\n",
    "    df_x = pd.read_excel(PathI)\n",
    "    df_x['item'] = dec_thing\n",
    "    df_x['trained'] =training_region\n",
    "    \n",
    "    #\n",
    "    df_target.append(df_x)\n",
    "    \n",
    "#\n",
    "df_target=pd.concat(df_target, axis=0)\n",
    "df_target['trained'] = df_target['trained'].replace(['trtarg'], ['target'])\n",
    "\n",
    "####################\n",
    "\n",
    "for PathI in paths_target_shuff:\n",
    "    path_save_signal =PathI\n",
    "    #\n",
    "    dec_thing = path_save_signal.split('\\\\')[-1].split('.')[0].split('_')[2]\n",
    "    training_region = path_save_signal.split('\\\\')[-1].split('.')[0].split('_')[3]\n",
    "    #\n",
    "    df_x = pd.read_excel(PathI)\n",
    "    df_x['item'] = dec_thing\n",
    "    df_x['trained'] =training_region\n",
    "    \n",
    "    #\n",
    "    df_target_shuff.append(df_x)\n",
    "    \n",
    "#\n",
    "df_target_shuff=pd.concat(df_target_shuff, axis=0)\n",
    "df_target_shuff['trained'] = df_target_shuff['trained'].replace(['trtarg'], ['target'])"
   ]
  },
  {
   "cell_type": "code",
   "execution_count": 11,
   "metadata": {},
   "outputs": [],
   "source": [
    "df_distractor=[]\n",
    "df_distractor_shuff=[]\n",
    "\n",
    "\n",
    "for PathI in paths_distractor:\n",
    "    path_save_signal =PathI\n",
    "    #\n",
    "    dec_thing = path_save_signal.split('\\\\')[-1].split('.')[0].split('_')[1]\n",
    "    training_region = path_save_signal.split('\\\\')[-1].split('.')[0].split('_')[2]\n",
    "    #\n",
    "    df_x = pd.read_excel(PathI)\n",
    "    df_x['item'] = dec_thing\n",
    "    df_x['trained'] =training_region\n",
    "    #\n",
    "    df_distractor.append(df_x)\n",
    "    \n",
    "#\n",
    "df_distractor=pd.concat(df_distractor, axis=0)\n",
    "df_distractor['trained'] = df_distractor['trained'].replace(['trtarg'], ['target'])\n",
    "\n",
    "\n",
    "####################\n",
    "\n",
    "for PathI in paths_distractor_shuff:\n",
    "    path_save_signal =PathI\n",
    "    #\n",
    "    dec_thing = path_save_signal.split('\\\\')[-1].split('.')[0].split('_')[2]\n",
    "    training_region = path_save_signal.split('\\\\')[-1].split('.')[0].split('_')[3]\n",
    "    #\n",
    "    df_x = pd.read_excel(PathI)\n",
    "    df_x['item'] = dec_thing\n",
    "    df_x['trained'] =training_region\n",
    "    #\n",
    "    df_distractor_shuff.append(df_x)\n",
    "    \n",
    "#\n",
    "df_distractor_shuff=pd.concat(df_distractor_shuff, axis=0)\n",
    "df_distractor_shuff['trained'] = df_distractor_shuff['trained'].replace(['trtarg'], ['target'])\n"
   ]
  },
  {
   "cell_type": "code",
   "execution_count": 13,
   "metadata": {},
   "outputs": [],
   "source": [
    "df = pd.concat([df_target, df_distractor])"
   ]
  },
  {
   "cell_type": "code",
   "execution_count": null,
   "metadata": {},
   "outputs": [],
   "source": []
  }
 ],
 "metadata": {
  "kernelspec": {
   "display_name": "Python 3",
   "language": "python",
   "name": "python3"
  },
  "language_info": {
   "codemirror_mode": {
    "name": "ipython",
    "version": 3
   },
   "file_extension": ".py",
   "mimetype": "text/x-python",
   "name": "python",
   "nbconvert_exporter": "python",
   "pygments_lexer": "ipython3",
   "version": "3.5.6"
  }
 },
 "nbformat": 4,
 "nbformat_minor": 2
}
