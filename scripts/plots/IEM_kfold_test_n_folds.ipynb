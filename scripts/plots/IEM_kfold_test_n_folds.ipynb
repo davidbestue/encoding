{
 "cells": [
  {
   "cell_type": "code",
   "execution_count": 1,
   "metadata": {},
   "outputs": [],
   "source": [
    "# Load all dictionaries\n",
    "%matplotlib inline\n",
    "%load_ext autoreload\n",
    "%autoreload 2\n",
    "\n",
    "import os\n",
    "import numpy as np\n",
    "import pandas as pd\n",
    "import matplotlib.pyplot as plt\n",
    "import seaborn as sns\n",
    "import statsmodels.api as sm\n",
    "from sklearn.model_selection import train_test_split\n",
    "import statsmodels.formula.api as smf\n",
    "import scikit_posthocs as sp\n",
    "from scipy.stats import wilcoxon\n",
    "from heatmaps_functions import *\n",
    "from linares_plot import *\n",
    "\n",
    "sns.set_context(\"poster\", font_scale=1.1)\n",
    "sns.set_style(\"ticks\")"
   ]
  },
  {
   "cell_type": "code",
   "execution_count": 2,
   "metadata": {},
   "outputs": [],
   "source": [
    "## 10 kfolds\n",
    "paths_target=['C:\\\\Users\\\\David\\\\Desktop\\\\KI_Desktop\\\\data_reconstructions\\\\IEM\\\\IEM_target_close_delay_kfold.xlsx']\n",
    "paths_target_shuff=['C:\\\\Users\\\\David\\\\Desktop\\\\KI_Desktop\\\\data_reconstructions\\\\IEM\\\\shuff_IEM_target_close_delay_kfold.xlsx']"
   ]
  },
  {
   "cell_type": "code",
   "execution_count": 3,
   "metadata": {},
   "outputs": [],
   "source": [
    "## 20 kfolds\n",
    "paths_target=['C:\\\\Users\\\\David\\\\Desktop\\\\KI_Desktop\\\\data_reconstructions\\\\IEM\\\\IEM_target_close_delay_kfold_20.xlsx']\n",
    "paths_target_shuff=['C:\\\\Users\\\\David\\\\Desktop\\\\KI_Desktop\\\\data_reconstructions\\\\IEM\\\\shuff_IEM_target_close_delay_kfold_20.xlsx']"
   ]
  },
  {
   "cell_type": "code",
   "execution_count": 9,
   "metadata": {},
   "outputs": [],
   "source": [
    "## 25 kfolds\n",
    "paths_target=['C:\\\\Users\\\\David\\\\Desktop\\\\KI_Desktop\\\\data_reconstructions\\\\IEM\\\\IEM_target_close_delay_kfold_25.xlsx']\n",
    "paths_target_shuff=['C:\\\\Users\\\\David\\\\Desktop\\\\KI_Desktop\\\\data_reconstructions\\\\IEM\\\\shuff_IEM_target_close_delay_kfold_25.xlsx']"
   ]
  },
  {
   "cell_type": "code",
   "execution_count": 15,
   "metadata": {},
   "outputs": [],
   "source": [
    "## 25 kfolds shuffle\n",
    "paths_target=['C:\\\\Users\\\\David\\\\Desktop\\\\KI_Desktop\\\\data_reconstructions\\\\IEM\\\\IEM_target_close_delay_kfold_25s.xlsx']\n",
    "paths_target_shuff=['C:\\\\Users\\\\David\\\\Desktop\\\\KI_Desktop\\\\data_reconstructions\\\\IEM\\\\shuff_IEM_target_close_delay_kfold_25s.xlsx']"
   ]
  },
  {
   "cell_type": "code",
   "execution_count": 2,
   "metadata": {},
   "outputs": [],
   "source": [
    "## leave one out\n",
    "paths_target=['C:\\\\Users\\\\David\\\\Desktop\\\\KI_Desktop\\\\data_reconstructions\\\\IEM\\\\IEM_target_close_delay_l1outt.xlsx']\n",
    "paths_target_shuff=['C:\\\\Users\\\\David\\\\Desktop\\\\KI_Desktop\\\\data_reconstructions\\\\IEM\\\\shuff_IEM_target_close_delay_l1outt.xlsx']"
   ]
  },
  {
   "cell_type": "code",
   "execution_count": 3,
   "metadata": {},
   "outputs": [],
   "source": [
    "df_target=[]\n",
    "df_target_shuff=[]\n",
    "\n",
    "for PathI in paths_target:\n",
    "    path_save_signal =PathI\n",
    "    #\n",
    "    dec_thing = path_save_signal.split('\\\\')[-1].split('.')[0].split('_')[1]\n",
    "    distance = path_save_signal.split('\\\\')[-1].split('.')[0].split('_')[2]\n",
    "    training_region = path_save_signal.split('\\\\')[-1].split('.')[0].split('_')[3]\n",
    "    #\n",
    "    df_x = pd.read_excel(PathI)\n",
    "    df_x['item'] = dec_thing\n",
    "    df_x['trained'] =training_region\n",
    "    df_x['distance'] = distance\n",
    "    #\n",
    "    df_target.append(df_x)\n",
    "    \n",
    "#\n",
    "df_target=pd.concat(df_target, axis=0)\n",
    "\n",
    "####################\n",
    "\n",
    "for PathI in paths_target_shuff:\n",
    "    path_save_signal =PathI\n",
    "    #\n",
    "    dec_thing = path_save_signal.split('\\\\')[-1].split('.')[0].split('_')[2]\n",
    "    distance = path_save_signal.split('\\\\')[-1].split('.')[0].split('_')[3]\n",
    "    training_region = path_save_signal.split('\\\\')[-1].split('.')[0].split('_')[4]\n",
    "    #\n",
    "    df_x = pd.read_excel(PathI)\n",
    "    df_x['item'] = dec_thing\n",
    "    df_x['trained'] =training_region\n",
    "    df_x['distance'] = distance\n",
    "    #\n",
    "    df_target_shuff.append(df_x)\n",
    "    \n",
    "#\n",
    "df_target_shuff=pd.concat(df_target_shuff, axis=0)"
   ]
  },
  {
   "cell_type": "code",
   "execution_count": 4,
   "metadata": {},
   "outputs": [],
   "source": [
    "df=df_target\n",
    "df_shuff = df_target_shuff\n",
    "df['label']= df['item'] + ' ' + df['distance'] \n",
    "df['label'] = df['label'].replace(['target close', 'target far', 'dist close', 'dist far'], ['tc', 'tf', 'dc', 'df'])"
   ]
  },
  {
   "cell_type": "code",
   "execution_count": 5,
   "metadata": {},
   "outputs": [],
   "source": [
    "df_time=[]\n",
    "\n",
    "for cond in [ '1_7']:\n",
    "    for reg in ['visual']:\n",
    "        for subj in ['d001']:\n",
    "            for dist in ['close']: ##falta el close\n",
    "                for trained in ['delay']:\n",
    "                    for item in ['target']:\n",
    "                        for t in df.times.unique(): \n",
    "                            dec_sig = df.loc[(df['region']==reg) & (df['times']== t) & \n",
    "                                   ( df['condition']==cond) & (df['subject']==subj) &  \n",
    "                                   ( df['distance']==dist) & (df['trained']==trained) & \n",
    "                                   ( df['item']==item)]\n",
    "                            #\n",
    "                            dec_shuff = df_shuff.loc[(df_shuff['region']==reg) & (df_shuff['times']== t) & \n",
    "                                   ( df_shuff['condition']==cond) & (df_shuff['subject']==subj) &  \n",
    "                                   ( df_shuff['distance']==dist) & (df_shuff['trained']==trained) & \n",
    "                                   ( df_shuff['item']==item)].decoding.mean()\n",
    "                            #\n",
    "                            decoding_ = dec_sig.decoding.iloc[0]  - dec_shuff\n",
    "                            df_time.append( [t, decoding_, reg, subj, cond, dec_sig.label.iloc[0], item, trained, dist] )   \n",
    "                            ####)\n",
    "#\n",
    "df_time = pd.DataFrame(df_time)\n",
    "df_time.columns=['times', 'decoding', 'region', 'subject', 'condition', 'label', 'item', 'trained', 'distance']\n"
   ]
  },
  {
   "cell_type": "code",
   "execution_count": 6,
   "metadata": {},
   "outputs": [],
   "source": [
    "presentation_period= 0.35 #stim presnetation time\n",
    "presentation_period_cue=  0.50 #presentation of attentional cue time\n",
    "pre_stim_period= 0.5 #time between cue and stim\n",
    "resp_time = 4  #time the response is active\n",
    "\n",
    "\n",
    "def tiemcourse_4_conditions(df_plot, title_plot):\n",
    "    ##\n",
    "    ###\n",
    "    ####   In the input dataframe you need the following columns:\n",
    "    ###  'new_mean', 'inf', 'sup', 'brain_reg', 'time', 'condition'\n",
    "    ## \n",
    "    pal = ['darkblue',  'darkorange',  'darkgreen'] #sns.color_palette(\"tab10\", n_colors=12, desat=1).as_hex()[0:3]\n",
    "    ##\n",
    "    fig = plt.figure(figsize=(12,10))\n",
    "    for indx_c, condition in enumerate(['1_0.2', '1_7', '2_0.2', '2_7']): \n",
    "        #features of the plot for the different conditions. Fixed values\n",
    "        if condition == '1_0.2':\n",
    "            delay1 = 0.2\n",
    "            delay2 = 11.8\n",
    "            cue=0\n",
    "            t_p = cue + presentation_period_cue + pre_stim_period \n",
    "            d_p = t_p + presentation_period +delay1 \n",
    "            r_t = d_p + presentation_period + delay2\n",
    "            xlim = [1, 30]\n",
    "\n",
    "        elif condition == '1_7':\n",
    "            delay1 = 7\n",
    "            delay2 = 5\n",
    "            cue=0\n",
    "            t_p = cue + presentation_period_cue + pre_stim_period \n",
    "            d_p = t_p + presentation_period +delay1 \n",
    "            r_t = d_p + presentation_period + delay2\n",
    "            xlim = [1, 30]\n",
    "\n",
    "        elif condition == '2_0.2':\n",
    "            delay1 = 0.2\n",
    "            delay2 = 12\n",
    "            cue=0\n",
    "            d_p = cue + presentation_period_cue + pre_stim_period \n",
    "            t_p = d_p + presentation_period +delay1 \n",
    "            r_t = t_p + presentation_period + delay2   \n",
    "            xlim = [1, 30]\n",
    "\n",
    "        elif condition == '2_7':\n",
    "            delay1 = 7\n",
    "            delay2 = 12\n",
    "            cue=0\n",
    "            d_p = cue + presentation_period_cue + pre_stim_period \n",
    "            t_p = d_p + presentation_period +delay1 \n",
    "            r_t = t_p + presentation_period + delay2\n",
    "            xlim = [1, 36]\n",
    "\n",
    "\n",
    "        start_hrf = 4 #start of the Hemodynamic response (4seconds)\n",
    "        sec_hdrf = 3 #time it can last\n",
    "\n",
    "        d_p1 = (start_hrf + d_p) ##strat of didtractor (time)\n",
    "        t_p1 = (start_hrf +t_p) ## strat of target (time)\n",
    "        r_t1=  (start_hrf + r_t) ## start of response (time)\n",
    "        #\n",
    "        d_p2 = d_p1 + sec_hdrf # end of distractor (time)\n",
    "        t_p2 = t_p1 + sec_hdrf # end of target (time)\n",
    "        r_t2=  r_t1 + sec_hdrf + resp_time #end of response (time)\n",
    "\n",
    "        y_vl_min = -10 #df_all_by_subj.Decoding.min() #values min and max\n",
    "        y_vl_max = 10 #◙df_all_by_subj.Decoding.max()\n",
    "\n",
    "        #fig = plt.figure()\n",
    "        ax = fig.add_subplot(2,2, indx_c+1) \n",
    "        \n",
    "        data_cond = df_plot.loc[df_plot['condition']==condition ]\n",
    "        sns.lineplot( ax=ax, x=\"times\", y=\"decoding\", hue='region', ci=68,\n",
    "                     hue_order =  ['visual', 'ips', 'pfc'], palette=pal, data=data_cond)\n",
    "        plt.plot([0, 35], [0,0], 'k--')   ## plot chance level (0)\n",
    "        plt.fill_between(  [ t_p1, t_p2 ], [y_vl_min, y_vl_min], [y_vl_max, y_vl_max], color='b', alpha=0.3) #, label='target'  ) #plot aprox time of target\n",
    "        plt.fill_between(  [ d_p1, d_p2 ], [y_vl_min, y_vl_min], [y_vl_max, y_vl_max], color='g', alpha=0.3) #, label='distractor'  ) #plot aprox time of distractor\n",
    "        plt.fill_between(  [ r_t1, r_t2 ], [y_vl_min, y_vl_min], [y_vl_max, y_vl_max], color='y', alpha=0.3) #, label='response'  )   #plot aprox time of response\n",
    "        #\n",
    "        TITLE_BR = condition \n",
    "        plt.title(TITLE_BR) #condition title\n",
    "        plt.gca().spines['right'].set_visible(False) #no right axis\n",
    "        plt.gca().spines['top'].set_visible(False) #no  top axis\n",
    "        plt.gca().get_xaxis().tick_bottom()\n",
    "        plt.gca().get_yaxis().tick_left()\n",
    "        plt.xticks([5,15,25]) #just this tcks\n",
    "        plt.ylim(-20, 20)\n",
    "        plt.yticks([-20, -10, 0 , 10, 20])\n",
    "        plt.xlim(xlim)\n",
    "        plt.ylabel('decoding')\n",
    "        if indx_c==3: #legend in just this condition (to avoid repetitions)       \n",
    "            plt.gca().legend(frameon=False, bbox_to_anchor=(1.1, 1.05), fontsize=15)\n",
    "            plt.xticks([10, 20 ,30])\n",
    "\n",
    "        else:\n",
    "            plt.gca().legend(loc= 1, frameon=False).remove()\n",
    "\n",
    "\n",
    "\n",
    "    ##\n",
    "    plt.suptitle( title_plot, fontsize=18) ## main title\n",
    "    plt.tight_layout(w_pad=1, h_pad=1, rect=[0, 0.03, 1, 0.95]) #correct the space between graphs\n",
    "    plt.show(block=False) #show\n",
    "    \n",
    "\n",
    "    "
   ]
  },
  {
   "cell_type": "code",
   "execution_count": 7,
   "metadata": {},
   "outputs": [
    {
     "data": {
      "image/png": "[encoded data removed]",
      "text/plain": [
       "<Figure size 864x720 with 4 Axes>"
      ]
     },
     "metadata": {
      "needs_background": "light"
     },
     "output_type": "display_data"
    }
   ],
   "source": [
    "df_x = df_time.loc[(df_time['trained']=='delay') & (df_time['item']=='target') ]\n",
    "tiemcourse_4_conditions(df_x , 'TR:delay; I:target')"
   ]
  },
  {
   "cell_type": "code",
   "execution_count": null,
   "metadata": {},
   "outputs": [],
   "source": []
  }
 ],
 "metadata": {
  "kernelspec": {
   "display_name": "Python 3",
   "language": "python",
   "name": "python3"
  },
  "language_info": {
   "codemirror_mode": {
    "name": "ipython",
    "version": 3
   },
   "file_extension": ".py",
   "mimetype": "text/x-python",
   "name": "python",
   "nbconvert_exporter": "python",
   "pygments_lexer": "ipython3",
   "version": "3.5.6"
  }
 },
 "nbformat": 4,
 "nbformat_minor": 2
}
