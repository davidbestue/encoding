{
 "cells": [
  {
   "cell_type": "code",
   "execution_count": 1,
   "metadata": {},
   "outputs": [],
   "source": [
    "# Load all dictionaries\n",
    "%matplotlib inline\n",
    "%load_ext autoreload\n",
    "%autoreload 2\n",
    "\n",
    "import os\n",
    "import numpy as np\n",
    "import pandas as pd\n",
    "import matplotlib.pyplot as plt\n",
    "import seaborn as sns\n",
    "import statsmodels.api as sm\n",
    "from sklearn.model_selection import train_test_split\n",
    "import statsmodels.formula.api as smf\n",
    "import scikit_posthocs as sp\n",
    "from scipy.stats import wilcoxon\n",
    "from heatmaps_functions import *\n",
    "\n",
    "sns.set_context(\"poster\", font_scale=1.1)\n",
    "sns.set_style(\"ticks\")"
   ]
  },
  {
   "cell_type": "code",
   "execution_count": 2,
   "metadata": {},
   "outputs": [],
   "source": [
    "paths_target=[ 'C:\\\\Users\\\\David\\\\Desktop\\\\KI_Desktop\\\\data_reconstructions\\\\IEM\\\\IEM_target_far_stim.xlsx',\n",
    "             'C:\\\\Users\\\\David\\\\Desktop\\\\KI_Desktop\\\\data_reconstructions\\\\IEM\\\\IEM_target_far_delay.xlsx',\n",
    "             'C:\\\\Users\\\\David\\\\Desktop\\\\KI_Desktop\\\\data_reconstructions\\\\IEM\\\\IEM_target_far_resp.xlsx']\n",
    "\n",
    "paths_target_shuff=[ 'C:\\\\Users\\\\David\\\\Desktop\\\\KI_Desktop\\\\data_reconstructions\\\\IEM\\\\shuff_IEM_target_far_stim.xlsx',\n",
    "                    'C:\\\\Users\\\\David\\\\Desktop\\\\KI_Desktop\\\\data_reconstructions\\\\IEM\\\\shuff_IEM_target_far_delay.xlsx',\n",
    "                    'C:\\\\Users\\\\David\\\\Desktop\\\\KI_Desktop\\\\data_reconstructions\\\\IEM\\\\shuff_IEM_target_far_resp.xlsx' ]\n",
    "\n",
    "\n",
    "paths_distractor=[ 'C:\\\\Users\\\\David\\\\Desktop\\\\KI_Desktop\\\\data_reconstructions\\\\IEM\\\\IEM_dist_far_stim.xlsx',\n",
    "             'C:\\\\Users\\\\David\\\\Desktop\\\\KI_Desktop\\\\data_reconstructions\\\\IEM\\\\IEM_dist_far_delay.xlsx',\n",
    "             'C:\\\\Users\\\\David\\\\Desktop\\\\KI_Desktop\\\\data_reconstructions\\\\IEM\\\\IEM_dist_far_resp.xlsx']\n",
    "\n",
    "paths_distractor_shuff=[ 'C:\\\\Users\\\\David\\\\Desktop\\\\KI_Desktop\\\\data_reconstructions\\\\IEM\\\\shuff_IEM_dist_far_stim.xlsx',\n",
    "             'C:\\\\Users\\\\David\\\\Desktop\\\\KI_Desktop\\\\data_reconstructions\\\\IEM\\\\shuff_IEM_dist_far_delay.xlsx',\n",
    "             'C:\\\\Users\\\\David\\\\Desktop\\\\KI_Desktop\\\\data_reconstructions\\\\IEM\\\\shuff_IEM_dist_far_resp.xlsx']"
   ]
  },
  {
   "cell_type": "code",
   "execution_count": 3,
   "metadata": {},
   "outputs": [],
   "source": [
    "df_target=[]\n",
    "df_target_shuff=[]\n",
    "\n",
    "for PathI in paths_target:\n",
    "    path_save_signal =PathI\n",
    "    #\n",
    "    dec_thing = path_save_signal.split('\\\\')[-1].split('.')[0].split('_')[1]\n",
    "    distance = path_save_signal.split('\\\\')[-1].split('.')[0].split('_')[2]\n",
    "    training_region = path_save_signal.split('\\\\')[-1].split('.')[0].split('_')[3]\n",
    "    #\n",
    "    df_x = pd.read_excel(PathI)\n",
    "    df_x['item'] = dec_thing\n",
    "    df_x['trained'] =training_region\n",
    "    df_x['distance'] = distance\n",
    "    #\n",
    "    df_target.append(df_x)\n",
    "    \n",
    "#\n",
    "df_target=pd.concat(df_target, axis=0)\n",
    "\n",
    "####################\n",
    "\n",
    "for PathI in paths_target_shuff:\n",
    "    path_save_signal =PathI\n",
    "    #\n",
    "    dec_thing = path_save_signal.split('\\\\')[-1].split('.')[0].split('_')[1]\n",
    "    distance = path_save_signal.split('\\\\')[-1].split('.')[0].split('_')[2]\n",
    "    training_region = path_save_signal.split('\\\\')[-1].split('.')[0].split('_')[3]\n",
    "    #\n",
    "    df_x = pd.read_excel(PathI)\n",
    "    df_x['item'] = dec_thing\n",
    "    df_x['trained'] =training_region\n",
    "    df_x['distance'] = distance\n",
    "    #\n",
    "    df_target_shuff.append(df_x)\n",
    "    \n",
    "#\n",
    "df_target_shuff=pd.concat(df_target_shuff, axis=0)\n"
   ]
  },
  {
   "cell_type": "code",
   "execution_count": 4,
   "metadata": {},
   "outputs": [],
   "source": [
    "df_distractor=[]\n",
    "df_distractor_shuff=[]\n",
    "\n",
    "\n",
    "for PathI in paths_distractor:\n",
    "    path_save_signal =PathI\n",
    "    #\n",
    "    dec_thing = path_save_signal.split('\\\\')[-1].split('.')[0].split('_')[1]\n",
    "    distance = path_save_signal.split('\\\\')[-1].split('.')[0].split('_')[2]\n",
    "    training_region = path_save_signal.split('\\\\')[-1].split('.')[0].split('_')[3]\n",
    "    #\n",
    "    df_x = pd.read_excel(PathI)\n",
    "    df_x['item'] = dec_thing\n",
    "    df_x['trained'] =training_region\n",
    "    df_x['distance'] = distance\n",
    "    #\n",
    "    df_distractor.append(df_x)\n",
    "    \n",
    "#\n",
    "df_distractor=pd.concat(df_distractor, axis=0)\n",
    "\n",
    "####################\n",
    "\n",
    "for PathI in paths_distractor_shuff:\n",
    "    path_save_signal =PathI\n",
    "    #\n",
    "    dec_thing = path_save_signal.split('\\\\')[-1].split('.')[0].split('_')[1]\n",
    "    distance = path_save_signal.split('\\\\')[-1].split('.')[0].split('_')[2]\n",
    "    training_region = path_save_signal.split('\\\\')[-1].split('.')[0].split('_')[3]\n",
    "    #\n",
    "    df_x = pd.read_excel(PathI)\n",
    "    df_x['item'] = dec_thing\n",
    "    df_x['trained'] =training_region\n",
    "    df_x['distance'] = distance\n",
    "    #\n",
    "    df_distractor_shuff.append(df_x)\n",
    "    \n",
    "#\n",
    "df_distractor_shuff=pd.concat(df_distractor_shuff, axis=0)"
   ]
  },
  {
   "cell_type": "code",
   "execution_count": 5,
   "metadata": {},
   "outputs": [],
   "source": [
    "#### Hay que substract!"
   ]
  },
  {
   "cell_type": "code",
   "execution_count": 6,
   "metadata": {},
   "outputs": [
    {
     "data": {
      "text/html": [
       "<div>\n",
       "<style scoped>\n",
       "    .dataframe tbody tr th:only-of-type {\n",
       "        vertical-align: middle;\n",
       "    }\n",
       "\n",
       "    .dataframe tbody tr th {\n",
       "        vertical-align: top;\n",
       "    }\n",
       "\n",
       "    .dataframe thead th {\n",
       "        text-align: right;\n",
       "    }\n",
       "</style>\n",
       "<table border=\"1\" class=\"dataframe\">\n",
       "  <thead>\n",
       "    <tr style=\"text-align: right;\">\n",
       "      <th></th>\n",
       "      <th>times</th>\n",
       "      <th>decoding</th>\n",
       "      <th>region</th>\n",
       "      <th>subject</th>\n",
       "      <th>condition</th>\n",
       "      <th>label</th>\n",
       "      <th>item</th>\n",
       "      <th>trained</th>\n",
       "      <th>distance</th>\n",
       "    </tr>\n",
       "  </thead>\n",
       "  <tbody>\n",
       "    <tr>\n",
       "      <th>0</th>\n",
       "      <td>0.000</td>\n",
       "      <td>-6.452111</td>\n",
       "      <td>ips</td>\n",
       "      <td>n001</td>\n",
       "      <td>2_0.2</td>\n",
       "      <td>tf</td>\n",
       "      <td>target</td>\n",
       "      <td>stim</td>\n",
       "      <td>far</td>\n",
       "    </tr>\n",
       "    <tr>\n",
       "      <th>1</th>\n",
       "      <td>2.335</td>\n",
       "      <td>-5.357404</td>\n",
       "      <td>ips</td>\n",
       "      <td>n001</td>\n",
       "      <td>2_0.2</td>\n",
       "      <td>tf</td>\n",
       "      <td>target</td>\n",
       "      <td>stim</td>\n",
       "      <td>far</td>\n",
       "    </tr>\n",
       "    <tr>\n",
       "      <th>2</th>\n",
       "      <td>4.670</td>\n",
       "      <td>2.072382</td>\n",
       "      <td>ips</td>\n",
       "      <td>n001</td>\n",
       "      <td>2_0.2</td>\n",
       "      <td>tf</td>\n",
       "      <td>target</td>\n",
       "      <td>stim</td>\n",
       "      <td>far</td>\n",
       "    </tr>\n",
       "    <tr>\n",
       "      <th>3</th>\n",
       "      <td>7.005</td>\n",
       "      <td>10.049902</td>\n",
       "      <td>ips</td>\n",
       "      <td>n001</td>\n",
       "      <td>2_0.2</td>\n",
       "      <td>tf</td>\n",
       "      <td>target</td>\n",
       "      <td>stim</td>\n",
       "      <td>far</td>\n",
       "    </tr>\n",
       "    <tr>\n",
       "      <th>4</th>\n",
       "      <td>9.340</td>\n",
       "      <td>7.811707</td>\n",
       "      <td>ips</td>\n",
       "      <td>n001</td>\n",
       "      <td>2_0.2</td>\n",
       "      <td>tf</td>\n",
       "      <td>target</td>\n",
       "      <td>stim</td>\n",
       "      <td>far</td>\n",
       "    </tr>\n",
       "  </tbody>\n",
       "</table>\n",
       "</div>"
      ],
      "text/plain": [
       "   times   decoding region subject condition label    item trained distance\n",
       "0  0.000  -6.452111    ips    n001     2_0.2    tf  target    stim      far\n",
       "1  2.335  -5.357404    ips    n001     2_0.2    tf  target    stim      far\n",
       "2  4.670   2.072382    ips    n001     2_0.2    tf  target    stim      far\n",
       "3  7.005  10.049902    ips    n001     2_0.2    tf  target    stim      far\n",
       "4  9.340   7.811707    ips    n001     2_0.2    tf  target    stim      far"
      ]
     },
     "execution_count": 6,
     "metadata": {},
     "output_type": "execute_result"
    }
   ],
   "source": [
    "df = pd.concat([df_target, df_distractor])\n",
    "df['label']= df['item'] + ' ' + df['distance'] \n",
    "df['label'] = df['label'].replace(['target close', 'target far', 'dist close', 'dist far'], ['tc', 'tf', 'dc', 'df'])\n",
    "df.head()"
   ]
  },
  {
   "cell_type": "code",
   "execution_count": 7,
   "metadata": {},
   "outputs": [
    {
     "data": {
      "text/html": [
       "<div>\n",
       "<style scoped>\n",
       "    .dataframe tbody tr th:only-of-type {\n",
       "        vertical-align: middle;\n",
       "    }\n",
       "\n",
       "    .dataframe tbody tr th {\n",
       "        vertical-align: top;\n",
       "    }\n",
       "\n",
       "    .dataframe thead th {\n",
       "        text-align: right;\n",
       "    }\n",
       "</style>\n",
       "<table border=\"1\" class=\"dataframe\">\n",
       "  <thead>\n",
       "    <tr style=\"text-align: right;\">\n",
       "      <th></th>\n",
       "      <th>times</th>\n",
       "      <th>decoding</th>\n",
       "      <th>region</th>\n",
       "      <th>subject</th>\n",
       "      <th>condition</th>\n",
       "      <th>label</th>\n",
       "      <th>item</th>\n",
       "      <th>trained</th>\n",
       "      <th>distance</th>\n",
       "    </tr>\n",
       "  </thead>\n",
       "  <tbody>\n",
       "    <tr>\n",
       "      <th>0</th>\n",
       "      <td>0.000</td>\n",
       "      <td>-0.470339</td>\n",
       "      <td>visual</td>\n",
       "      <td>d001</td>\n",
       "      <td>1_0.2</td>\n",
       "      <td>IEM target</td>\n",
       "      <td>IEM</td>\n",
       "      <td>far</td>\n",
       "      <td>target</td>\n",
       "    </tr>\n",
       "    <tr>\n",
       "      <th>1</th>\n",
       "      <td>2.335</td>\n",
       "      <td>-0.465293</td>\n",
       "      <td>visual</td>\n",
       "      <td>d001</td>\n",
       "      <td>1_0.2</td>\n",
       "      <td>IEM target</td>\n",
       "      <td>IEM</td>\n",
       "      <td>far</td>\n",
       "      <td>target</td>\n",
       "    </tr>\n",
       "    <tr>\n",
       "      <th>2</th>\n",
       "      <td>4.670</td>\n",
       "      <td>0.306104</td>\n",
       "      <td>visual</td>\n",
       "      <td>d001</td>\n",
       "      <td>1_0.2</td>\n",
       "      <td>IEM target</td>\n",
       "      <td>IEM</td>\n",
       "      <td>far</td>\n",
       "      <td>target</td>\n",
       "    </tr>\n",
       "    <tr>\n",
       "      <th>3</th>\n",
       "      <td>7.005</td>\n",
       "      <td>0.230864</td>\n",
       "      <td>visual</td>\n",
       "      <td>d001</td>\n",
       "      <td>1_0.2</td>\n",
       "      <td>IEM target</td>\n",
       "      <td>IEM</td>\n",
       "      <td>far</td>\n",
       "      <td>target</td>\n",
       "    </tr>\n",
       "    <tr>\n",
       "      <th>4</th>\n",
       "      <td>9.340</td>\n",
       "      <td>-0.279853</td>\n",
       "      <td>visual</td>\n",
       "      <td>d001</td>\n",
       "      <td>1_0.2</td>\n",
       "      <td>IEM target</td>\n",
       "      <td>IEM</td>\n",
       "      <td>far</td>\n",
       "      <td>target</td>\n",
       "    </tr>\n",
       "  </tbody>\n",
       "</table>\n",
       "</div>"
      ],
      "text/plain": [
       "   times  decoding  region subject condition       label item trained distance\n",
       "0  0.000 -0.470339  visual    d001     1_0.2  IEM target  IEM     far   target\n",
       "1  2.335 -0.465293  visual    d001     1_0.2  IEM target  IEM     far   target\n",
       "2  4.670  0.306104  visual    d001     1_0.2  IEM target  IEM     far   target\n",
       "3  7.005  0.230864  visual    d001     1_0.2  IEM target  IEM     far   target\n",
       "4  9.340 -0.279853  visual    d001     1_0.2  IEM target  IEM     far   target"
      ]
     },
     "execution_count": 7,
     "metadata": {},
     "output_type": "execute_result"
    }
   ],
   "source": [
    "df_shuff = pd.concat([df_target_shuff, df_distractor_shuff])\n",
    "df_shuff['label']= df_shuff['item'] + ' ' + df_shuff['distance'] \n",
    "df_shuff['label'] = df_shuff['label'].replace(['target close', 'target far', 'dist close', 'dist far'], ['tc', 'tf', 'dc', 'df'])\n",
    "df_shuff.head()"
   ]
  },
  {
   "cell_type": "code",
   "execution_count": 8,
   "metadata": {},
   "outputs": [
    {
     "data": {
      "text/plain": [
       "9.34"
      ]
     },
     "execution_count": 8,
     "metadata": {},
     "output_type": "execute_result"
    }
   ],
   "source": [
    "5*2.335\n",
    "df.loc[(df['region']=='visual') &  (df['times']==9.34)]\n",
    "df_shuff.loc[(df_shuff['region']=='visual') &  (df_shuff['times']==9.34)]"
   ]
  },
  {
   "cell_type": "code",
   "execution_count": 15,
   "metadata": {},
   "outputs": [
    {
     "data": {
      "text/plain": [
       "11.675"
      ]
     },
     "execution_count": 15,
     "metadata": {},
     "output_type": "execute_result"
    }
   ],
   "source": [
    "5*2.335"
   ]
  },
  {
   "cell_type": "code",
   "execution_count": 16,
   "metadata": {},
   "outputs": [
    {
     "name": "stderr",
     "output_type": "stream",
     "text": [
      "C:\\Users\\David\\Anaconda3\\envs\\python3\\lib\\site-packages\\scipy\\stats\\stats.py:1713: FutureWarning: Using a non-tuple sequence for multidimensional indexing is deprecated; use `arr[tuple(seq)]` instead of `arr[seq]`. In the future this will be interpreted as an array index, `arr[np.array(seq)]`, which will result either in an error or a different result.\n",
      "  return np.add.reduce(sorted[indexer] * weights, axis=axis) / sumval\n"
     ]
    },
    {
     "data": {
      "image/png": "[encoded data removed]",
      "text/plain": [
       "<Figure size 432x288 with 1 Axes>"
      ]
     },
     "metadata": {
      "needs_background": "light"
     },
     "output_type": "display_data"
    }
   ],
   "source": [
    "dfn = df.loc[(df['region']=='pfc') &  (df['times']==11.675) ]\n",
    "\n",
    "sns.barplot(x='label', y='decoding', hue='trained', data=dfn, ci=68, palette=['lightblue', 'peachpuff'])\n",
    "plt.gca().spines['right'].set_visible(False)  # aesthetics                                                                              # remove right spines\n",
    "plt.gca().spines['top'].set_visible(False)                                                                                  # remove top spines\n",
    "plt.gca().get_xaxis().tick_bottom()                                                                                         \n",
    "plt.gca().get_yaxis().tick_left()\n",
    "plt.gca().tick_params(direction='in') #direction\n",
    "plt.legend(loc='best', frameon=False, prop={'size': 18})\n",
    "plt.xticks(rotation=0)\n",
    "plt.show()\n"
   ]
  },
  {
   "cell_type": "code",
   "execution_count": null,
   "metadata": {},
   "outputs": [],
   "source": [
    "## Colapsandolo todo: Condition y area\n",
    "sns.barplot(x='label', y='decoding', hue='trained', data=df, ci=68, palette=['lightblue', 'peachpuff'])\n",
    "plt.gca().spines['right'].set_visible(False)  # aesthetics                                                                              # remove right spines\n",
    "plt.gca().spines['top'].set_visible(False)                                                                                  # remove top spines\n",
    "plt.gca().get_xaxis().tick_bottom()                                                                                         \n",
    "plt.gca().get_yaxis().tick_left()\n",
    "plt.gca().tick_params(direction='in') #direction\n",
    "plt.legend(loc='best', frameon=False, prop={'size': 18})\n",
    "plt.xticks(rotation=0)\n",
    "plt.show()"
   ]
  }
 ],
 "metadata": {
  "kernelspec": {
   "display_name": "Python 3",
   "language": "python",
   "name": "python3"
  },
  "language_info": {
   "codemirror_mode": {
    "name": "ipython",
    "version": 3
   },
   "file_extension": ".py",
   "mimetype": "text/x-python",
   "name": "python",
   "nbconvert_exporter": "python",
   "pygments_lexer": "ipython3",
   "version": "3.5.6"
  }
 },
 "nbformat": 4,
 "nbformat_minor": 2
}
