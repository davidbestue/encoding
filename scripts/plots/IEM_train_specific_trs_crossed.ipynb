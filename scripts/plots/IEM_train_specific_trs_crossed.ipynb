{
 "cells": [
  {
   "cell_type": "code",
   "execution_count": 1,
   "metadata": {},
   "outputs": [],
   "source": [
    "# Load all dictionaries\n",
    "%matplotlib inline\n",
    "%load_ext autoreload\n",
    "%autoreload 2\n",
    "\n",
    "import os\n",
    "import numpy as np\n",
    "import pandas as pd\n",
    "import matplotlib.pyplot as plt\n",
    "import seaborn as sns\n",
    "import statsmodels.api as sm\n",
    "from sklearn.model_selection import train_test_split\n",
    "import statsmodels.formula.api as smf\n",
    "import scikit_posthocs as sp\n",
    "from scipy.stats import wilcoxon\n",
    "from heatmaps_functions import *\n",
    "from linares_plot import *\n",
    "\n",
    "sns.set_context(\"poster\", font_scale=1.1)\n",
    "sns.set_style(\"ticks\")"
   ]
  },
  {
   "cell_type": "code",
   "execution_count": null,
   "metadata": {},
   "outputs": [],
   "source": [
    "paths_target=[ 'C:\\\\Users\\\\David\\\\Desktop\\\\KI_Desktop\\\\data_reconstructions\\\\IEM\\\\IEM_target_far_stim_100.xlsx',\n",
    "             'C:\\\\Users\\\\David\\\\Desktop\\\\KI_Desktop\\\\data_reconstructions\\\\IEM\\\\IEM_target_far_delay_100.xlsx',\n",
    "             'C:\\\\Users\\\\David\\\\Desktop\\\\KI_Desktop\\\\data_reconstructions\\\\IEM\\\\IEM_target_far_resp_100.xlsx',\n",
    "              \n",
    "              'C:\\\\Users\\\\David\\\\Desktop\\\\KI_Desktop\\\\data_reconstructions\\\\IEM\\\\IEM_target_close_stim_100.xlsx',\n",
    "             'C:\\\\Users\\\\David\\\\Desktop\\\\KI_Desktop\\\\data_reconstructions\\\\IEM\\\\IEM_target_close_delay_100.xlsx',\n",
    "             'C:\\\\Users\\\\David\\\\Desktop\\\\KI_Desktop\\\\data_reconstructions\\\\IEM\\\\IEM_target_close_resp_100.xlsx']\n",
    "\n",
    "paths_target_shuff=[ 'C:\\\\Users\\\\David\\\\Desktop\\\\KI_Desktop\\\\data_reconstructions\\\\IEM\\\\shuff_IEM_target_far_stim_100.xlsx',\n",
    "                    'C:\\\\Users\\\\David\\\\Desktop\\\\KI_Desktop\\\\data_reconstructions\\\\IEM\\\\shuff_IEM_target_far_delay_100.xlsx',\n",
    "                    'C:\\\\Users\\\\David\\\\Desktop\\\\KI_Desktop\\\\data_reconstructions\\\\IEM\\\\shuff_IEM_target_far_resp_100.xlsx',\n",
    "                    \n",
    "                    'C:\\\\Users\\\\David\\\\Desktop\\\\KI_Desktop\\\\data_reconstructions\\\\IEM\\\\shuff_IEM_target_close_stim_100.xlsx',\n",
    "                    'C:\\\\Users\\\\David\\\\Desktop\\\\KI_Desktop\\\\data_reconstructions\\\\IEM\\\\shuff_IEM_target_close_delay_100.xlsx',\n",
    "                    'C:\\\\Users\\\\David\\\\Desktop\\\\KI_Desktop\\\\data_reconstructions\\\\IEM\\\\shuff_IEM_target_close_resp_100.xlsx']"
   ]
  },
  {
   "cell_type": "code",
   "execution_count": null,
   "metadata": {},
   "outputs": [],
   "source": [
    "paths_distractor=[ 'C:\\\\Users\\\\David\\\\Desktop\\\\KI_Desktop\\\\data_reconstructions\\\\IEM\\\\IEM_dist_far_stim_100.xlsx', \n",
    "                  'C:\\\\Users\\\\David\\\\Desktop\\\\KI_Desktop\\\\data_reconstructions\\\\IEM\\\\IEM_dist_far_delay_100.xlsx', \n",
    "                  'C:\\\\Users\\\\David\\\\Desktop\\\\KI_Desktop\\\\data_reconstructions\\\\IEM\\\\IEM_dist_far_resp_100.xlsx',\n",
    "                  \n",
    "                  'C:\\\\Users\\\\David\\\\Desktop\\\\KI_Desktop\\\\data_reconstructions\\\\IEM\\\\IEM_dist_close_stim_100.xlsx', \n",
    "                  'C:\\\\Users\\\\David\\\\Desktop\\\\KI_Desktop\\\\data_reconstructions\\\\IEM\\\\IEM_dist_close_delay_100.xlsx', \n",
    "                  'C:\\\\Users\\\\David\\\\Desktop\\\\KI_Desktop\\\\data_reconstructions\\\\IEM\\\\IEM_dist_close_resp_100.xlsx']\n",
    "\n",
    "paths_distractor_shuff=[ 'C:\\\\Users\\\\David\\\\Desktop\\\\KI_Desktop\\\\data_reconstructions\\\\IEM\\\\shuff_IEM_dist_far_stim_100.xlsx', \n",
    "                        'C:\\\\Users\\\\David\\\\Desktop\\\\KI_Desktop\\\\data_reconstructions\\\\IEM\\\\shuff_IEM_dist_far_delay_100.xlsx', \n",
    "                        'C:\\\\Users\\\\David\\\\Desktop\\\\KI_Desktop\\\\data_reconstructions\\\\IEM\\\\shuff_IEM_dist_far_resp_100.xlsx',\n",
    "                        \n",
    "                        'C:\\\\Users\\\\David\\\\Desktop\\\\KI_Desktop\\\\data_reconstructions\\\\IEM\\\\shuff_IEM_dist_close_stim_100.xlsx', \n",
    "                        'C:\\\\Users\\\\David\\\\Desktop\\\\KI_Desktop\\\\data_reconstructions\\\\IEM\\\\shuff_IEM_dist_close_delay_100.xlsx', \n",
    "                        'C:\\\\Users\\\\David\\\\Desktop\\\\KI_Desktop\\\\data_reconstructions\\\\IEM\\\\shuff_IEM_dist_close_resp_100.xlsx']"
   ]
  }
 ],
 "metadata": {
  "kernelspec": {
   "display_name": "Python 3",
   "language": "python",
   "name": "python3"
  },
  "language_info": {
   "codemirror_mode": {
    "name": "ipython",
    "version": 3
   },
   "file_extension": ".py",
   "mimetype": "text/x-python",
   "name": "python",
   "nbconvert_exporter": "python",
   "pygments_lexer": "ipython3",
   "version": "3.5.6"
  }
 },
 "nbformat": 4,
 "nbformat_minor": 2
}
